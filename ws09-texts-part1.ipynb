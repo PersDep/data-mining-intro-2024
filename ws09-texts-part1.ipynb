{
  "cells": [
    {
      "cell_type": "markdown",
      "metadata": {
        "id": "KbHlWheTvTYi"
      },
      "source": [
        "# Семинар 11: обработка текстовых данных\n",
        "\n",
        "## Вступление\n",
        "Многие практические задачи так или иначе могут вовлекать в себя работу с текстовыми данными, например:\n",
        "\n",
        "- классификация текстов\n",
        "    - анализ тональности (например, позитивный/негативный отзыв)\n",
        "    - фильтрация спама\n",
        "    - по теме или жанру\n",
        "- машинный перевод\n",
        "- распознавание и синтез речи\n",
        "- извлечение информации\n",
        "    - именованные сущности (например, извлечение имен, локаций, названий организаций)\n",
        "    - извлечение фактов и событий\n",
        "- кластеризация текстов\n",
        "- оптическое распознавание символов\n",
        "- проверка правописания\n",
        "- вопросно-ответные системы, информационный поиск\n",
        "- суммаризация текстов\n",
        "- генерация текстов\n",
        "\n",
        "В целом, алгоритм работы с текстовыми данными можно разбить на такие шаги:\n",
        "\n",
        "- предобработка сырых данных\n",
        "- токенизация (создание словаря)\n",
        "- обработка словаря (удаление стоп-слов и пунктуации)\n",
        "- обработка токенов (лемматизация / стемминг)\n",
        "- векторизация текста (bag of words, TF-IDF, etc)\n",
        "\n",
        "Сегодня мы познакомимся с основами работы с текстовыми данными: рассмотрим некоторые методы предобработки и простейшие алгоритмы векторизации.\n",
        "\n",
        "### План семинара\n",
        "1. Токенизация\n",
        "2. Стоп-слова и пунктуация\n",
        "3. Лемматизация и стемминг\n",
        "4. Bag-of-words и TD-IDF\n",
        "5. Решение задачи с текстовыми данными\n",
        "6. Регулярные выражения\n",
        "7. Немножко про категориальные признаки"
      ]
    },
    {
      "cell_type": "markdown",
      "metadata": {
        "id": "aTYWd8k5vTYk"
      },
      "source": [
        "## 1. Токенизация\n",
        "\n",
        "Токенизировать — значит, поделить текст на слова, или *токены*. Самый наивный способ токенизировать текст — разделить на слова по пробелам с помощью `split`. Но `split` упускает очень много всего, например, не отделяет пунктуацию от слов. Кроме этого есть ещё много менее тривиальных проблем, которые мы обсудим по ходу семинара, поэтому на практике всегда используют готовые токенизаторы."
      ]
    },
    {
      "cell_type": "code",
      "execution_count": null,
      "metadata": {
        "ExecuteTime": {
          "end_time": "2023-04-18T16:50:57.367394Z",
          "start_time": "2023-04-18T16:50:56.706955Z"
        },
        "id": "7wYTyUXsvTYk"
      },
      "outputs": [],
      "source": [
        "# !pip install nltk"
      ]
    },
    {
      "cell_type": "code",
      "execution_count": 1,
      "metadata": {
        "ExecuteTime": {
          "end_time": "2023-04-18T16:50:57.369338Z",
          "start_time": "2023-04-18T16:50:56.707864Z"
        },
        "id": "0hCRd91OvTYl"
      },
      "outputs": [],
      "source": [
        "import warnings\n",
        "\n",
        "import nltk\n",
        "import pandas as pd\n",
        "from nltk.tokenize import word_tokenize\n",
        "\n",
        "warnings.filterwarnings(\"ignore\")"
      ]
    },
    {
      "cell_type": "code",
      "execution_count": 2,
      "metadata": {
        "ExecuteTime": {
          "end_time": "2023-04-18T16:50:57.388966Z",
          "start_time": "2023-04-18T16:50:57.270155Z"
        },
        "id": "r5zRZht6JY1h",
        "outputId": "efd9e76e-418a-4714-c204-49c81890df1b",
        "colab": {
          "base_uri": "https://localhost:8080/"
        }
      },
      "outputs": [
        {
          "output_type": "execute_result",
          "data": {
            "text/plain": [
              "True"
            ]
          },
          "metadata": {},
          "execution_count": 2
        }
      ],
      "source": [
        "nltk.download(\"punkt\", quiet=True)"
      ]
    },
    {
      "cell_type": "code",
      "execution_count": 3,
      "metadata": {
        "ExecuteTime": {
          "end_time": "2023-04-18T16:50:57.404335Z",
          "start_time": "2023-04-18T16:50:57.388538Z"
        },
        "id": "BnwtbxVSvTYl"
      },
      "outputs": [],
      "source": [
        "example = \"Но не каждый хочет что-то исправлять:(\""
      ]
    },
    {
      "cell_type": "code",
      "execution_count": 4,
      "metadata": {
        "ExecuteTime": {
          "end_time": "2023-04-18T16:50:57.404687Z",
          "start_time": "2023-04-18T16:50:57.391837Z"
        },
        "colab": {
          "base_uri": "https://localhost:8080/"
        },
        "id": "p2GQ7QsjvTYm",
        "outputId": "7b5fcd24-c8de-4ea0-b23f-4781c74aef76"
      },
      "outputs": [
        {
          "output_type": "execute_result",
          "data": {
            "text/plain": [
              "['Но', 'не', 'каждый', 'хочет', 'что-то', 'исправлять:(']"
            ]
          },
          "metadata": {},
          "execution_count": 4
        }
      ],
      "source": [
        "# c помощью split()\n",
        "example.split()"
      ]
    },
    {
      "cell_type": "code",
      "execution_count": 5,
      "metadata": {
        "ExecuteTime": {
          "end_time": "2023-04-18T16:50:57.404799Z",
          "start_time": "2023-04-18T16:50:57.394339Z"
        },
        "colab": {
          "base_uri": "https://localhost:8080/"
        },
        "id": "nA0DyFIDvTYn",
        "outputId": "9e1f5330-b38d-4220-e0f2-528d8dbcddf0"
      },
      "outputs": [
        {
          "output_type": "execute_result",
          "data": {
            "text/plain": [
              "['Но', 'не', 'каждый', 'хочет', 'что-то', 'исправлять', ':', '(']"
            ]
          },
          "metadata": {},
          "execution_count": 5
        }
      ],
      "source": [
        "# c помощью токенизатора\n",
        "word_tokenize(example)"
      ]
    },
    {
      "cell_type": "markdown",
      "metadata": {
        "id": "XQ7uHEJUvTYo"
      },
      "source": [
        "В nltk вообще есть довольно много токенизаторов:"
      ]
    },
    {
      "cell_type": "code",
      "execution_count": 6,
      "metadata": {
        "ExecuteTime": {
          "end_time": "2023-04-18T16:50:57.404913Z",
          "start_time": "2023-04-18T16:50:57.400438Z"
        },
        "colab": {
          "base_uri": "https://localhost:8080/"
        },
        "id": "_fnNryNkvTYo",
        "outputId": "e45db7a8-db9d-423d-88fc-a720f5e049dc"
      },
      "outputs": [
        {
          "output_type": "execute_result",
          "data": {
            "text/plain": [
              "['BlanklineTokenizer',\n",
              " 'LegalitySyllableTokenizer',\n",
              " 'LineTokenizer',\n",
              " 'MWETokenizer',\n",
              " 'NLTKWordTokenizer',\n",
              " 'PunktSentenceTokenizer',\n",
              " 'RegexpTokenizer',\n",
              " 'ReppTokenizer',\n",
              " 'SExprTokenizer',\n",
              " 'SpaceTokenizer',\n",
              " 'StanfordSegmenter',\n",
              " 'SyllableTokenizer',\n",
              " 'TabTokenizer',\n",
              " 'TextTilingTokenizer',\n",
              " 'ToktokTokenizer',\n",
              " 'TreebankWordDetokenizer']"
            ]
          },
          "metadata": {},
          "execution_count": 6
        }
      ],
      "source": [
        "from nltk import tokenize\n",
        "\n",
        "dir(tokenize)[:16]"
      ]
    },
    {
      "cell_type": "markdown",
      "metadata": {
        "id": "6cs6tdtHvTYp"
      },
      "source": [
        "Можно получить индексы начала и конца каждого токена:"
      ]
    },
    {
      "cell_type": "code",
      "execution_count": 7,
      "metadata": {
        "ExecuteTime": {
          "end_time": "2023-04-18T16:50:57.405149Z",
          "start_time": "2023-04-18T16:50:57.403084Z"
        },
        "id": "v3kOepXRvTYp",
        "outputId": "b470ca25-e422-4862-9bf2-271fc5c60c4e",
        "colab": {
          "base_uri": "https://localhost:8080/"
        }
      },
      "outputs": [
        {
          "output_type": "execute_result",
          "data": {
            "text/plain": [
              "[(0, 2), (3, 5), (6, 12), (13, 18), (19, 25), (26, 38)]"
            ]
          },
          "metadata": {},
          "execution_count": 7
        }
      ],
      "source": [
        "wh_tok = tokenize.WhitespaceTokenizer()\n",
        "list(wh_tok.span_tokenize(example))"
      ]
    },
    {
      "cell_type": "markdown",
      "metadata": {
        "id": "yeMsc1yVvTYp"
      },
      "source": [
        "Некторые токенизаторы ведут себя специфично:"
      ]
    },
    {
      "cell_type": "code",
      "execution_count": 8,
      "metadata": {
        "ExecuteTime": {
          "end_time": "2023-04-18T16:50:57.413500Z",
          "start_time": "2023-04-18T16:50:57.405960Z"
        },
        "colab": {
          "base_uri": "https://localhost:8080/"
        },
        "id": "5diW1OKkvTYq",
        "outputId": "f1f4d2de-2ff2-4c37-ba8c-c31df09e09d0"
      },
      "outputs": [
        {
          "output_type": "execute_result",
          "data": {
            "text/plain": [
              "['do', \"n't\", 'stop', 'me']"
            ]
          },
          "metadata": {},
          "execution_count": 8
        }
      ],
      "source": [
        "tokenize.TreebankWordTokenizer().tokenize(\"don't stop me\")"
      ]
    },
    {
      "cell_type": "markdown",
      "metadata": {
        "id": "y4Jte9_YvTYq"
      },
      "source": [
        "Для некоторых задач это может быть полезно.\n",
        "\n",
        "А некоторые предназначены вообще не для текста на естественном языке:"
      ]
    },
    {
      "cell_type": "code",
      "execution_count": 9,
      "metadata": {
        "ExecuteTime": {
          "end_time": "2023-04-18T16:50:57.413696Z",
          "start_time": "2023-04-18T16:50:57.408712Z"
        },
        "colab": {
          "base_uri": "https://localhost:8080/"
        },
        "id": "vC4pjzzWvTYr",
        "outputId": "3599fc58-4945-4d01-94a7-3d9bfcc32214"
      },
      "outputs": [
        {
          "output_type": "execute_result",
          "data": {
            "text/plain": [
              "['(a (b c))', 'd', 'e', '(f)']"
            ]
          },
          "metadata": {},
          "execution_count": 9
        }
      ],
      "source": [
        "tokenize.SExprTokenizer().tokenize(\"(a (b c)) d e (f)\")"
      ]
    },
    {
      "cell_type": "markdown",
      "metadata": {
        "id": "kTLQY6ndwP9u"
      },
      "source": [
        "Есть токенизатор, который может быть полезен для работы с твитами или сообщениями из соц. сетей. Он сохранит смайлики, хештеги и т.п."
      ]
    },
    {
      "cell_type": "code",
      "execution_count": 10,
      "metadata": {
        "ExecuteTime": {
          "end_time": "2023-04-18T16:50:57.421227Z",
          "start_time": "2023-04-18T16:50:57.410680Z"
        },
        "colab": {
          "base_uri": "https://localhost:8080/"
        },
        "id": "xioD_3G2vTYs",
        "outputId": "d4aa6521-5694-4fb9-8966-a891d8a42b4d"
      },
      "outputs": [
        {
          "output_type": "execute_result",
          "data": {
            "text/plain": [
              "['Но', 'не', 'каждый', 'хочет', 'что-то', 'исправлять', ':(']"
            ]
          },
          "metadata": {},
          "execution_count": 10
        }
      ],
      "source": [
        "from nltk.tokenize import TweetTokenizer\n",
        "\n",
        "tw = TweetTokenizer()\n",
        "tw.tokenize(example)"
      ]
    },
    {
      "cell_type": "markdown",
      "metadata": {
        "id": "fc1OYy0tvTYt"
      },
      "source": [
        "## 2. Стоп-слова и пунктуация\n",
        "\n",
        "*Стоп-слова* — это слова, которые часто встречаются практически в любом тексте и ничего интересного не говорят о конретном документе, то есть играют роль шума. Поэтому их принято убирать. По той же причине убирают и пунктуацию."
      ]
    },
    {
      "cell_type": "code",
      "execution_count": 11,
      "metadata": {
        "ExecuteTime": {
          "end_time": "2023-04-18T16:50:57.421378Z",
          "start_time": "2023-04-18T16:50:57.416461Z"
        },
        "colab": {
          "base_uri": "https://localhost:8080/"
        },
        "id": "g2F7i9CEvTYt",
        "outputId": "95a076a8-caab-4520-fbb0-68783e6ceec7"
      },
      "outputs": [
        {
          "output_type": "execute_result",
          "data": {
            "text/plain": [
              "True"
            ]
          },
          "metadata": {},
          "execution_count": 11
        }
      ],
      "source": [
        "nltk.download(\"stopwords\", quiet=True)"
      ]
    },
    {
      "cell_type": "code",
      "execution_count": 13,
      "metadata": {
        "ExecuteTime": {
          "end_time": "2023-04-18T16:50:57.425601Z",
          "start_time": "2023-04-18T16:50:57.419634Z"
        },
        "colab": {
          "base_uri": "https://localhost:8080/"
        },
        "id": "r8NdjFCYvTYt",
        "outputId": "095f2f75-2413-428e-c1ce-ecef8eb022e4"
      },
      "outputs": [
        {
          "output_type": "stream",
          "name": "stdout",
          "text": [
            "['и', 'в', 'во', 'не', 'что', 'он', 'на', 'я', 'с', 'со', 'как', 'а', 'то', 'все', 'она', 'так', 'его', 'но', 'да', 'ты', 'к', 'у', 'же', 'вы', 'за', 'бы', 'по', 'только', 'ее', 'мне', 'было', 'вот', 'от', 'меня', 'еще', 'нет', 'о', 'из', 'ему', 'теперь', 'когда', 'даже', 'ну', 'вдруг', 'ли', 'если', 'уже', 'или', 'ни', 'быть', 'был', 'него', 'до', 'вас', 'нибудь', 'опять', 'уж', 'вам', 'ведь', 'там', 'потом', 'себя', 'ничего', 'ей', 'может', 'они', 'тут', 'где', 'есть', 'надо', 'ней', 'для', 'мы', 'тебя', 'их', 'чем', 'была', 'сам', 'чтоб', 'без', 'будто', 'чего', 'раз', 'тоже', 'себе', 'под', 'будет', 'ж', 'тогда', 'кто', 'этот', 'того', 'потому', 'этого', 'какой', 'совсем', 'ним', 'здесь', 'этом', 'один', 'почти', 'мой', 'тем', 'чтобы', 'нее', 'сейчас', 'были', 'куда', 'зачем', 'всех', 'никогда', 'можно', 'при', 'наконец', 'два', 'об', 'другой', 'хоть', 'после', 'над', 'больше', 'тот', 'через', 'эти', 'нас', 'про', 'всего', 'них', 'какая', 'много', 'разве', 'три', 'эту', 'моя', 'впрочем', 'хорошо', 'свою', 'этой', 'перед', 'иногда', 'лучше', 'чуть', 'том', 'нельзя', 'такой', 'им', 'более', 'всегда', 'конечно', 'всю', 'между']\n"
          ]
        }
      ],
      "source": [
        "from nltk.corpus import stopwords\n",
        "\n",
        "print(stopwords.words(\"russian\"))"
      ]
    },
    {
      "cell_type": "code",
      "execution_count": 14,
      "metadata": {
        "ExecuteTime": {
          "end_time": "2023-04-18T16:50:57.502816Z",
          "start_time": "2023-04-18T16:50:57.424371Z"
        },
        "id": "43iQJ1raJY1k",
        "outputId": "94b7f13f-a5f7-4d1d-b411-923be7b04bba",
        "colab": {
          "base_uri": "https://localhost:8080/"
        }
      },
      "outputs": [
        {
          "output_type": "stream",
          "name": "stdout",
          "text": [
            "['i', 'me', 'my', 'myself', 'we', 'our', 'ours', 'ourselves', 'you', \"you're\", \"you've\", \"you'll\", \"you'd\", 'your', 'yours', 'yourself', 'yourselves', 'he', 'him', 'his', 'himself', 'she', \"she's\", 'her', 'hers', 'herself', 'it', \"it's\", 'its', 'itself', 'they', 'them', 'their', 'theirs', 'themselves', 'what', 'which', 'who', 'whom', 'this', 'that', \"that'll\", 'these', 'those', 'am', 'is', 'are', 'was', 'were', 'be', 'been', 'being', 'have', 'has', 'had', 'having', 'do', 'does', 'did', 'doing', 'a', 'an', 'the', 'and', 'but', 'if', 'or', 'because', 'as', 'until', 'while', 'of', 'at', 'by', 'for', 'with', 'about', 'against', 'between', 'into', 'through', 'during', 'before', 'after', 'above', 'below', 'to', 'from', 'up', 'down', 'in', 'out', 'on', 'off', 'over', 'under', 'again', 'further', 'then', 'once', 'here', 'there', 'when', 'where', 'why', 'how', 'all', 'any', 'both', 'each', 'few', 'more', 'most', 'other', 'some', 'such', 'no', 'nor', 'not', 'only', 'own', 'same', 'so', 'than', 'too', 'very', 's', 't', 'can', 'will', 'just', 'don', \"don't\", 'should', \"should've\", 'now', 'd', 'll', 'm', 'o', 're', 've', 'y', 'ain', 'aren', \"aren't\", 'couldn', \"couldn't\", 'didn', \"didn't\", 'doesn', \"doesn't\", 'hadn', \"hadn't\", 'hasn', \"hasn't\", 'haven', \"haven't\", 'isn', \"isn't\", 'ma', 'mightn', \"mightn't\", 'mustn', \"mustn't\", 'needn', \"needn't\", 'shan', \"shan't\", 'shouldn', \"shouldn't\", 'wasn', \"wasn't\", 'weren', \"weren't\", 'won', \"won't\", 'wouldn', \"wouldn't\"]\n"
          ]
        }
      ],
      "source": [
        "print(stopwords.words(\"english\"))"
      ]
    },
    {
      "cell_type": "code",
      "execution_count": 15,
      "metadata": {
        "ExecuteTime": {
          "end_time": "2023-04-18T16:50:57.503520Z",
          "start_time": "2023-04-18T16:50:57.426937Z"
        },
        "colab": {
          "base_uri": "https://localhost:8080/"
        },
        "id": "2DehgAP3vTYu",
        "outputId": "f3d87b3f-0790-4de0-820a-af832644f63f"
      },
      "outputs": [
        {
          "output_type": "execute_result",
          "data": {
            "text/plain": [
              "'!\"#$%&\\'()*+,-./:;<=>?@[\\\\]^_`{|}~'"
            ]
          },
          "metadata": {},
          "execution_count": 15
        }
      ],
      "source": [
        "from string import punctuation\n",
        "\n",
        "punctuation"
      ]
    },
    {
      "cell_type": "code",
      "execution_count": 16,
      "metadata": {
        "ExecuteTime": {
          "end_time": "2023-04-18T16:50:57.503604Z",
          "start_time": "2023-04-18T16:50:57.429475Z"
        },
        "id": "gLzygOQ6vTYv"
      },
      "outputs": [],
      "source": [
        "noise = stopwords.words(\"russian\") + list(punctuation)"
      ]
    },
    {
      "cell_type": "markdown",
      "metadata": {
        "id": "1SEdeiiPvTYv"
      },
      "source": [
        "## 3. Лемматизация и стемминг\n",
        "### 3.1 Лемматизация\n",
        "\n",
        "[**Лемматизация**](https://en.wikipedia.org/wiki/Lemmatisation) — процесс приведения слова к его нормальной форме (**лемме**):\n",
        "- для существительных — именительный падеж, единственное число;\n",
        "- для прилагательных — именительный падеж, единственное число, мужской род;\n",
        "- для глаголов, причастий, деепричастий — глагол в инфинитиве.\n",
        "\n",
        "Например, токены «пью», «пил», «пьет» перейдут в «пить». Почему это хорошо?\n",
        "* Во-первых, мы хотим рассматривать как отдельный признак каждое *слово*, а не каждую его отдельную форму.\n",
        "* Во-вторых, некоторые стоп-слова стоят только в начальной форме, и без лемматизации выкидываем мы только её.\n",
        "\n",
        "Для русского есть два хороших лемматизатора: `mystem` и `pymorphy`.\n",
        "\n",
        "#### [Mystem](https://tech.yandex.ru/mystem/)\n",
        "\n",
        "Mystem — это пример популярной библиотеки для лемматизации. Как с ним работать:\n",
        "* скачать mystem и запускать [из терминала с разными параметрами](https://tech.yandex.ru/mystem/doc/)\n",
        "* использовать обёртку для питона [pymystem3](https://pythonhosted.org/pymystem3/pymystem3.html) (она медленнее, но удобнее в использовании)"
      ]
    },
    {
      "cell_type": "code",
      "execution_count": null,
      "metadata": {
        "ExecuteTime": {
          "end_time": "2023-04-18T16:50:57.503677Z",
          "start_time": "2023-04-18T16:50:57.431943Z"
        },
        "id": "IM5dc5MPvTYw",
        "scrolled": true
      },
      "outputs": [],
      "source": [
        "# !pip install pymystem3"
      ]
    },
    {
      "cell_type": "code",
      "execution_count": 17,
      "metadata": {
        "ExecuteTime": {
          "end_time": "2023-04-18T16:50:57.503718Z",
          "start_time": "2023-04-18T16:50:57.433253Z"
        },
        "id": "60Q4xp6yvTYw"
      },
      "outputs": [],
      "source": [
        "from pymystem3 import Mystem\n",
        "\n",
        "mystem_analyzer = Mystem()"
      ]
    },
    {
      "cell_type": "markdown",
      "metadata": {
        "id": "al294srlvTYx"
      },
      "source": [
        "Мы инициализировали Mystem c дефолтными параметрами. А вообще параметры есть такие:\n",
        "* mystem_bin — путь к `mystem`, если их несколько\n",
        "* grammar_info — нужна ли грамматическая информация или только леммы (по умолчанию нужна)\n",
        "* disambiguation — нужно ли снятие [омонимии](https://ru.wikipedia.org/wiki/%D0%9E%D0%BC%D0%BE%D0%BD%D0%B8%D0%BC%D1%8B) - дизамбигуация (по умолчанию нужна)\n",
        "* entire_input — нужно ли сохранять в выводе все (пробелы, например), или можно выкинуть (по умолчанию оставляется все)\n",
        "\n",
        "Методы Mystem принимают строку, токенизатор вшит внутри. Можно, конечно, и пословно анализировать, но тогда он не сможет учитывать контекст.\n",
        "\n",
        "Можно просто лемматизировать текст:"
      ]
    },
    {
      "cell_type": "code",
      "execution_count": 18,
      "metadata": {
        "ExecuteTime": {
          "end_time": "2023-04-18T16:50:57.954209Z",
          "start_time": "2023-04-18T16:50:57.436430Z"
        },
        "colab": {
          "base_uri": "https://localhost:8080/"
        },
        "id": "3Oc4plDGvTYx",
        "outputId": "89e0be07-2788-4b83-e083-5e22b78deab1"
      },
      "outputs": [
        {
          "output_type": "stream",
          "name": "stdout",
          "text": [
            "['но', ' ', 'не', ' ', 'каждый', ' ', 'хотеть', ' ', 'что-то', ' ', 'исправлять', ':(\\n']\n"
          ]
        }
      ],
      "source": [
        "print(mystem_analyzer.lemmatize(example))"
      ]
    },
    {
      "cell_type": "markdown",
      "metadata": {
        "id": "_mX1O12xvTYy"
      },
      "source": [
        "### [Pymorphy](http://pymorphy2.readthedocs.io/en/latest/)\n",
        "Это модуль на питоне, довольно быстрый и с кучей функций."
      ]
    },
    {
      "cell_type": "code",
      "execution_count": null,
      "metadata": {
        "ExecuteTime": {
          "end_time": "2023-04-18T16:50:57.956279Z",
          "start_time": "2023-04-18T16:50:57.953848Z"
        },
        "id": "l7-NcH9ivTYy"
      },
      "outputs": [],
      "source": [
        "# !pip install pymorphy2"
      ]
    },
    {
      "cell_type": "code",
      "execution_count": 19,
      "metadata": {
        "ExecuteTime": {
          "end_time": "2023-04-18T16:50:57.963124Z",
          "start_time": "2023-04-18T16:50:57.956363Z"
        },
        "id": "6A9gwL8MJY1k"
      },
      "outputs": [],
      "source": [
        "from pymorphy2 import MorphAnalyzer"
      ]
    },
    {
      "cell_type": "code",
      "execution_count": 20,
      "metadata": {
        "ExecuteTime": {
          "end_time": "2023-04-18T16:50:58.019760Z",
          "start_time": "2023-04-18T16:50:57.963923Z"
        },
        "id": "jnL4uv6JvTYz"
      },
      "outputs": [],
      "source": [
        "pymorphy2_analyzer = MorphAnalyzer()"
      ]
    },
    {
      "cell_type": "markdown",
      "metadata": {
        "id": "tIe3ssarvTYz"
      },
      "source": [
        "pymorphy2 работает с отдельными словами. Если дать ему на вход предложение, то он его просто не лемматизирует, т.к. не понимает.\n",
        "\n",
        "Метод MorphAnalyzer.parse() принимает слово и возвращает все возможные его разборы.\n",
        "\n",
        "У каждого разбора есть тег. Тег — это набор граммем, характеризующих данное слово. Например, тег 'VERB,perf,intr plur,past,indc' означает, что слово — глагол (VERB) совершенного вида (perf), непереходный (intr), множественного числа (plur), прошедшего времени (past), изъявительного наклонения (indc).\n"
      ]
    },
    {
      "cell_type": "code",
      "execution_count": 21,
      "metadata": {
        "ExecuteTime": {
          "end_time": "2023-04-18T16:50:58.024019Z",
          "start_time": "2023-04-18T16:50:58.020616Z"
        },
        "colab": {
          "base_uri": "https://localhost:8080/"
        },
        "id": "2Ztv5u7gvTY0",
        "outputId": "cd59e150-5d90-4575-cb1d-7d6608a378e0"
      },
      "outputs": [
        {
          "output_type": "execute_result",
          "data": {
            "text/plain": [
              "[Parse(word='хочет', tag=OpencorporaTag('VERB,impf,tran sing,3per,pres,indc'), normal_form='хотеть', score=1.0, methods_stack=((DictionaryAnalyzer(), 'хочет', 3136, 5),))]"
            ]
          },
          "metadata": {},
          "execution_count": 21
        }
      ],
      "source": [
        "ana = pymorphy2_analyzer.parse(\"хочет\")\n",
        "ana"
      ]
    },
    {
      "cell_type": "code",
      "execution_count": 22,
      "metadata": {
        "ExecuteTime": {
          "end_time": "2023-04-18T16:50:58.027260Z",
          "start_time": "2023-04-18T16:50:58.023109Z"
        },
        "colab": {
          "base_uri": "https://localhost:8080/"
        },
        "id": "9NBnUjhfvTY2",
        "outputId": "19792ddd-94a8-49be-c263-f64ccbe89d19"
      },
      "outputs": [
        {
          "output_type": "execute_result",
          "data": {
            "text/plain": [
              "'хотеть'"
            ]
          },
          "metadata": {},
          "execution_count": 22
        }
      ],
      "source": [
        "ana[0].normal_form"
      ]
    },
    {
      "cell_type": "markdown",
      "metadata": {
        "id": "AY0CeomBvTY3"
      },
      "source": [
        "### mystem vs. pymorphy\n",
        "\n",
        "1) *Надеемся, что вы пользуетесь линуксом или маком* — mystem работает невероятно медленно под windows на больших текстах\n",
        "\n",
        "2) *Снятие омонимии*. Mystem умеет снимать омонимию по контексту (хотя не всегда преуспевает), pymorphy2 берет на вход одно слово и соответственно вообще не умеет дизамбигуировать по контексту."
      ]
    },
    {
      "cell_type": "code",
      "execution_count": 23,
      "metadata": {
        "ExecuteTime": {
          "end_time": "2023-04-18T16:50:58.028266Z",
          "start_time": "2023-04-18T16:50:58.025883Z"
        },
        "colab": {
          "base_uri": "https://localhost:8080/"
        },
        "id": "3ZHNWM8MvTY3",
        "outputId": "e6185cf2-5edf-4073-8739-48953b7670b2"
      },
      "outputs": [
        {
          "output_type": "stream",
          "name": "stdout",
          "text": [
            "{'analysis': [{'lex': 'сорок', 'wt': 0.8710292664, 'gr': 'NUM=(пр|дат|род|твор)'}], 'text': 'сорока'}\n",
            "{'analysis': [{'lex': 'сорока', 'wt': 0.1210970041, 'gr': 'S,жен,од=им,ед'}], 'text': 'Сорока'}\n"
          ]
        }
      ],
      "source": [
        "homonym1 = \"За время обучения я прослушал больше сорока курсов.\"\n",
        "homonym2 = \"Сорока своровала блестящее украшение со стола.\"\n",
        "\n",
        "# корректно определил части речи\n",
        "# NUM — числительное\n",
        "# S — существительное\n",
        "print(mystem_analyzer.analyze(homonym1)[-5])\n",
        "print(mystem_analyzer.analyze(homonym2)[0])"
      ]
    },
    {
      "cell_type": "markdown",
      "metadata": {
        "id": "Y4ifiT5avTY4"
      },
      "source": [
        "### 3.2 Стемминг\n",
        "\n",
        "В отличие от лемматизации, при применении стемминга у всех слов отбрасываются аффиксы (окончания и суффиксы), что необязательно приводит слова к формам, существующим в рассматриваемом языке. [**Snowball**](http://snowball.tartarus.org/) — фрэймворк для написания алгоритмов стемминга. Алгоритмы стемминга отличаются для разных языков и используют знания о конкретном языке: списки окончаний для разных частей речи, разных склонений и т.д."
      ]
    },
    {
      "cell_type": "code",
      "execution_count": 24,
      "metadata": {
        "ExecuteTime": {
          "end_time": "2023-04-18T16:50:58.030752Z",
          "start_time": "2023-04-18T16:50:58.029232Z"
        },
        "id": "tUI4LkoUvTY4"
      },
      "outputs": [],
      "source": [
        "from nltk.stem.snowball import SnowballStemmer"
      ]
    },
    {
      "cell_type": "code",
      "execution_count": 25,
      "metadata": {
        "ExecuteTime": {
          "end_time": "2023-04-18T16:50:58.032674Z",
          "start_time": "2023-04-18T16:50:58.031151Z"
        },
        "id": "6VcMMeG3JY1p"
      },
      "outputs": [],
      "source": [
        "tokenized_example = word_tokenize(example)"
      ]
    },
    {
      "cell_type": "code",
      "execution_count": 26,
      "metadata": {
        "ExecuteTime": {
          "end_time": "2023-04-18T16:50:58.036669Z",
          "start_time": "2023-04-18T16:50:58.033530Z"
        },
        "colab": {
          "base_uri": "https://localhost:8080/"
        },
        "id": "yDhsgmNsvTY5",
        "outputId": "d80dfe39-5ddd-42ac-c750-524d4c8c64dd"
      },
      "outputs": [
        {
          "output_type": "stream",
          "name": "stdout",
          "text": [
            "но не кажд хочет что-т исправля : (\n"
          ]
        }
      ],
      "source": [
        "stemmer = SnowballStemmer(\"russian\")\n",
        "stemmed_example = [stemmer.stem(w) for w in tokenized_example]\n",
        "print(\" \".join(stemmed_example))"
      ]
    },
    {
      "cell_type": "markdown",
      "metadata": {
        "id": "mg27rPUpJY1p"
      },
      "source": [
        "Для английского получится что-то такое."
      ]
    },
    {
      "cell_type": "code",
      "execution_count": 27,
      "metadata": {
        "ExecuteTime": {
          "end_time": "2023-04-18T16:50:58.038780Z",
          "start_time": "2023-04-18T16:50:58.036341Z"
        },
        "colab": {
          "base_uri": "https://localhost:8080/"
        },
        "id": "IYdj8R20vTY5",
        "outputId": "2a49f5fd-f217-4876-f3e7-e312d6387a41"
      },
      "outputs": [
        {
          "output_type": "stream",
          "name": "stdout",
          "text": [
            "In my younger and more vulnerable years my father gave me some advice that I've been turning over in my mind ever since.\n",
            "\"Whenever you feel like criticizing any one,\" he told me, \"just remember that all the people in this world haven't had the advantages that you've had.\"\n",
            "==========\n",
            "['In', 'my', 'younger', 'and', 'more', 'vulnerable', 'years', 'my', 'father', 'gave', 'me', 'some', 'advice', 'that', 'I', 'been', 'turning', 'over', 'in', 'my', 'mind', 'ever', 'since', 'Whenever', 'you', 'feel', 'like', 'criticizing', 'any', 'one', 'he', 'told', 'me', 'just', 'remember', 'that', 'all', 'the', 'people', 'in', 'this', 'world', 'have', 'had', 'the', 'advantages', 'that', 'you', 'had']\n"
          ]
        }
      ],
      "source": [
        "text = 'In my younger and more vulnerable years my father gave me some advice that I\\'ve been turning over in my mind ever since.\\n\"Whenever you feel like criticizing any one,\" he told me, \"just remember that all the people in this world haven\\'t had the advantages that you\\'ve had.\"'\n",
        "print(text)\n",
        "text_tokenized = [w for w in word_tokenize(text) if w.isalpha()]\n",
        "print(\"==========\")\n",
        "print(text_tokenized)"
      ]
    },
    {
      "cell_type": "code",
      "execution_count": 28,
      "metadata": {
        "ExecuteTime": {
          "end_time": "2023-04-18T16:50:58.040805Z",
          "start_time": "2023-04-18T16:50:58.038614Z"
        },
        "colab": {
          "base_uri": "https://localhost:8080/"
        },
        "id": "386kIQJYvTY5",
        "outputId": "992683dd-84d5-4458-e360-1cb54970fe77"
      },
      "outputs": [
        {
          "output_type": "stream",
          "name": "stdout",
          "text": [
            "in my younger and more vulner year my father gave me some advic that i been turn over in my mind ever sinc whenev you feel like critic ani one he told me just rememb that all the peopl in this world have had the advantag that you had\n"
          ]
        }
      ],
      "source": [
        "stemmer = SnowballStemmer(\"english\")\n",
        "text_stemmed = [stemmer.stem(w) for w in text_tokenized]\n",
        "print(\" \".join(text_stemmed))"
      ]
    },
    {
      "cell_type": "markdown",
      "metadata": {
        "id": "x5dNFUPHvTY6"
      },
      "source": [
        "## 4. Bag-of-words и TF-IDF\n",
        "\n",
        "Но как же все-таки работать с текстами, используя стандартные методы машинного обучения? Ведь нам нужны объекты выборки, которые описываются числами, а не словами. Иначе говоря, нам нужно *векторизовать* текстовые данные.\n",
        "\n",
        "### 4.1 Bag-of-words\n",
        "\n",
        "Пусть у нас имеется коллекция текстов $D = \\{d_i\\}_{i=1}^l$ и словарь всех слов, встречающихся в выборке $V = \\{v_j\\}_{j=1}^d.$ В этом случае некоторый текст $d_i$ описывается вектором $(x_{ij})_{j=1}^d,$ где\n",
        "$$x_{ij} = \\sum_{v \\in d_i} [v = v_j].$$\n",
        "\n",
        "Таким образом, текст $d_i$ описывается вектором количества вхождений каждого слова из словаря в данный текст."
      ]
    },
    {
      "cell_type": "code",
      "execution_count": null,
      "metadata": {
        "ExecuteTime": {
          "end_time": "2023-04-18T16:50:58.095188Z",
          "start_time": "2023-04-18T16:50:58.040839Z"
        },
        "id": "x2eF8nZLvTY7"
      },
      "outputs": [],
      "source": [
        "texts = [\n",
        "    \"I like my cat.\",\n",
        "    \"My cat is the most perfect cat.\",\n",
        "    \"is this cat or is this bread?\",\n",
        "]"
      ]
    },
    {
      "cell_type": "code",
      "execution_count": null,
      "metadata": {
        "ExecuteTime": {
          "end_time": "2023-04-18T16:50:58.104626Z",
          "start_time": "2023-04-18T16:50:58.043952Z"
        },
        "colab": {
          "base_uri": "https://localhost:8080/"
        },
        "id": "IjG4gU5JvTY7",
        "outputId": "0d8650c5-7419-4689-ca67-c7729734991f"
      },
      "outputs": [
        {
          "data": {
            "text/plain": [
              "['I like my cat',\n",
              " 'My cat is the most perfect cat',\n",
              " 'is this cat or is this bread']"
            ]
          },
          "execution_count": 32,
          "metadata": {},
          "output_type": "execute_result"
        }
      ],
      "source": [
        "texts_tokenized = [\n",
        "    \" \".join([w for w in word_tokenize(t) if w.isalpha()]) for t in texts\n",
        "]\n",
        "texts_tokenized"
      ]
    },
    {
      "cell_type": "code",
      "execution_count": null,
      "metadata": {
        "ExecuteTime": {
          "end_time": "2023-04-18T16:50:58.104770Z",
          "start_time": "2023-04-18T16:50:58.046474Z"
        },
        "id": "NVomQglIvTY8"
      },
      "outputs": [],
      "source": [
        "from sklearn.feature_extraction.text import CountVectorizer\n",
        "\n",
        "cnt_vec = CountVectorizer()\n",
        "X = cnt_vec.fit_transform(texts_tokenized)"
      ]
    },
    {
      "cell_type": "code",
      "execution_count": null,
      "metadata": {
        "ExecuteTime": {
          "end_time": "2023-04-18T16:50:58.104925Z",
          "start_time": "2023-04-18T16:50:58.049174Z"
        },
        "colab": {
          "base_uri": "https://localhost:8080/"
        },
        "id": "kwAKWt_4vTY9",
        "outputId": "1c8f8dad-89a9-4402-adae-916f76ae1631"
      },
      "outputs": [
        {
          "data": {
            "text/plain": [
              "dict_keys(['like', 'my', 'cat', 'is', 'the', 'most', 'perfect', 'this', 'or', 'bread'])"
            ]
          },
          "execution_count": 34,
          "metadata": {},
          "output_type": "execute_result"
        }
      ],
      "source": [
        "cnt_vec.vocabulary_.keys()"
      ]
    },
    {
      "cell_type": "code",
      "execution_count": null,
      "metadata": {
        "ExecuteTime": {
          "end_time": "2023-04-18T16:50:58.105067Z",
          "start_time": "2023-04-18T16:50:58.051691Z"
        },
        "colab": {
          "base_uri": "https://localhost:8080/"
        },
        "id": "Ye63VKazvTY-",
        "outputId": "4dede0ed-ac68-4bad-ef3e-bb5be72f4dbc"
      },
      "outputs": [
        {
          "data": {
            "text/plain": [
              "<3x10 sparse matrix of type '<class 'numpy.int64'>'\n",
              "\twith 14 stored elements in Compressed Sparse Row format>"
            ]
          },
          "execution_count": 35,
          "metadata": {},
          "output_type": "execute_result"
        }
      ],
      "source": [
        "X"
      ]
    },
    {
      "cell_type": "code",
      "execution_count": null,
      "metadata": {
        "ExecuteTime": {
          "end_time": "2023-04-18T16:50:58.105194Z",
          "start_time": "2023-04-18T16:50:58.054Z"
        },
        "colab": {
          "base_uri": "https://localhost:8080/"
        },
        "id": "PvYOzpALvTY-",
        "outputId": "0b3192e7-2546-4040-cac8-55b208b30071"
      },
      "outputs": [
        {
          "data": {
            "text/plain": [
              "array([[0, 1, 0, 1, 0, 1, 0, 0, 0, 0],\n",
              "       [0, 2, 1, 0, 1, 1, 0, 1, 1, 0],\n",
              "       [1, 1, 2, 0, 0, 0, 1, 0, 0, 2]])"
            ]
          },
          "execution_count": 36,
          "metadata": {},
          "output_type": "execute_result"
        }
      ],
      "source": [
        "X.toarray()"
      ]
    },
    {
      "cell_type": "code",
      "execution_count": null,
      "metadata": {
        "ExecuteTime": {
          "end_time": "2023-04-18T16:50:58.105450Z",
          "start_time": "2023-04-18T16:50:58.056639Z"
        },
        "colab": {
          "base_uri": "https://localhost:8080/",
          "height": 142
        },
        "id": "z40jdf5-vTY-",
        "outputId": "80b68939-a2b0-4ea1-909e-409e9b1b6310"
      },
      "outputs": [
        {
          "data": {
            "text/html": [
              "<div>\n",
              "<style scoped>\n",
              "    .dataframe tbody tr th:only-of-type {\n",
              "        vertical-align: middle;\n",
              "    }\n",
              "\n",
              "    .dataframe tbody tr th {\n",
              "        vertical-align: top;\n",
              "    }\n",
              "\n",
              "    .dataframe thead th {\n",
              "        text-align: right;\n",
              "    }\n",
              "</style>\n",
              "<table border=\"1\" class=\"dataframe\">\n",
              "  <thead>\n",
              "    <tr style=\"text-align: right;\">\n",
              "      <th></th>\n",
              "      <th>bread</th>\n",
              "      <th>cat</th>\n",
              "      <th>is</th>\n",
              "      <th>like</th>\n",
              "      <th>most</th>\n",
              "      <th>my</th>\n",
              "      <th>or</th>\n",
              "      <th>perfect</th>\n",
              "      <th>the</th>\n",
              "      <th>this</th>\n",
              "    </tr>\n",
              "  </thead>\n",
              "  <tbody>\n",
              "    <tr>\n",
              "      <th>0</th>\n",
              "      <td>0</td>\n",
              "      <td>1</td>\n",
              "      <td>0</td>\n",
              "      <td>1</td>\n",
              "      <td>0</td>\n",
              "      <td>1</td>\n",
              "      <td>0</td>\n",
              "      <td>0</td>\n",
              "      <td>0</td>\n",
              "      <td>0</td>\n",
              "    </tr>\n",
              "    <tr>\n",
              "      <th>1</th>\n",
              "      <td>0</td>\n",
              "      <td>2</td>\n",
              "      <td>1</td>\n",
              "      <td>0</td>\n",
              "      <td>1</td>\n",
              "      <td>1</td>\n",
              "      <td>0</td>\n",
              "      <td>1</td>\n",
              "      <td>1</td>\n",
              "      <td>0</td>\n",
              "    </tr>\n",
              "    <tr>\n",
              "      <th>2</th>\n",
              "      <td>1</td>\n",
              "      <td>1</td>\n",
              "      <td>2</td>\n",
              "      <td>0</td>\n",
              "      <td>0</td>\n",
              "      <td>0</td>\n",
              "      <td>1</td>\n",
              "      <td>0</td>\n",
              "      <td>0</td>\n",
              "      <td>2</td>\n",
              "    </tr>\n",
              "  </tbody>\n",
              "</table>\n",
              "</div>"
            ],
            "text/plain": [
              "   bread  cat  is  like  most  my  or  perfect  the  this\n",
              "0      0    1   0     1     0   1   0        0    0     0\n",
              "1      0    2   1     0     1   1   0        1    1     0\n",
              "2      1    1   2     0     0   0   1        0    0     2"
            ]
          },
          "execution_count": 37,
          "metadata": {},
          "output_type": "execute_result"
        }
      ],
      "source": [
        "pd.DataFrame(X.toarray(), columns=cnt_vec.get_feature_names_out())"
      ]
    },
    {
      "cell_type": "markdown",
      "metadata": {
        "id": "4tZsL30hvTY-"
      },
      "source": [
        "### 4.2 TF-IDF\n",
        "\n",
        "Заметим, что если слово часто встречается в одном тексте, но почти не встречается в других, то оно получает для данного текста большой вес, ровно так же, как и слова, которые часто встречаются в каждом тексте. Для того чтобы разделять эти такие слова, можно использовать статистическую меру TF-IDF, характеризующую важность слова для конкретного текста. Для каждого слова из текста $d$ рассчитаем относительную частоту встречаемости в нем (Term Frequency):\n",
        "$$\n",
        "\\text{TF}(t, d) = \\frac{C(t | d)}{\\sum\\limits_{k \\in d}C(k | d)},\n",
        "$$\n",
        "где $C(t | d)$ - число вхождений слова $t$ в текст $d$.\n",
        "\n",
        "Также для каждого слова из текста $d$ рассчитаем обратную частоту встречаемости в корпусе текстов $D$ (Inverse Document Frequency):\n",
        "$$\n",
        "\\text{IDF}(t, D) = \\log\\left(\\frac{|D|}{|\\{d_i \\in D \\mid t \\in d_i\\}|}\\right)\n",
        "$$\n",
        "Логарифмирование здесь проводится с целью уменьшить масштаб весов, ибо зачастую в корпусах присутствует очень много текстов.\n",
        "\n",
        "В итоге каждому слову $t$ из текста $d$ теперь можно присвоить вес\n",
        "$$\n",
        "\\text{TF-IDF}(t, d, D) = \\text{TF}(t, d) \\times \\text{IDF}(t, D)\n",
        "$$\n",
        "Интерпретировать формулу выше несложно: действительно, чем чаще данное слово встречается в данном тексте и чем реже в остальных, тем важнее оно для этого текста.\n",
        "\n",
        "Отметим, что в качестве TF и IDF можно использовать другие [определения](https://en.wikipedia.org/wiki/Tf%E2%80%93idf#Definition)."
      ]
    },
    {
      "cell_type": "code",
      "execution_count": null,
      "metadata": {
        "ExecuteTime": {
          "end_time": "2023-04-18T16:50:58.105509Z",
          "start_time": "2023-04-18T16:50:58.061637Z"
        },
        "id": "F0YcEWeqvTY_"
      },
      "outputs": [],
      "source": [
        "from sklearn.feature_extraction.text import TfidfVectorizer\n",
        "\n",
        "tfidf_vec = TfidfVectorizer()\n",
        "X = tfidf_vec.fit_transform(texts_tokenized)"
      ]
    },
    {
      "cell_type": "code",
      "execution_count": null,
      "metadata": {
        "ExecuteTime": {
          "end_time": "2023-04-18T16:50:58.105598Z",
          "start_time": "2023-04-18T16:50:58.064598Z"
        },
        "colab": {
          "base_uri": "https://localhost:8080/"
        },
        "id": "fpCVQJG8vTY_",
        "outputId": "f8290c90-e00b-4cef-cff8-538702ff4ba7"
      },
      "outputs": [
        {
          "data": {
            "text/plain": [
              "dict_keys(['like', 'my', 'cat', 'is', 'the', 'most', 'perfect', 'this', 'or', 'bread'])"
            ]
          },
          "execution_count": 39,
          "metadata": {},
          "output_type": "execute_result"
        }
      ],
      "source": [
        "tfidf_vec.vocabulary_.keys()"
      ]
    },
    {
      "cell_type": "code",
      "execution_count": null,
      "metadata": {
        "ExecuteTime": {
          "end_time": "2023-04-18T16:50:58.105710Z",
          "start_time": "2023-04-18T16:50:58.066937Z"
        },
        "colab": {
          "base_uri": "https://localhost:8080/"
        },
        "id": "saJG0dWyvTZA",
        "outputId": "de21ac1d-4ae3-4cb3-86ed-d1a9dac5fe9a"
      },
      "outputs": [
        {
          "data": {
            "text/plain": [
              "<3x10 sparse matrix of type '<class 'numpy.float64'>'\n",
              "\twith 14 stored elements in Compressed Sparse Row format>"
            ]
          },
          "execution_count": 40,
          "metadata": {},
          "output_type": "execute_result"
        }
      ],
      "source": [
        "X"
      ]
    },
    {
      "cell_type": "code",
      "execution_count": null,
      "metadata": {
        "ExecuteTime": {
          "end_time": "2023-04-18T16:50:58.105840Z",
          "start_time": "2023-04-18T16:50:58.073856Z"
        },
        "colab": {
          "base_uri": "https://localhost:8080/"
        },
        "id": "t43byRVIvTZA",
        "outputId": "ad00d857-ded7-4f95-f58f-f41765ece04b"
      },
      "outputs": [
        {
          "data": {
            "text/plain": [
              "array([[0.        , 0.42544054, 0.        , 0.72033345, 0.        ,\n",
              "        0.54783215, 0.        , 0.        , 0.        , 0.        ],\n",
              "       [0.        , 0.50130994, 0.32276391, 0.        , 0.42439575,\n",
              "        0.32276391, 0.        , 0.42439575, 0.42439575, 0.        ],\n",
              "       [0.33976626, 0.20067143, 0.516802  , 0.        , 0.        ,\n",
              "        0.        , 0.33976626, 0.        , 0.        , 0.67953252]])"
            ]
          },
          "execution_count": 41,
          "metadata": {},
          "output_type": "execute_result"
        }
      ],
      "source": [
        "X.toarray()"
      ]
    },
    {
      "cell_type": "code",
      "execution_count": null,
      "metadata": {
        "ExecuteTime": {
          "end_time": "2023-04-18T16:50:58.106645Z",
          "start_time": "2023-04-18T16:50:58.078284Z"
        },
        "colab": {
          "base_uri": "https://localhost:8080/",
          "height": 142
        },
        "id": "YGpSpl4KvTZA",
        "outputId": "266e8fdd-a1ae-4c1c-a4b8-2a950abd0e03"
      },
      "outputs": [
        {
          "data": {
            "text/html": [
              "<div>\n",
              "<style scoped>\n",
              "    .dataframe tbody tr th:only-of-type {\n",
              "        vertical-align: middle;\n",
              "    }\n",
              "\n",
              "    .dataframe tbody tr th {\n",
              "        vertical-align: top;\n",
              "    }\n",
              "\n",
              "    .dataframe thead th {\n",
              "        text-align: right;\n",
              "    }\n",
              "</style>\n",
              "<table border=\"1\" class=\"dataframe\">\n",
              "  <thead>\n",
              "    <tr style=\"text-align: right;\">\n",
              "      <th></th>\n",
              "      <th>bread</th>\n",
              "      <th>cat</th>\n",
              "      <th>is</th>\n",
              "      <th>like</th>\n",
              "      <th>most</th>\n",
              "      <th>my</th>\n",
              "      <th>or</th>\n",
              "      <th>perfect</th>\n",
              "      <th>the</th>\n",
              "      <th>this</th>\n",
              "    </tr>\n",
              "  </thead>\n",
              "  <tbody>\n",
              "    <tr>\n",
              "      <th>0</th>\n",
              "      <td>0.000000</td>\n",
              "      <td>0.425441</td>\n",
              "      <td>0.000000</td>\n",
              "      <td>0.720333</td>\n",
              "      <td>0.000000</td>\n",
              "      <td>0.547832</td>\n",
              "      <td>0.000000</td>\n",
              "      <td>0.000000</td>\n",
              "      <td>0.000000</td>\n",
              "      <td>0.000000</td>\n",
              "    </tr>\n",
              "    <tr>\n",
              "      <th>1</th>\n",
              "      <td>0.000000</td>\n",
              "      <td>0.501310</td>\n",
              "      <td>0.322764</td>\n",
              "      <td>0.000000</td>\n",
              "      <td>0.424396</td>\n",
              "      <td>0.322764</td>\n",
              "      <td>0.000000</td>\n",
              "      <td>0.424396</td>\n",
              "      <td>0.424396</td>\n",
              "      <td>0.000000</td>\n",
              "    </tr>\n",
              "    <tr>\n",
              "      <th>2</th>\n",
              "      <td>0.339766</td>\n",
              "      <td>0.200671</td>\n",
              "      <td>0.516802</td>\n",
              "      <td>0.000000</td>\n",
              "      <td>0.000000</td>\n",
              "      <td>0.000000</td>\n",
              "      <td>0.339766</td>\n",
              "      <td>0.000000</td>\n",
              "      <td>0.000000</td>\n",
              "      <td>0.679533</td>\n",
              "    </tr>\n",
              "  </tbody>\n",
              "</table>\n",
              "</div>"
            ],
            "text/plain": [
              "      bread       cat        is      like      most        my        or   \n",
              "0  0.000000  0.425441  0.000000  0.720333  0.000000  0.547832  0.000000  \\\n",
              "1  0.000000  0.501310  0.322764  0.000000  0.424396  0.322764  0.000000   \n",
              "2  0.339766  0.200671  0.516802  0.000000  0.000000  0.000000  0.339766   \n",
              "\n",
              "    perfect       the      this  \n",
              "0  0.000000  0.000000  0.000000  \n",
              "1  0.424396  0.424396  0.000000  \n",
              "2  0.000000  0.000000  0.679533  "
            ]
          },
          "execution_count": 42,
          "metadata": {},
          "output_type": "execute_result"
        }
      ],
      "source": [
        "pd.DataFrame(X.toarray(), columns=cnt_vec.get_feature_names_out())"
      ]
    },
    {
      "cell_type": "markdown",
      "metadata": {
        "id": "Iwcgx05UvTZA"
      },
      "source": [
        "**Вопросик:** что изменилось по сравнению с использованием метода `CountVectorizer`?"
      ]
    },
    {
      "cell_type": "markdown",
      "metadata": {
        "id": "hrP93rWwvTZB"
      },
      "source": [
        "## 5. Решение задачи с текстовыми данными\n",
        "\n",
        "Будем решать задачу классификации твитов по тональности. Возьмём датасет из твитов, в котором про каждый твит известно, как он эмоционально окрашен: положительно или отрицательно. Задача: предсказывать эмоциональную окраску. Классификацию по тональности используют, например, в рекомендательных системах, чтобы понять, понравилось ли людям кафе, кино, etc.\n",
        "\n",
        "Скачиваем куски датасета ([источник](http://study.mokoron.com/)): [положительные](https://www.dropbox.com/s/fnpq3z4bcnoktiv/positive.csv?dl=0), [отрицательные](https://www.dropbox.com/s/r6u59ljhhjdg6j0/negative.csv)."
      ]
    },
    {
      "cell_type": "code",
      "execution_count": null,
      "metadata": {
        "ExecuteTime": {
          "end_time": "2023-04-18T16:50:58.106702Z",
          "start_time": "2023-04-18T16:50:58.080790Z"
        },
        "id": "fpp8g-QkJY1r"
      },
      "outputs": [],
      "source": [
        "# если у вас линукс / мак / collab или ещё какая-то среда, в которой работает wget, можно так:\n",
        "# !wget https://www.dropbox.com/s/fnpq3z4bcnoktiv/positive.csv\n",
        "# !wget https://www.dropbox.com/s/r6u59ljhhjdg6j0/negative.csv"
      ]
    },
    {
      "cell_type": "code",
      "execution_count": null,
      "metadata": {
        "ExecuteTime": {
          "end_time": "2023-04-18T16:50:58.106741Z",
          "start_time": "2023-04-18T16:50:58.082275Z"
        },
        "id": "1oVlBKs_JY1r"
      },
      "outputs": [],
      "source": [
        "import numpy as np\n",
        "import pandas as pd\n",
        "from sklearn.linear_model import LogisticRegression\n",
        "from sklearn.metrics import classification_report, roc_auc_score\n",
        "from sklearn.model_selection import train_test_split\n",
        "from sklearn.preprocessing import MaxAbsScaler"
      ]
    },
    {
      "cell_type": "code",
      "execution_count": null,
      "metadata": {
        "ExecuteTime": {
          "end_time": "2023-04-18T16:50:58.494315Z",
          "start_time": "2023-04-18T16:50:58.085576Z"
        },
        "id": "lD3sGsEeJY1r"
      },
      "outputs": [],
      "source": [
        "# считываем данные и заполняем общий датасет\n",
        "positive = pd.read_csv(\"positive.csv\", sep=\";\", usecols=[3], names=[\"text\"])\n",
        "positive[\"label\"] = \"positive\"\n",
        "negative = pd.read_csv(\"negative.csv\", sep=\";\", usecols=[3], names=[\"text\"])\n",
        "negative[\"label\"] = \"negative\"\n",
        "df = pd.concat([positive, negative])"
      ]
    },
    {
      "cell_type": "code",
      "execution_count": null,
      "metadata": {
        "ExecuteTime": {
          "end_time": "2023-04-18T16:50:58.498928Z",
          "start_time": "2023-04-18T16:50:58.495906Z"
        },
        "id": "m5CxnRFFJY1r",
        "outputId": "8497cd0f-b60f-4bc5-ae3e-0a3fb741482a"
      },
      "outputs": [
        {
          "data": {
            "text/html": [
              "<div>\n",
              "<style scoped>\n",
              "    .dataframe tbody tr th:only-of-type {\n",
              "        vertical-align: middle;\n",
              "    }\n",
              "\n",
              "    .dataframe tbody tr th {\n",
              "        vertical-align: top;\n",
              "    }\n",
              "\n",
              "    .dataframe thead th {\n",
              "        text-align: right;\n",
              "    }\n",
              "</style>\n",
              "<table border=\"1\" class=\"dataframe\">\n",
              "  <thead>\n",
              "    <tr style=\"text-align: right;\">\n",
              "      <th></th>\n",
              "      <th>text</th>\n",
              "      <th>label</th>\n",
              "    </tr>\n",
              "  </thead>\n",
              "  <tbody>\n",
              "    <tr>\n",
              "      <th>111918</th>\n",
              "      <td>Но не каждый хочет что то исправлять:( http://...</td>\n",
              "      <td>negative</td>\n",
              "    </tr>\n",
              "    <tr>\n",
              "      <th>111919</th>\n",
              "      <td>скучаю так :-( только @taaannyaaa вправляет мо...</td>\n",
              "      <td>negative</td>\n",
              "    </tr>\n",
              "    <tr>\n",
              "      <th>111920</th>\n",
              "      <td>Вот и в школу, в говно это идти уже надо(</td>\n",
              "      <td>negative</td>\n",
              "    </tr>\n",
              "    <tr>\n",
              "      <th>111921</th>\n",
              "      <td>RT @_Them__: @LisaBeroud Тауриэль, не грусти :...</td>\n",
              "      <td>negative</td>\n",
              "    </tr>\n",
              "    <tr>\n",
              "      <th>111922</th>\n",
              "      <td>Такси везет меня на работу. Раздумываю приплат...</td>\n",
              "      <td>negative</td>\n",
              "    </tr>\n",
              "  </tbody>\n",
              "</table>\n",
              "</div>"
            ],
            "text/plain": [
              "                                                     text     label\n",
              "111918  Но не каждый хочет что то исправлять:( http://...  negative\n",
              "111919  скучаю так :-( только @taaannyaaa вправляет мо...  negative\n",
              "111920          Вот и в школу, в говно это идти уже надо(  negative\n",
              "111921  RT @_Them__: @LisaBeroud Тауриэль, не грусти :...  negative\n",
              "111922  Такси везет меня на работу. Раздумываю приплат...  negative"
            ]
          },
          "execution_count": 46,
          "metadata": {},
          "output_type": "execute_result"
        }
      ],
      "source": [
        "df.tail()"
      ]
    },
    {
      "cell_type": "code",
      "execution_count": null,
      "metadata": {
        "ExecuteTime": {
          "end_time": "2023-04-18T16:50:58.501134Z",
          "start_time": "2023-04-18T16:50:58.498598Z"
        },
        "id": "nrkAq7GoJY1r",
        "outputId": "ff48ad1f-7b9d-4e08-80e6-fc38dd054d4f"
      },
      "outputs": [
        {
          "data": {
            "text/plain": [
              "(226834, 2)"
            ]
          },
          "execution_count": 47,
          "metadata": {},
          "output_type": "execute_result"
        }
      ],
      "source": [
        "df.shape"
      ]
    },
    {
      "cell_type": "code",
      "execution_count": null,
      "metadata": {
        "ExecuteTime": {
          "end_time": "2023-04-18T16:50:58.534375Z",
          "start_time": "2023-04-18T16:50:58.501394Z"
        },
        "id": "L3Abgj_vJY1r"
      },
      "outputs": [],
      "source": [
        "x_train, x_test, y_train, y_test = train_test_split(df.text, df.label, random_state=13)"
      ]
    },
    {
      "cell_type": "markdown",
      "metadata": {
        "id": "SnzNFeOWJY1s"
      },
      "source": [
        "#### n-граммы\n",
        "\n",
        "n-граммы — это последовательности n токенов из исходного текста. В простейшем случае это могут быть последовательности из букв или последовательности из слов. Давайте посмотрим подробнее на примере."
      ]
    },
    {
      "cell_type": "code",
      "execution_count": null,
      "metadata": {
        "ExecuteTime": {
          "end_time": "2023-04-18T16:50:58.535017Z",
          "start_time": "2023-04-18T16:50:58.516459Z"
        },
        "id": "mMoCnsi5vTZB"
      },
      "outputs": [],
      "source": [
        "from nltk import ngrams"
      ]
    },
    {
      "cell_type": "code",
      "execution_count": null,
      "metadata": {
        "ExecuteTime": {
          "end_time": "2023-04-18T16:50:58.555122Z",
          "start_time": "2023-04-18T16:50:58.518609Z"
        },
        "colab": {
          "base_uri": "https://localhost:8080/"
        },
        "id": "lIf_da6RvTZD",
        "outputId": "9e811e97-bc9b-4bc4-a980-b164d1a5a575"
      },
      "outputs": [
        {
          "data": {
            "text/plain": [
              "[('Если',), ('б',), ('мне',), ('платили',), ('каждый',), ('раз',)]"
            ]
          },
          "execution_count": 50,
          "metadata": {},
          "output_type": "execute_result"
        }
      ],
      "source": [
        "sent = \"Если б мне платили каждый раз\".split()\n",
        "list(ngrams(sent, 1))  # униграммы"
      ]
    },
    {
      "cell_type": "code",
      "execution_count": null,
      "metadata": {
        "ExecuteTime": {
          "end_time": "2023-04-18T16:50:58.555317Z",
          "start_time": "2023-04-18T16:50:58.521205Z"
        },
        "colab": {
          "base_uri": "https://localhost:8080/"
        },
        "id": "YhaYTVyuvTZD",
        "outputId": "dbd0ae5c-d5eb-4e1f-e501-7e54476014b7"
      },
      "outputs": [
        {
          "data": {
            "text/plain": [
              "[('Если', 'б'),\n",
              " ('б', 'мне'),\n",
              " ('мне', 'платили'),\n",
              " ('платили', 'каждый'),\n",
              " ('каждый', 'раз')]"
            ]
          },
          "execution_count": 51,
          "metadata": {},
          "output_type": "execute_result"
        }
      ],
      "source": [
        "list(ngrams(sent, 2))  # биграммы"
      ]
    },
    {
      "cell_type": "code",
      "execution_count": null,
      "metadata": {
        "ExecuteTime": {
          "end_time": "2023-04-18T16:50:58.555416Z",
          "start_time": "2023-04-18T16:50:58.523529Z"
        },
        "colab": {
          "base_uri": "https://localhost:8080/"
        },
        "id": "3fpat_ZGvTZD",
        "outputId": "a49249bd-6199-41ff-85cd-fe108b2a684a"
      },
      "outputs": [
        {
          "data": {
            "text/plain": [
              "[('Если', 'б', 'мне'),\n",
              " ('б', 'мне', 'платили'),\n",
              " ('мне', 'платили', 'каждый'),\n",
              " ('платили', 'каждый', 'раз')]"
            ]
          },
          "execution_count": 52,
          "metadata": {},
          "output_type": "execute_result"
        }
      ],
      "source": [
        "list(ngrams(sent, 3))  # триграммы"
      ]
    },
    {
      "cell_type": "code",
      "execution_count": null,
      "metadata": {
        "ExecuteTime": {
          "end_time": "2023-04-18T16:50:58.555533Z",
          "start_time": "2023-04-18T16:50:58.525914Z"
        },
        "colab": {
          "base_uri": "https://localhost:8080/"
        },
        "id": "wK2QdeycvTZE",
        "outputId": "c8dc6ac6-1ee8-4cc1-8526-47cd8dbfaa40"
      },
      "outputs": [
        {
          "data": {
            "text/plain": [
              "[('Если', 'б', 'мне', 'платили', 'каждый'),\n",
              " ('б', 'мне', 'платили', 'каждый', 'раз')]"
            ]
          },
          "execution_count": 53,
          "metadata": {},
          "output_type": "execute_result"
        }
      ],
      "source": [
        "list(ngrams(sent, 5))  # ... пентаграммы?"
      ]
    },
    {
      "cell_type": "markdown",
      "metadata": {
        "id": "Qo8QZI0wJY1s"
      },
      "source": [
        "В качестве альтернативы можно пользоваться `CountVectorizer`, который работает так:\n",
        "* строит для каждого документа (каждой пришедшей ему строки) вектор размерности количества токенов в нашем словаре\n",
        "* заполняет каждый i-тый элемент количеством вхождений токена в данный документ\n",
        "\n",
        "Параметр `ngram_range` отвечает за то, какие n-граммы мы используем в качестве фичей:\n",
        "- `ngram_range=(1, 1)` — униграммы\n",
        "- `ngram_range=(3, 3)` — триграммы\n",
        "- `ngram_range=(1, 3)` — униграммы, биграммы и триграммы"
      ]
    },
    {
      "cell_type": "markdown",
      "metadata": {
        "id": "pXxk4fnuJY1s"
      },
      "source": [
        "### 5.1 Обучение моделей\n",
        "\n",
        "Давайте обучим наш первый бейзлайн — логрег на униграммах!"
      ]
    },
    {
      "cell_type": "code",
      "execution_count": null,
      "metadata": {
        "ExecuteTime": {
          "end_time": "2023-04-18T16:51:05.699896Z",
          "start_time": "2023-04-18T16:50:58.589759Z"
        },
        "id": "oTJxQssTJY1s",
        "outputId": "04b53fa7-9990-460e-bb98-eea70434e281"
      },
      "outputs": [
        {
          "name": "stdout",
          "output_type": "stream",
          "text": [
            "              precision    recall  f1-score   support\n",
            "\n",
            "    negative       0.76      0.77      0.76     27957\n",
            "    positive       0.77      0.76      0.77     28752\n",
            "\n",
            "    accuracy                           0.76     56709\n",
            "   macro avg       0.76      0.76      0.76     56709\n",
            "weighted avg       0.76      0.76      0.76     56709\n",
            "\n"
          ]
        }
      ],
      "source": [
        "vec = CountVectorizer(ngram_range=(1, 1))\n",
        "bow = vec.fit_transform(x_train)  # bow — bag of words (мешок слов)\n",
        "bow_test = vec.transform(x_test)\n",
        "\n",
        "scaler = MaxAbsScaler()\n",
        "bow = scaler.fit_transform(bow)\n",
        "bow_test = scaler.transform(bow_test)\n",
        "\n",
        "clf = LogisticRegression(max_iter=200, random_state=42)\n",
        "clf.fit(bow, y_train)\n",
        "pred = clf.predict(bow_test)\n",
        "print(classification_report(y_test, pred))"
      ]
    },
    {
      "cell_type": "markdown",
      "metadata": {
        "id": "3a56F0vivTZL"
      },
      "source": [
        "Попробуем сделать то же самое для триграмм."
      ]
    },
    {
      "cell_type": "code",
      "execution_count": null,
      "metadata": {
        "ExecuteTime": {
          "end_time": "2023-04-18T16:51:32.529458Z",
          "start_time": "2023-04-18T16:51:05.755811Z"
        },
        "id": "5oQpnmvdJY1t",
        "outputId": "ece03877-e64a-4f51-e332-c35cb8ec0bb1"
      },
      "outputs": [
        {
          "name": "stdout",
          "output_type": "stream",
          "text": [
            "              precision    recall  f1-score   support\n",
            "\n",
            "    negative       0.72      0.47      0.57     27957\n",
            "    positive       0.61      0.82      0.70     28752\n",
            "\n",
            "    accuracy                           0.65     56709\n",
            "   macro avg       0.67      0.65      0.64     56709\n",
            "weighted avg       0.67      0.65      0.64     56709\n",
            "\n"
          ]
        }
      ],
      "source": [
        "vec = CountVectorizer(ngram_range=(3, 3))\n",
        "bow = vec.fit_transform(x_train)\n",
        "bow_test = vec.transform(x_test)\n",
        "\n",
        "scaler = MaxAbsScaler()\n",
        "bow = scaler.fit_transform(bow)\n",
        "bow_test = scaler.transform(bow_test)\n",
        "\n",
        "clf = LogisticRegression(max_iter=200, random_state=42)\n",
        "clf.fit(bow, y_train)\n",
        "pred_thrgramm = clf.predict(bow_test)\n",
        "print(classification_report(y_test, pred_thrgramm))"
      ]
    },
    {
      "cell_type": "markdown",
      "metadata": {
        "id": "Ne9kOzRSJY1t"
      },
      "source": [
        "В нашем случае стало хуже :)"
      ]
    },
    {
      "cell_type": "markdown",
      "metadata": {
        "id": "EyW9lA_6vTZL"
      },
      "source": [
        "А теперь повторим процедуру для TF-IDF."
      ]
    },
    {
      "cell_type": "code",
      "execution_count": null,
      "metadata": {
        "ExecuteTime": {
          "end_time": "2023-04-18T16:51:40.397191Z",
          "start_time": "2023-04-18T16:51:32.587689Z"
        },
        "id": "HMQXJdY9JY1t"
      },
      "outputs": [],
      "source": [
        "vec = TfidfVectorizer(ngram_range=(1, 1))\n",
        "vec_train = vec.fit_transform(x_train)\n",
        "vec_test = vec.transform(x_test)\n",
        "\n",
        "scaler = MaxAbsScaler()\n",
        "vec_train = scaler.fit_transform(vec_train)\n",
        "vec_test = scaler.transform(vec_test)\n",
        "\n",
        "clf = LogisticRegression(max_iter=300, random_state=42)\n",
        "clf.fit(vec_train, y_train)\n",
        "pred_tfidf = clf.predict(vec_test)\n",
        "print(classification_report(y_test, pred_tfidf))"
      ]
    },
    {
      "cell_type": "markdown",
      "metadata": {
        "id": "Ixapx51FvTZM"
      },
      "source": [
        "### 5.2 О важности эксплоративного анализа\n",
        "\n",
        "Но иногда пунктуация бывает и не шумом. Главное — отталкиваться от задачи. Что будет если вообще не убирать пунктуацию?"
      ]
    },
    {
      "cell_type": "code",
      "execution_count": null,
      "metadata": {
        "ExecuteTime": {
          "end_time": "2023-04-18T16:52:00.862268Z",
          "start_time": "2023-04-18T16:51:40.411317Z"
        },
        "id": "yQCYYor2JY1t"
      },
      "outputs": [],
      "source": [
        "vec = CountVectorizer(ngram_range=(1, 1), tokenizer=word_tokenize)\n",
        "bow = vec.fit_transform(x_train)\n",
        "bow_test = vec.transform(x_test)\n",
        "\n",
        "scaler = MaxAbsScaler()\n",
        "bow = scaler.fit_transform(bow)\n",
        "bow_test = scaler.transform(bow_test)\n",
        "\n",
        "clf = LogisticRegression(max_iter=200, random_state=42)\n",
        "clf.fit(bow, y_train)\n",
        "pred = clf.predict(bow_test)\n",
        "print(classification_report(y_test, pred))"
      ]
    },
    {
      "cell_type": "markdown",
      "metadata": {
        "id": "7_8uz4TevTZM"
      },
      "source": [
        "Стоило оставить пунктуацию, и внезапно все метрики устремились к 1. Как это получилось? Среди неё были очень значимые токены (как вы думаете, какие?). Найдём признак с самыми большим коэффициентом:"
      ]
    },
    {
      "cell_type": "code",
      "execution_count": null,
      "metadata": {
        "id": "LupaWa61JY1t"
      },
      "outputs": [],
      "source": [
        "vec.get_feature_names_out()[np.argmax(clf.coef_)]"
      ]
    },
    {
      "cell_type": "markdown",
      "metadata": {
        "id": "4ZC8Mb6bvTZM"
      },
      "source": [
        "Посмотрим, как один из супер-значительных токенов справится с классификацией безо всякого машинного обучения:"
      ]
    },
    {
      "cell_type": "code",
      "execution_count": null,
      "metadata": {
        "ExecuteTime": {
          "end_time": "2023-04-18T16:52:01.743208Z",
          "start_time": "2023-04-18T16:52:00.882081Z"
        },
        "id": "vvWdQbYMvTZN"
      },
      "outputs": [],
      "source": [
        "cool_token = vec.get_feature_names_out()[np.argmax(clf.coef_)]\n",
        "pred = [\"positive\" if cool_token in tweet else \"negative\" for tweet in x_test]\n",
        "print(classification_report(y_test, pred))"
      ]
    },
    {
      "cell_type": "code",
      "execution_count": null,
      "metadata": {
        "ExecuteTime": {
          "end_time": "2023-04-18T16:52:01.799440Z",
          "start_time": "2023-04-18T16:52:01.743612Z"
        },
        "id": "3nD71B-ZvTZO"
      },
      "outputs": [],
      "source": [
        "cool_token = vec.get_feature_names_out()[np.argmax(clf.coef_)]\n",
        "tweets_with_cool_token = [tweet for tweet in x_train if cool_token in tweet]\n",
        "np.random.seed(42)\n",
        "for tweet in np.random.choice(tweets_with_cool_token, size=10, replace=False):\n",
        "    print(tweet)"
      ]
    },
    {
      "cell_type": "markdown",
      "metadata": {
        "id": "Dv6P8ncIvTZO"
      },
      "source": [
        "### 5.3 Символьные n-граммы\n",
        "\n",
        "Теперь в качестве признаков используем, например, униграммы символов:"
      ]
    },
    {
      "cell_type": "code",
      "execution_count": null,
      "metadata": {
        "ExecuteTime": {
          "end_time": "2023-04-18T16:52:07.747526Z",
          "start_time": "2023-04-18T16:52:01.811832Z"
        },
        "id": "mO1dvXx3JY1u"
      },
      "outputs": [],
      "source": [
        "vec = CountVectorizer(ngram_range=(1, 1), analyzer=\"char\")\n",
        "bow = vec.fit_transform(x_train)\n",
        "bow_test = vec.transform(x_test)\n",
        "\n",
        "scaler = MaxAbsScaler()\n",
        "bow = scaler.fit_transform(bow)\n",
        "bow_test = scaler.transform(bow_test)\n",
        "\n",
        "clf = LogisticRegression(max_iter=200, random_state=42)\n",
        "clf.fit(bow, y_train)\n",
        "pred = clf.predict(bow_test)\n",
        "print(classification_report(y_test, pred))"
      ]
    },
    {
      "cell_type": "markdown",
      "metadata": {
        "id": "8PK8-_xwvTZO"
      },
      "source": [
        "В общем-то, теперь уже понятно, почему на этих данных здесь 1. Так или иначе, на символах классифицировать тоже можно: для некоторых задач (например, для определения языка) признаки-символьные n-граммы могут внести серьезный вклад в качество модели. Ещё одна замечательная особенность признаков-символов: токенизация и лемматизация не нужна, можно использовать такой подход для языков, у которых нет готовых анализаторов."
      ]
    },
    {
      "cell_type": "markdown",
      "metadata": {
        "id": "islq37BzvTZP"
      },
      "source": [
        "## 6. Регулярные выражения\n",
        "\n",
        "Вообще, часто бывает так, что для конкретного случая нужен особый способ токенизации, и надо самостоятельно написать правило шаблонного типа для определения того, что такое токен. Или, например, перед работой с текстом, надо почистить его от своеобразного мусора: упоминаний пользователей, url и так далее. В таких задачах могут помочь регулярные выражения. Навык полезный, давайте в нём тоже потренируемся."
      ]
    },
    {
      "cell_type": "code",
      "execution_count": null,
      "metadata": {
        "ExecuteTime": {
          "end_time": "2023-04-18T16:52:07.749061Z",
          "start_time": "2023-04-18T16:52:07.747327Z"
        },
        "id": "ymGN9r6gvTZP"
      },
      "outputs": [],
      "source": [
        "import re"
      ]
    },
    {
      "cell_type": "markdown",
      "metadata": {
        "id": "5qJxZd2pvTZQ"
      },
      "source": [
        "### findall\n",
        "возвращает список всех найденных совпадений\n",
        "\n",
        "- ? : ноль или одно повторение\n",
        "- \\* : ноль или более повторений\n",
        "- \\+ : одно или более повторений\n",
        "- . : любой символ"
      ]
    },
    {
      "cell_type": "code",
      "execution_count": null,
      "metadata": {
        "ExecuteTime": {
          "end_time": "2023-04-18T16:52:07.751928Z",
          "start_time": "2023-04-18T16:52:07.749921Z"
        },
        "id": "Hn6AnrvtvTZQ"
      },
      "outputs": [],
      "source": [
        "result = re.findall(\"ab+c.\", \"abcdefghijkabcabcxabc\")\n",
        "print(result)"
      ]
    },
    {
      "cell_type": "markdown",
      "metadata": {
        "id": "sHOTT9XTvTZQ"
      },
      "source": [
        "Вопрос на внимательность: почему нет abcx?"
      ]
    },
    {
      "cell_type": "code",
      "execution_count": null,
      "metadata": {
        "ExecuteTime": {
          "end_time": "2023-04-18T16:52:07.754693Z",
          "start_time": "2023-04-18T16:52:07.751977Z"
        },
        "id": "k7gzrPCOvTZR"
      },
      "outputs": [],
      "source": [
        "re.findall(\"ab+c.\", \"abbbca\")"
      ]
    },
    {
      "cell_type": "markdown",
      "metadata": {
        "id": "8qxi1znlvTZR"
      },
      "source": [
        "### split\n",
        "разделяет строку по заданному шаблону\n"
      ]
    },
    {
      "cell_type": "code",
      "execution_count": null,
      "metadata": {
        "ExecuteTime": {
          "end_time": "2023-04-18T16:52:07.756104Z",
          "start_time": "2023-04-18T16:52:07.754642Z"
        },
        "id": "z3Qz-3RSvTZR"
      },
      "outputs": [],
      "source": [
        "result = re.split(\",\", \"itsy, bitsy, teenie, weenie\")\n",
        "print(result)"
      ]
    },
    {
      "cell_type": "markdown",
      "metadata": {
        "id": "0Ur6WK3GvTZR"
      },
      "source": [
        "можно указать максимальное количество разбиений"
      ]
    },
    {
      "cell_type": "code",
      "execution_count": null,
      "metadata": {
        "ExecuteTime": {
          "end_time": "2023-04-18T16:52:07.758646Z",
          "start_time": "2023-04-18T16:52:07.756699Z"
        },
        "id": "Pwu8L0LevTZS"
      },
      "outputs": [],
      "source": [
        "result = re.split(\",\", \"itsy, bitsy, teenie, weenie\", maxsplit=2)\n",
        "print(result)"
      ]
    },
    {
      "cell_type": "markdown",
      "metadata": {
        "id": "rGFk3MpOvTZS"
      },
      "source": [
        "### sub\n",
        "ищет шаблон в строке и заменяет все совпадения на указанную подстроку\n",
        "\n",
        "параметры: (pattern, repl, string)"
      ]
    },
    {
      "cell_type": "code",
      "execution_count": null,
      "metadata": {
        "ExecuteTime": {
          "end_time": "2023-04-18T16:52:07.760056Z",
          "start_time": "2023-04-18T16:52:07.758723Z"
        },
        "id": "azeAmGOBvTZS"
      },
      "outputs": [],
      "source": [
        "result = re.sub(\"a\", \"b\", \"abcabc\")\n",
        "print(result)"
      ]
    },
    {
      "cell_type": "markdown",
      "metadata": {
        "id": "bJfqCo6eJY1v"
      },
      "source": [
        "При этом в качестве repl, можно передавать не только строку, но и функцию, которая принимает на вход [Match](https://docs.python.org/3/library/re.html#match-objects) объект. Можно делать что-то типо этого:"
      ]
    },
    {
      "cell_type": "code",
      "execution_count": null,
      "metadata": {
        "ExecuteTime": {
          "end_time": "2023-04-18T16:52:07.762722Z",
          "start_time": "2023-04-18T16:52:07.761009Z"
        },
        "id": "Mcsm2qohJY1v"
      },
      "outputs": [],
      "source": [
        "counter = 0\n",
        "\n",
        "\n",
        "def count(match):\n",
        "    global counter\n",
        "    counter += 1\n",
        "    return f\"(a#{counter})\"\n",
        "\n",
        "\n",
        "re.sub(\"a\", count, \"abcabc\")"
      ]
    },
    {
      "cell_type": "markdown",
      "metadata": {
        "id": "3glnonIWJY1v"
      },
      "source": [
        "Кстати, c объектами типа re.Match работают и многие другие методы re. Например, метод re.finditer в отличии от re.findall будет возвращать те самые re.Match."
      ]
    },
    {
      "cell_type": "code",
      "execution_count": null,
      "metadata": {
        "ExecuteTime": {
          "end_time": "2023-04-18T16:52:07.765456Z",
          "start_time": "2023-04-18T16:52:07.763298Z"
        },
        "id": "R9Gqj1i_JY1v"
      },
      "outputs": [],
      "source": [
        "for match in re.finditer(\"ab+c.\", \"abcdefghijkabcabcxabc\"):\n",
        "    print(match)"
      ]
    },
    {
      "cell_type": "markdown",
      "metadata": {
        "id": "Ax9bgjn8JY1v"
      },
      "source": [
        "Помимо найденных строчек объекты Match также, например, содержат информацию о позиции найденного \"совпадения\" в строке (span)"
      ]
    },
    {
      "cell_type": "markdown",
      "metadata": {
        "id": "HY8kwgOVvTZS"
      },
      "source": [
        "### compile\n",
        "компилирует регулярное выражение в отдельный объект"
      ]
    },
    {
      "cell_type": "code",
      "execution_count": null,
      "metadata": {
        "ExecuteTime": {
          "end_time": "2023-04-18T16:52:07.859382Z",
          "start_time": "2023-04-18T16:52:07.765680Z"
        },
        "id": "Nudrx7nJvTZS"
      },
      "outputs": [],
      "source": [
        "# Пример: построение списка всех слов строки:\n",
        "\n",
        "prog = re.compile(\"[А-Яа-яё\\-]+\")\n",
        "prog.findall(\"Слова? Да, больше, ещё больше слов! Что-то ещё.\")"
      ]
    },
    {
      "cell_type": "markdown",
      "metadata": {
        "id": "YONOWD3XvTZS"
      },
      "source": [
        "**Задание**: вернуть список доменов (@gmail.com) из списка адресов электронной почты:\n",
        "\n",
        "```\n",
        "abc.test@gmail.com, xyz@test.in, test.first@analyticsvidhya.com, first.test@rest.biz\n",
        "```"
      ]
    },
    {
      "cell_type": "code",
      "execution_count": null,
      "metadata": {
        "ExecuteTime": {
          "end_time": "2023-04-18T16:52:07.859551Z",
          "start_time": "2023-04-18T16:52:07.768184Z"
        },
        "id": "JLWpguIsvTZT"
      },
      "outputs": [],
      "source": [
        "emails = \"abc.test@gmail.com, xyz@test.in, test.first@analyticsvidhya.com, first.test@rest.biz\""
      ]
    },
    {
      "cell_type": "code",
      "execution_count": null,
      "metadata": {
        "ExecuteTime": {
          "end_time": "2023-04-18T16:52:07.860119Z",
          "start_time": "2023-04-18T16:52:07.770050Z"
        },
        "id": "ayTzy2lCvTZT"
      },
      "outputs": [],
      "source": [
        "# <YOUR CODE HERE>"
      ]
    },
    {
      "cell_type": "markdown",
      "metadata": {
        "id": "JxLo-n-gJY1w"
      },
      "source": [
        "## 7. Немножко про категориальные признаки\n",
        "\n",
        "Мы уже говорили, что кодировать категориальные признаки просто в виде чисел — не очень хорошая идея. Это задаёт некоторый порядок, которого на категориальных переменных может и не быть. Существует три основных способа обработки категориальных значений:\n",
        "- Label encoding\n",
        "- One-hot-кодирование\n",
        "- Счётчики (CTR, mean-target кодирование) — каждый категориальный признак заменяется на среднее значение целевой переменной по всем объектам, имеющим одинаковое значение в этом признаке\n",
        "\n",
        "Основная идея счетчиков заключается в том, что нам важны не сами категории, а значения целевой переменной, которые имеют объекты этой категории. Каждый категориальный признак мы заменим средним значением целевой переменной по всем объектам этой же категории. Формально это можно записать так:\n",
        "$$\n",
        "g_j(x, X) = \\frac{\\sum_{i=1}^{l} [f_j(x) = f_j(x_i)][y_i = +1]}{\\sum_{i=1}^{l} [f_j(x) = f_j(x_i)]}\n",
        "$$\n",
        "\n",
        "Сравним два последних метода на нашем любимом Титанике, но на этот раз не будем сильно заморачиваться с обработкой пропусков."
      ]
    },
    {
      "cell_type": "code",
      "execution_count": null,
      "metadata": {
        "ExecuteTime": {
          "end_time": "2023-04-18T16:52:07.860175Z",
          "start_time": "2023-04-18T16:52:07.772028Z"
        },
        "id": "YR_f4JJnJY1w"
      },
      "outputs": [],
      "source": [
        "from sklearn.preprocessing import MinMaxScaler"
      ]
    },
    {
      "cell_type": "code",
      "execution_count": null,
      "metadata": {
        "ExecuteTime": {
          "end_time": "2023-04-18T16:52:08.143798Z",
          "start_time": "2023-04-18T16:52:07.774360Z"
        },
        "id": "jru_MJArJY1w"
      },
      "outputs": [],
      "source": [
        "data = pd.read_csv(\n",
        "    \"https://raw.githubusercontent.com/iad34/seminars/master/materials/data_sem1.csv\",\n",
        "    sep=\";\",\n",
        ")\n",
        "\n",
        "data[\"Age\"] = data[\"Age\"].fillna(data.groupby(\"Pclass\")[\"Age\"].transform(\"median\"))\n",
        "data.drop(\"Cabin\", axis=1, inplace=True)\n",
        "data.drop(\"Name\", axis=1, inplace=True)\n",
        "data.drop(\"Ticket\", axis=1, inplace=True)\n",
        "data.dropna(inplace=True)"
      ]
    },
    {
      "cell_type": "markdown",
      "metadata": {
        "id": "393CLxDdJY1w"
      },
      "source": [
        "### 7.1 OHE"
      ]
    },
    {
      "cell_type": "code",
      "execution_count": null,
      "metadata": {
        "ExecuteTime": {
          "end_time": "2023-04-18T16:52:08.155498Z",
          "start_time": "2023-04-18T16:52:08.146353Z"
        },
        "id": "B8rSfDGJJY1w"
      },
      "outputs": [],
      "source": [
        "data_ohe = pd.get_dummies(data, drop_first=True)\n",
        "\n",
        "y = data_ohe[\"Survived\"]\n",
        "data_ohe = data_ohe.drop([\"Survived\"], axis=1)\n",
        "data_ohe.head()"
      ]
    },
    {
      "cell_type": "code",
      "execution_count": null,
      "metadata": {
        "ExecuteTime": {
          "end_time": "2023-04-18T16:52:08.195002Z",
          "start_time": "2023-04-18T16:52:08.156152Z"
        },
        "id": "I7Q4RjCaJY1x"
      },
      "outputs": [],
      "source": [
        "X_train, X_test, y_train, y_test = train_test_split(\n",
        "    data_ohe, y, test_size=0.2, random_state=42, shuffle=True\n",
        ")\n",
        "\n",
        "scaler = MinMaxScaler()\n",
        "X_train = scaler.fit_transform(X_train)\n",
        "X_test = scaler.transform(X_test)\n",
        "\n",
        "model = LogisticRegression(max_iter=300)\n",
        "model.fit(X_train, y_train)\n",
        "prediction = model.predict(X_test)\n",
        "print(f\"ROC AUC: {roc_auc_score(prediction, y_test):.2f}\")"
      ]
    },
    {
      "cell_type": "markdown",
      "metadata": {
        "id": "ommvx7DTJY1x"
      },
      "source": [
        "### 7.2 Mean target encoding"
      ]
    },
    {
      "cell_type": "code",
      "execution_count": null,
      "metadata": {
        "ExecuteTime": {
          "end_time": "2023-04-18T16:52:08.195125Z",
          "start_time": "2023-04-18T16:52:08.167818Z"
        },
        "id": "HTL2pmqkJY1x"
      },
      "outputs": [],
      "source": [
        "X_train, X_test, y_train, y_test = train_test_split(\n",
        "    data, y, test_size=0.2, random_state=42, shuffle=True\n",
        ")"
      ]
    },
    {
      "cell_type": "code",
      "execution_count": null,
      "metadata": {
        "ExecuteTime": {
          "end_time": "2023-04-18T16:52:08.212439Z",
          "start_time": "2023-04-18T16:52:08.172604Z"
        },
        "id": "oyLUvKBrJY1x"
      },
      "outputs": [],
      "source": [
        "mean_target = X_train.groupby(\"Sex\")[\"Survived\"].mean()\n",
        "X_train.loc[:, \"Sex\"] = X_train[\"Sex\"].replace(mean_target)\n",
        "X_test.loc[:, \"Sex\"] = X_test[\"Sex\"].replace(mean_target)\n",
        "\n",
        "mean_target_e = X_train.groupby(\"Embarked\")[\"Survived\"].mean()\n",
        "X_train.loc[:, \"Embarked\"] = X_train[\"Embarked\"].replace(mean_target_e)\n",
        "X_test.loc[:, \"Embarked\"] = X_test[\"Embarked\"].replace(mean_target_e)\n",
        "\n",
        "X_train.drop([\"Survived\"], axis=1, inplace=True)\n",
        "X_test.drop([\"Survived\"], axis=1, inplace=True)"
      ]
    },
    {
      "cell_type": "code",
      "execution_count": null,
      "metadata": {
        "ExecuteTime": {
          "end_time": "2023-04-18T16:52:08.225105Z",
          "start_time": "2023-04-18T16:52:08.178853Z"
        },
        "id": "raoOpBINJY1x"
      },
      "outputs": [],
      "source": [
        "scaler = MinMaxScaler()\n",
        "X_train = scaler.fit_transform(X_train)\n",
        "X_test = scaler.transform(X_test)\n",
        "\n",
        "model = LogisticRegression(max_iter=300)\n",
        "model.fit(X_train, y_train)\n",
        "prediction = model.predict(X_test)\n",
        "print(f\"ROC AUC: {roc_auc_score(prediction, y_test):.2f}\")"
      ]
    },
    {
      "cell_type": "markdown",
      "metadata": {
        "id": "UN4LiIeqJY1x"
      },
      "source": [
        "Кодирование признаков с помощью счетчиков приведённом выше может приводить к переобучению. Почему?\n",
        "\n",
        "Чтобы бороться с этим, можно экспериментировать с разными модификациями:\n",
        "\n",
        "1. Вычислять значение счётчика по всем объектам расположенным выше в датасете (например, если у нас выборка отсортирована по времени)\n",
        "2. Вычислять по фолдам, то есть делить выборку на некоторое количество частей и подсчитывать значение признаков по всем фолдам кроме текущего (как делается в кросс-валидации)\n",
        "3. Добавлять шум в посчитанные признаки"
      ]
    }
  ],
  "metadata": {
    "colab": {
      "name": "Copy of sem10_texts.ipynb",
      "provenance": []
    },
    "kernelspec": {
      "display_name": "Python 3 (ipykernel)",
      "language": "python",
      "name": "python3"
    },
    "language_info": {
      "codemirror_mode": {
        "name": "ipython",
        "version": 3
      },
      "file_extension": ".py",
      "mimetype": "text/x-python",
      "name": "python",
      "nbconvert_exporter": "python",
      "pygments_lexer": "ipython3",
      "version": "3.10.10"
    }
  },
  "nbformat": 4,
  "nbformat_minor": 0
}