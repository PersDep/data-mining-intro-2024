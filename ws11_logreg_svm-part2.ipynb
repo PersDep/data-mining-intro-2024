{
  "cells": [
    {
      "cell_type": "markdown",
      "id": "nearby-anderson",
      "metadata": {
        "id": "nearby-anderson"
      },
      "source": [
        "# Семинар 9: логрег и SVM\n",
        "\n",
        "## Вступление\n",
        "Сегодня мы познакомимся с логистической регрессией, узнаем её особенности во время обучения и сравним с SVM. Обобщим задачу оптимизации внутри SVM с целью замены ядровой функции. Так же поговорим про метрики классификации и обсудим как их выбирать.\n",
        "\n",
        "### План:\n",
        "1. Логистическая регрессия\n",
        "2. SVM\n",
        "3. Ирисы Фишера. Свойства логистической регрессии и SVM\n",
        "4. Логистическая регрессия и SVM на менее приятных данных\n",
        "5. Метрики классификации\n",
        "6. ROC-кривая\n",
        "7. Бонус: вывод логистической регрессии через правдоподобие"
      ]
    },
    {
      "cell_type": "markdown",
      "id": "russian-closing",
      "metadata": {
        "id": "russian-closing"
      },
      "source": [
        "## Логистическая регрессия\n",
        "\n",
        "Напомним, что мы по-прежнему решаем задачу бинарной классификации, в которой целевая переменная $y$ принимает два значения: -1 и 1. На прошлом семинаре мы обсудили, что эту задачу можно решить при помощи линейного классификатора\n",
        "\n",
        "$$\n",
        "f(x_i, w) = \\mathrm{sign}\\left(\\langle x_i, w \\rangle\\right).\n",
        "$$\n",
        "\n",
        "Функция потерь для такой задачи – это сумма индикаторов того, что предсказание сделано неверно:\n",
        "\n",
        "$$Q(X, w) = \\frac{1}{\\ell}\\sum_{i = 1}^{\\ell}[y_i \\ne \\mathrm{sign}\\left(\\langle x_i, w \\rangle\\right)].$$\n",
        "\n",
        "На лекциях мы обсуждали, что эту идею можно удобно записать через функцию отступа:\n",
        "\n",
        "$$\n",
        "Q(X, w) = \\frac{1}{\\ell}\\sum_{i = 1}^{\\ell}[y_i \\langle x_i, w \\rangle < 0].\n",
        "$$\n",
        "\n",
        "Такую функцию проблематично дифференцировать по $w$, потому что даже в местах, где градиент существует, он равен нулю. Вместо этого будем минимизировать некоторую функцию $\\tilde{Q}(X, w)$, являющуюся верхней оценкой для $Q(X, w)$, и надеяться, что минимизация $\\tilde{Q}(X, w)$ позволит достаточно хорошо минимизировать и $Q(X, w)$.\n",
        "\n",
        "Логистическая регрессия предлагает использовать логистическую функцию потерь:\n",
        "\n",
        "$$\n",
        "\\tilde{Q}(X, w) = \\frac{1}{\\ell}\\sum_{i = 1}^{\\ell}\\log(1 + e^{-y_i \\langle x_i, w \\rangle}) \\rightarrow \\min_w.\n",
        "$$"
      ]
    },
    {
      "cell_type": "code",
      "execution_count": null,
      "outputs": [],
      "source": [
        "# !pip install mlxtend --upgrade"
      ],
      "metadata": {
        "id": "tf56WGL_IFv6"
      },
      "id": "tf56WGL_IFv6"
    },
    {
      "cell_type": "code",
      "execution_count": 2,
      "id": "curious-exemption",
      "metadata": {
        "id": "curious-exemption"
      },
      "outputs": [],
      "source": [
        "import itertools\n",
        "\n",
        "import matplotlib.gridspec as gridspec\n",
        "import matplotlib.pyplot as plt\n",
        "import numpy as np\n",
        "import pandas as pd\n",
        "from mlxtend.plotting import plot_decision_regions\n",
        "from sklearn.datasets import load_iris\n",
        "from sklearn.linear_model import LogisticRegression\n",
        "from sklearn.metrics import accuracy_score, f1_score, roc_curve\n",
        "from sklearn.model_selection import train_test_split\n",
        "from sklearn.preprocessing import StandardScaler"
      ]
    },
    {
      "cell_type": "code",
      "execution_count": 3,
      "id": "catholic-tunnel",
      "metadata": {
        "id": "catholic-tunnel",
        "outputId": "a1a14103-7f78-4853-e49e-8170a0ab1721",
        "colab": {
          "base_uri": "https://localhost:8080/",
          "height": 522
        }
      },
      "outputs": [
        {
          "output_type": "display_data",
          "data": {
            "text/plain": [
              "<Figure size 800x600 with 1 Axes>"
            ],
            "image/png": "[encoded data removed]"
          },
          "metadata": {}
        }
      ],
      "source": [
        "x = np.concatenate((np.linspace(-3, 0, 500), np.linspace(0, 3, 500)))\n",
        "np.random.seed(123)\n",
        "y = np.ones(1000)\n",
        "w = np.ones(1000)\n",
        "M = y * x * w\n",
        "\n",
        "plt.figure(figsize=(8, 6))\n",
        "plt.plot(x * w, x < 0, label=\"$\\tilde{Q}(X, w)$, zero-one loss\")\n",
        "plt.plot(M, np.log2(1 + np.exp(-M)), label=\"$Q'(X, w)$, logistic loss\")\n",
        "plt.grid()\n",
        "plt.legend();"
      ]
    },
    {
      "cell_type": "markdown",
      "id": "positive-memorabilia",
      "metadata": {
        "id": "positive-memorabilia"
      },
      "source": [
        "Для получения классической задачи логистической регрессии остаётся сделать один шаг и немного изменить постановку задачи. Предположим, что мы хотим решать задачу **мягкой** классификации, то есть предсказывать не метку класса, а вероятность того, что наблюдение принадлежит к классу. Понятно, что мы всегда можем перейти от мягкой классификации к жёсткой, выбрав порог принадлежности к положительному классу."
      ]
    },
    {
      "cell_type": "markdown",
      "id": "useful-springer",
      "metadata": {
        "id": "useful-springer"
      },
      "source": [
        "**Задание 1.** Поясните, почему для решения задачи мягкой классификации классификатор $f(x_i, w) = \\left(\\langle x_i, w \\rangle\\right)$ – не лучший выбор."
      ]
    },
    {
      "cell_type": "markdown",
      "id": "contained-preparation",
      "metadata": {
        "id": "contained-preparation"
      },
      "source": [
        "**Ответ:**\n",
        "\n",
        "Полученное скалярное произведение необязательно будет лежать в отрезке $[0, 1]$.\n",
        "\n",
        "Мы можем решить названную проблему, подставив $\\left(\\langle x_i, w \\rangle\\right)$ в некоторую функцию, областью значений которой является промежуток от 0 до 1. В логистической регрессии такой функцией выступает **сигмоида**:\n",
        "\n",
        "$$\n",
        "\\sigma(x) = \\dfrac{e^x}{1 + e^x} = \\dfrac{1}{1 + e^{-x}}.\n",
        "$$"
      ]
    },
    {
      "cell_type": "markdown",
      "id": "romantic-yield",
      "metadata": {
        "id": "romantic-yield"
      },
      "source": [
        "**Задание 2.** Сигмоида обаладет замечательнеым свойством, которое значительно упрощает вычисление градиентов при градиентном спуске:\n",
        "\n",
        "$$\n",
        "\\sigma(x)'_x = \\sigma(x)(1 - \\sigma(x)).\n",
        "$$\n",
        "\n",
        "Покажите, что это действительно так.\n",
        "\n",
        "**Решение:**\n",
        "\n",
        "$$\n",
        "\\sigma(x)' = \\frac{e^x(1 + e^x) - e^{2x}}{(1 + e^x)^2} = \\frac{e^x}{1 + e^x}\\frac{1}{1 + e^x} = \\sigma(x)(1-\\sigma(x)).\n",
        "$$"
      ]
    },
    {
      "cell_type": "markdown",
      "id": "reverse-transsexual",
      "metadata": {
        "id": "reverse-transsexual"
      },
      "source": [
        "Путём хитрых математических преобразований можно показать, что при использовании сигмоиды (= при решении задачи мягкой классификации) $\\tilde{Q}(X, w)$ можно записать в следующем виде:\n",
        "\n",
        "$$\n",
        "\\tilde{Q}(X, w) = -\\frac{1}{\\ell} \\sum_{i=1}^{\\ell} [y_i = 1]\\log\\sigma(\\langle x_i, w \\rangle) + [y_i = -1]\\log(1-\\sigma(\\langle x_i, w \\rangle)\n",
        "$$\n",
        "\n",
        "Эта функция называется log-loss или кросс-энтропией между истинной целевой переменной и предсказанными вероятностями.\n",
        "\n",
        "**А почему? А потому:**\n",
        "\n",
        "$$\n",
        "\\tilde{Q}(X, w) = -\\frac{1}{\\ell} \\sum_{i=1}^{\\ell} [y_i = 1]\\log\\sigma(\\langle x_i, w \\rangle) + [y_i = -1]\\log(1-\\sigma(\\langle x_i, w \\rangle) =\\\\\n",
        "$$\n",
        "$$\n",
        "=-\\frac{1}{\\ell} \\sum_{i=1}^{\\ell} [y_i = 1]\\log\\left(\\frac{1}{1 + e^{-\\langle x_i, w\\rangle}}\\right) + [y_i = -1](\\log\\left(1-\\frac{1}{1 + e^{-\\langle x_i, w\\rangle}}\\right)) =\\\\\n",
        "$$\n",
        "$$\n",
        "=-\\frac{1}{\\ell} \\sum_{i=1}^{\\ell} [y_i = 1]\\log\\left(\\frac{1}{1 + e^{-\\langle x_i, w\\rangle}}\\right) + [y_i = -1](\\log\\left(\\frac{1}{1 + e^{\\langle x_i, w\\rangle}}\\right)) =\\\\\n",
        "$$\n",
        "$$\n",
        "=\\frac{1}{\\ell} \\sum_{i=1}^{\\ell} [y_i = 1]\\log(1 + e^{-\\langle x_i, w \\rangle}) + [y_i = -1]\\log(1 + e^{\\langle x_i, w \\rangle}) =\\\\\n",
        "$$\n",
        "$$\n",
        "=\\frac{1}{\\ell} \\sum_{i=1}^{\\ell}\\log(1 + e^{-y_i\\langle x_i, w\\rangle}) = \\tilde{Q}(X, w)\n",
        "$$"
      ]
    },
    {
      "cell_type": "markdown",
      "id": "anticipated-amplifier",
      "metadata": {
        "id": "anticipated-amplifier"
      },
      "source": [
        "Регуляризация вводится таким же образом, как это было в случае линейной регрессии. Например, функция потерь для $\\ell$-$2$ регуляризации выглядит так:\n",
        "\n",
        "$$\n",
        "\\tilde{Q}_{reg}(X, w) = \\tilde{Q}(X, w) + \\frac{1}{2}\\lambda\\|w\\|^2_2.\n",
        "$$"
      ]
    },
    {
      "cell_type": "markdown",
      "id": "lovely-empire",
      "metadata": {
        "id": "lovely-empire"
      },
      "source": [
        "**Саммари по логистической регрессии:**\n",
        "\n",
        "- Данные: $y_i \\in \\{-1, 1\\}$, $X$\n",
        "\n",
        "- Предсказания:\n",
        "\n",
        "    - По умолчанию предсказывает вероятности:\n",
        "    $$\n",
        "    \\hat{p}_i = \\sigma(\\langle x_i, w\\rangle) = \\frac{1}{1 + e^{-\\langle x_i, w\\rangle}}\n",
        "    $$\n",
        "    \n",
        "    - Если хотим перейти к метке, то сравниваем вероятность с порогом $t$:\n",
        "    \n",
        "    $$\n",
        "    \\hat{y}_i = \\begin{cases}\n",
        "    1,&\\text{ если } \\hat{p}_i > t,\\\\\n",
        "    -1,&\\text{ иначе.}\n",
        "    \\end{cases}\n",
        "    $$\n",
        "    \n",
        "- Обучение:\n",
        "\n",
        "$$\n",
        "\\tilde{Q}(X, w) = -\\frac{1}{\\ell} \\sum_{i=1}^{\\ell} [y_i = 1]\\log\\sigma(\\langle x_i, w \\rangle) + [y_i = -1]\\log(1-\\sigma(\\langle x_i, w \\rangle) \\to \\min_w\n",
        "$$"
      ]
    },
    {
      "cell_type": "markdown",
      "id": "separated-superintendent",
      "metadata": {
        "id": "separated-superintendent"
      },
      "source": [
        "## Метод опорных векторов (SVM)\n",
        "\n",
        "Метод опорных векторов — математически строго обоснованный метод, идея которого состоит в максимизации ширины разделяющей полосы между классами. Так как для подробного вывода SVM требуется уверенное владение методами квадратичной оптимизации, мы разберём только идею и практическую реализацию метода.\n",
        "\n",
        "Мы по-прежнему решаем задачу бинарной классификации и используем классификатор $f(x_i, w) = \\mathrm{sign}(\\langle x_i, w\\rangle)$. Предположим, что мы работаем с линейно разделимой выборкой. Определим отступ как минимальное расстояние от точек выборки до разделяющей поверхности классификатора:\n",
        "$$\n",
        "\\rho(x_i, \\langle x, w\\rangle) =  \\min_i\\dfrac{|{\\langle x_i, w\\rangle|}}{\\|w\\|}\n",
        "$$\n",
        "\n",
        "Задача состоит в том, чтобы максимизировать этот отступ:\n",
        "\n",
        "$$\n",
        "\\rho(x_i, \\langle x, w\\rangle) =  \\min_i\\dfrac{|{\\langle x_i, w\\rangle|}}{\\|w\\|} \\to \\max_w.\n",
        "$$\n",
        "\n",
        "Воспользуемся картинкой из Википедии, чтобы лучше понять эту идею:\n",
        "\n",
        "[<img src=\"https://upload.wikimedia.org/wikipedia/commons/thumb/7/72/SVM_margin.png/1920px-SVM_margin.png\" alt=\"drawing\" width=\"400\"/>](https://en.wikipedia.org/wiki/Support-vector_machine#/media/File:SVM_margin.png)\n",
        "\n",
        "Заметим, что при делении весов на положительное число ответы классификатора не меняются (веса просто пропорционально прошкалируются). Поделим все веса на\n",
        "\n",
        "$$\\min_i |\\langle x_i, w\\rangle| > 0.$$\n",
        "\n",
        "Тогда будет верно, что $\\min_i |\\langle x_i, w\\rangle| = 1$, а значит отступ можно переписать как\n",
        "\n",
        "$$\n",
        "\\rho(\\langle x_i, w\\rangle) = \\frac{1}{\\|w\\|}.\n",
        "$$\n",
        "\n",
        "Получаем задачу SVM в линейно-разделимом случае:\n",
        "\n",
        "$$\n",
        "\\begin{cases}\n",
        "\\|w\\|^2 \\to \\min_{w}, \\\\\n",
        "y_i(\\langle x_i, w\\rangle) \\ge 1, \\\\\n",
        "\\end{cases}\n",
        "$$\n",
        "\n",
        "Если выборка не является линейно-разделимой, то нам придётся позволить линейному классификатору допускать ошибки на некоторых наблюдениях. Тогда задача превращается в поиск оптимального выбора между максимизацией ширины разделяющей полосы и ошибок классификации:\n",
        "\n",
        "$$\n",
        "\\begin{cases}\n",
        "\\|w\\|^2 + C \\sum_{i = 1}^{\\ell} \\xi_i \\to \\min_{w, \\xi_i}, \\\\\n",
        "y_i(\\langle x_i, w\\rangle) \\ge 1 - \\xi_i, \\\\\n",
        "\\xi_i \\ge 0\n",
        "\\end{cases}\n",
        "$$\n",
        "\n",
        "$C$ – параметр, который позволяет регулировать пропорции этого выбора. Чем больше $C$, тем больше штраф за неверную классификацию.\n",
        "\n",
        "[<img src=\"https://miro.medium.com/max/1400/1*0vOVPBmYCkw-sUt77HtyGA.png\" alt=\"drawing\" width=\"800\"/>](https://towardsdatascience.com/support-vector-machine-simply-explained-fee28eba5496)\n",
        "\n",
        "Путём хитрых математических преобразований (объединив ограничения) можно показать, что итоговая функция потерь SVM выглядит следующим образом:\n",
        "\n",
        "$$\n",
        "Q(X, w) = C\\sum_{i=1}^{l} \\max\\{0, 1 - y_i(\\langle x_i, w\\rangle)\\} + \\|w\\|^2 \\to \\min_w\n",
        "$$"
      ]
    },
    {
      "cell_type": "markdown",
      "id": "technological-cooperation",
      "metadata": {
        "id": "technological-cooperation"
      },
      "source": [
        "### Ирисы Фишера. Свойства логистической регрессии и SVM"
      ]
    },
    {
      "cell_type": "markdown",
      "id": "anonymous-reporter",
      "metadata": {
        "id": "anonymous-reporter"
      },
      "source": [
        "Рассмотрим свойства логистической регрессии и метода опорных векторов на примере классического набора данных [\"Ирисы Фишера\"](https://ru.wikipedia.org/wiki/Ирисы_Фишера). Этот набор состоит из 150 наблюдений, каждое из которых представляет собой четыре измерения: длина наружной доли околоцветника (`sepal length`), ширина наружной доли околоцветника (`sepal width`), длина внутренней доли околоцветника (`petal length`), ширина внутренней доли околоцветника (`petal width`). Каждое наблюдение относится к одному из трёх классов ириса: `setosa`, `versicolor` или `virginica`. Задача состоит в том, чтобы по измерениям предсказать класс цветка.\n",
        "\n",
        "[<img src=\"https://miro.medium.com/v2/resize:fit:1000/1*Hh53mOF4Xy4eORjLilKOwA.png\" alt=\"drawing\" width=\"800\"/>](https://miro.medium.com/max/1000/1*Hh53mOF4Xy4eORjLilKOwA.png)"
      ]
    },
    {
      "cell_type": "code",
      "execution_count": 4,
      "id": "medieval-cowboy",
      "metadata": {
        "id": "medieval-cowboy",
        "outputId": "ba7c6c22-86d1-4988-c818-a9bce19cdb6e",
        "colab": {
          "base_uri": "https://localhost:8080/",
          "height": 206
        }
      },
      "outputs": [
        {
          "output_type": "execute_result",
          "data": {
            "text/plain": [
              "   sepal length (cm)  sepal width (cm)  petal length (cm)  petal width (cm)\n",
              "0                5.1               3.5                1.4               0.2\n",
              "1                4.9               3.0                1.4               0.2\n",
              "2                4.7               3.2                1.3               0.2\n",
              "3                4.6               3.1                1.5               0.2\n",
              "4                5.0               3.6                1.4               0.2"
            ],
            "text/html": [
              "\n",
              "  <div id=\"df-ac263fbf-a09a-4e44-90c4-728d1e589408\" class=\"colab-df-container\">\n",
              "    <div>\n",
              "<style scoped>\n",
              "    .dataframe tbody tr th:only-of-type {\n",
              "        vertical-align: middle;\n",
              "    }\n",
              "\n",
              "    .dataframe tbody tr th {\n",
              "        vertical-align: top;\n",
              "    }\n",
              "\n",
              "    .dataframe thead th {\n",
              "        text-align: right;\n",
              "    }\n",
              "</style>\n",
              "<table border=\"1\" class=\"dataframe\">\n",
              "  <thead>\n",
              "    <tr style=\"text-align: right;\">\n",
              "      <th></th>\n",
              "      <th>sepal length (cm)</th>\n",
              "      <th>sepal width (cm)</th>\n",
              "      <th>petal length (cm)</th>\n",
              "      <th>petal width (cm)</th>\n",
              "    </tr>\n",
              "  </thead>\n",
              "  <tbody>\n",
              "    <tr>\n",
              "      <th>0</th>\n",
              "      <td>5.1</td>\n",
              "      <td>3.5</td>\n",
              "      <td>1.4</td>\n",
              "      <td>0.2</td>\n",
              "    </tr>\n",
              "    <tr>\n",
              "      <th>1</th>\n",
              "      <td>4.9</td>\n",
              "      <td>3.0</td>\n",
              "      <td>1.4</td>\n",
              "      <td>0.2</td>\n",
              "    </tr>\n",
              "    <tr>\n",
              "      <th>2</th>\n",
              "      <td>4.7</td>\n",
              "      <td>3.2</td>\n",
              "      <td>1.3</td>\n",
              "      <td>0.2</td>\n",
              "    </tr>\n",
              "    <tr>\n",
              "      <th>3</th>\n",
              "      <td>4.6</td>\n",
              "      <td>3.1</td>\n",
              "      <td>1.5</td>\n",
              "      <td>0.2</td>\n",
              "    </tr>\n",
              "    <tr>\n",
              "      <th>4</th>\n",
              "      <td>5.0</td>\n",
              "      <td>3.6</td>\n",
              "      <td>1.4</td>\n",
              "      <td>0.2</td>\n",
              "    </tr>\n",
              "  </tbody>\n",
              "</table>\n",
              "</div>\n",
              "    <div class=\"colab-df-buttons\">\n",
              "\n",
              "  <div class=\"colab-df-container\">\n",
              "    <button class=\"colab-df-convert\" onclick=\"convertToInteractive('df-ac263fbf-a09a-4e44-90c4-728d1e589408')\"\n",
              "            title=\"Convert this dataframe to an interactive table.\"\n",
              "            style=\"display:none;\">\n",
              "\n",
              "  <svg xmlns=\"http://www.w3.org/2000/svg\" height=\"24px\" viewBox=\"0 -960 960 960\">\n",
              "    <path d=\"M120-120v-720h720v720H120Zm60-500h600v-160H180v160Zm220 220h160v-160H400v160Zm0 220h160v-160H400v160ZM180-400h160v-160H180v160Zm440 0h160v-160H620v160ZM180-180h160v-160H180v160Zm440 0h160v-160H620v160Z\"/>\n",
              "  </svg>\n",
              "    </button>\n",
              "\n",
              "  <style>\n",
              "    .colab-df-container {\n",
              "      display:flex;\n",
              "      gap: 12px;\n",
              "    }\n",
              "\n",
              "    .colab-df-convert {\n",
              "      background-color: #E8F0FE;\n",
              "      border: none;\n",
              "      border-radius: 50%;\n",
              "      cursor: pointer;\n",
              "      display: none;\n",
              "      fill: #1967D2;\n",
              "      height: 32px;\n",
              "      padding: 0 0 0 0;\n",
              "      width: 32px;\n",
              "    }\n",
              "\n",
              "    .colab-df-convert:hover {\n",
              "      background-color: #E2EBFA;\n",
              "      box-shadow: 0px 1px 2px rgba(60, 64, 67, 0.3), 0px 1px 3px 1px rgba(60, 64, 67, 0.15);\n",
              "      fill: #174EA6;\n",
              "    }\n",
              "\n",
              "    .colab-df-buttons div {\n",
              "      margin-bottom: 4px;\n",
              "    }\n",
              "\n",
              "    [theme=dark] .colab-df-convert {\n",
              "      background-color: #3B4455;\n",
              "      fill: #D2E3FC;\n",
              "    }\n",
              "\n",
              "    [theme=dark] .colab-df-convert:hover {\n",
              "      background-color: #434B5C;\n",
              "      box-shadow: 0px 1px 3px 1px rgba(0, 0, 0, 0.15);\n",
              "      filter: drop-shadow(0px 1px 2px rgba(0, 0, 0, 0.3));\n",
              "      fill: #FFFFFF;\n",
              "    }\n",
              "  </style>\n",
              "\n",
              "    <script>\n",
              "      const buttonEl =\n",
              "        document.querySelector('#df-ac263fbf-a09a-4e44-90c4-728d1e589408 button.colab-df-convert');\n",
              "      buttonEl.style.display =\n",
              "        google.colab.kernel.accessAllowed ? 'block' : 'none';\n",
              "\n",
              "      async function convertToInteractive(key) {\n",
              "        const element = document.querySelector('#df-ac263fbf-a09a-4e44-90c4-728d1e589408');\n",
              "        const dataTable =\n",
              "          await google.colab.kernel.invokeFunction('convertToInteractive',\n",
              "                                                    [key], {});\n",
              "        if (!dataTable) return;\n",
              "\n",
              "        const docLinkHtml = 'Like what you see? Visit the ' +\n",
              "          '<a target=\"_blank\" href=https://colab.research.google.com/notebooks/data_table.ipynb>data table notebook</a>'\n",
              "          + ' to learn more about interactive tables.';\n",
              "        element.innerHTML = '';\n",
              "        dataTable['output_type'] = 'display_data';\n",
              "        await google.colab.output.renderOutput(dataTable, element);\n",
              "        const docLink = document.createElement('div');\n",
              "        docLink.innerHTML = docLinkHtml;\n",
              "        element.appendChild(docLink);\n",
              "      }\n",
              "    </script>\n",
              "  </div>\n",
              "\n",
              "\n",
              "<div id=\"df-1cb13b9e-6560-4cad-a46f-5328bdaeeb21\">\n",
              "  <button class=\"colab-df-quickchart\" onclick=\"quickchart('df-1cb13b9e-6560-4cad-a46f-5328bdaeeb21')\"\n",
              "            title=\"Suggest charts\"\n",
              "            style=\"display:none;\">\n",
              "\n",
              "<svg xmlns=\"http://www.w3.org/2000/svg\" height=\"24px\"viewBox=\"0 0 24 24\"\n",
              "     width=\"24px\">\n",
              "    <g>\n",
              "        <path d=\"M19 3H5c-1.1 0-2 .9-2 2v14c0 1.1.9 2 2 2h14c1.1 0 2-.9 2-2V5c0-1.1-.9-2-2-2zM9 17H7v-7h2v7zm4 0h-2V7h2v10zm4 0h-2v-4h2v4z\"/>\n",
              "    </g>\n",
              "</svg>\n",
              "  </button>\n",
              "\n",
              "<style>\n",
              "  .colab-df-quickchart {\n",
              "      --bg-color: #E8F0FE;\n",
              "      --fill-color: #1967D2;\n",
              "      --hover-bg-color: #E2EBFA;\n",
              "      --hover-fill-color: #174EA6;\n",
              "      --disabled-fill-color: #AAA;\n",
              "      --disabled-bg-color: #DDD;\n",
              "  }\n",
              "\n",
              "  [theme=dark] .colab-df-quickchart {\n",
              "      --bg-color: #3B4455;\n",
              "      --fill-color: #D2E3FC;\n",
              "      --hover-bg-color: #434B5C;\n",
              "      --hover-fill-color: #FFFFFF;\n",
              "      --disabled-bg-color: #3B4455;\n",
              "      --disabled-fill-color: #666;\n",
              "  }\n",
              "\n",
              "  .colab-df-quickchart {\n",
              "    background-color: var(--bg-color);\n",
              "    border: none;\n",
              "    border-radius: 50%;\n",
              "    cursor: pointer;\n",
              "    display: none;\n",
              "    fill: var(--fill-color);\n",
              "    height: 32px;\n",
              "    padding: 0;\n",
              "    width: 32px;\n",
              "  }\n",
              "\n",
              "  .colab-df-quickchart:hover {\n",
              "    background-color: var(--hover-bg-color);\n",
              "    box-shadow: 0 1px 2px rgba(60, 64, 67, 0.3), 0 1px 3px 1px rgba(60, 64, 67, 0.15);\n",
              "    fill: var(--button-hover-fill-color);\n",
              "  }\n",
              "\n",
              "  .colab-df-quickchart-complete:disabled,\n",
              "  .colab-df-quickchart-complete:disabled:hover {\n",
              "    background-color: var(--disabled-bg-color);\n",
              "    fill: var(--disabled-fill-color);\n",
              "    box-shadow: none;\n",
              "  }\n",
              "\n",
              "  .colab-df-spinner {\n",
              "    border: 2px solid var(--fill-color);\n",
              "    border-color: transparent;\n",
              "    border-bottom-color: var(--fill-color);\n",
              "    animation:\n",
              "      spin 1s steps(1) infinite;\n",
              "  }\n",
              "\n",
              "  @keyframes spin {\n",
              "    0% {\n",
              "      border-color: transparent;\n",
              "      border-bottom-color: var(--fill-color);\n",
              "      border-left-color: var(--fill-color);\n",
              "    }\n",
              "    20% {\n",
              "      border-color: transparent;\n",
              "      border-left-color: var(--fill-color);\n",
              "      border-top-color: var(--fill-color);\n",
              "    }\n",
              "    30% {\n",
              "      border-color: transparent;\n",
              "      border-left-color: var(--fill-color);\n",
              "      border-top-color: var(--fill-color);\n",
              "      border-right-color: var(--fill-color);\n",
              "    }\n",
              "    40% {\n",
              "      border-color: transparent;\n",
              "      border-right-color: var(--fill-color);\n",
              "      border-top-color: var(--fill-color);\n",
              "    }\n",
              "    60% {\n",
              "      border-color: transparent;\n",
              "      border-right-color: var(--fill-color);\n",
              "    }\n",
              "    80% {\n",
              "      border-color: transparent;\n",
              "      border-right-color: var(--fill-color);\n",
              "      border-bottom-color: var(--fill-color);\n",
              "    }\n",
              "    90% {\n",
              "      border-color: transparent;\n",
              "      border-bottom-color: var(--fill-color);\n",
              "    }\n",
              "  }\n",
              "</style>\n",
              "\n",
              "  <script>\n",
              "    async function quickchart(key) {\n",
              "      const quickchartButtonEl =\n",
              "        document.querySelector('#' + key + ' button');\n",
              "      quickchartButtonEl.disabled = true;  // To prevent multiple clicks.\n",
              "      quickchartButtonEl.classList.add('colab-df-spinner');\n",
              "      try {\n",
              "        const charts = await google.colab.kernel.invokeFunction(\n",
              "            'suggestCharts', [key], {});\n",
              "      } catch (error) {\n",
              "        console.error('Error during call to suggestCharts:', error);\n",
              "      }\n",
              "      quickchartButtonEl.classList.remove('colab-df-spinner');\n",
              "      quickchartButtonEl.classList.add('colab-df-quickchart-complete');\n",
              "    }\n",
              "    (() => {\n",
              "      let quickchartButtonEl =\n",
              "        document.querySelector('#df-1cb13b9e-6560-4cad-a46f-5328bdaeeb21 button');\n",
              "      quickchartButtonEl.style.display =\n",
              "        google.colab.kernel.accessAllowed ? 'block' : 'none';\n",
              "    })();\n",
              "  </script>\n",
              "</div>\n",
              "    </div>\n",
              "  </div>\n"
            ],
            "application/vnd.google.colaboratory.intrinsic+json": {
              "type": "dataframe",
              "variable_name": "X",
              "summary": "{\n  \"name\": \"X\",\n  \"rows\": 150,\n  \"fields\": [\n    {\n      \"column\": \"sepal length (cm)\",\n      \"properties\": {\n        \"dtype\": \"number\",\n        \"std\": 0.828066127977863,\n        \"min\": 4.3,\n        \"max\": 7.9,\n        \"num_unique_values\": 35,\n        \"samples\": [\n          6.2,\n          4.5,\n          5.6\n        ],\n        \"semantic_type\": \"\",\n        \"description\": \"\"\n      }\n    },\n    {\n      \"column\": \"sepal width (cm)\",\n      \"properties\": {\n        \"dtype\": \"number\",\n        \"std\": 0.4358662849366982,\n        \"min\": 2.0,\n        \"max\": 4.4,\n        \"num_unique_values\": 23,\n        \"samples\": [\n          2.3,\n          4.0,\n          3.5\n        ],\n        \"semantic_type\": \"\",\n        \"description\": \"\"\n      }\n    },\n    {\n      \"column\": \"petal length (cm)\",\n      \"properties\": {\n        \"dtype\": \"number\",\n        \"std\": 1.7652982332594662,\n        \"min\": 1.0,\n        \"max\": 6.9,\n        \"num_unique_values\": 43,\n        \"samples\": [\n          6.7,\n          3.8,\n          3.7\n        ],\n        \"semantic_type\": \"\",\n        \"description\": \"\"\n      }\n    },\n    {\n      \"column\": \"petal width (cm)\",\n      \"properties\": {\n        \"dtype\": \"number\",\n        \"std\": 0.7622376689603465,\n        \"min\": 0.1,\n        \"max\": 2.5,\n        \"num_unique_values\": 22,\n        \"samples\": [\n          0.2,\n          1.2,\n          1.3\n        ],\n        \"semantic_type\": \"\",\n        \"description\": \"\"\n      }\n    }\n  ]\n}"
            }
          },
          "metadata": {},
          "execution_count": 4
        }
      ],
      "source": [
        "data = load_iris()\n",
        "X = pd.DataFrame(data[\"data\"], columns=data[\"feature_names\"])\n",
        "y = data[\"target\"]\n",
        "X.head()"
      ]
    },
    {
      "cell_type": "markdown",
      "id": "conservative-target",
      "metadata": {
        "id": "conservative-target"
      },
      "source": [
        "**Задание 1.** Перейдём к задаче бинарной классификации: будем предсказывать принадлежность цветка к виду `versicolor` против принадлежности ко всем прочим видам. Перекодируйте зависимую переменную так, чтобы цветки вида `versicolor` имели метку 1, а прочих видов – метку -1."
      ]
    },
    {
      "cell_type": "code",
      "execution_count": 5,
      "id": "signal-stereo",
      "metadata": {
        "id": "signal-stereo"
      },
      "outputs": [],
      "source": [
        "# Перекодировка\n",
        "y_bin = (data[\"target\"] == 1).astype(int)"
      ]
    },
    {
      "cell_type": "code",
      "source": [
        "len(y_bin * 2 - 1)"
      ],
      "metadata": {
        "id": "2E5tZmg8LeNM",
        "outputId": "f78694ff-ceac-4792-8f37-34bbafe546f7",
        "colab": {
          "base_uri": "https://localhost:8080/"
        }
      },
      "id": "2E5tZmg8LeNM",
      "execution_count": 8,
      "outputs": [
        {
          "output_type": "execute_result",
          "data": {
            "text/plain": [
              "150"
            ]
          },
          "metadata": {},
          "execution_count": 8
        }
      ]
    },
    {
      "cell_type": "code",
      "source": [
        "len(y_bin)"
      ],
      "metadata": {
        "id": "rAVjY8GZLW0A",
        "outputId": "ee3e427b-fe96-4d30-9385-842470f76ded",
        "colab": {
          "base_uri": "https://localhost:8080/"
        }
      },
      "id": "rAVjY8GZLW0A",
      "execution_count": 9,
      "outputs": [
        {
          "output_type": "execute_result",
          "data": {
            "text/plain": [
              "150"
            ]
          },
          "metadata": {},
          "execution_count": 9
        }
      ]
    },
    {
      "cell_type": "code",
      "source": [
        "y = y_bin * 2 - 1"
      ],
      "metadata": {
        "id": "h3SgAv9iL3Fh"
      },
      "id": "h3SgAv9iL3Fh",
      "execution_count": 10,
      "outputs": []
    },
    {
      "cell_type": "markdown",
      "id": "governmental-repository",
      "metadata": {
        "id": "governmental-repository"
      },
      "source": [
        "**Задание 2**. Будем работать с двумя признаками: `sepal length (cm)` и `sepal width (cm)`. Отделите их в отдельную матрицу. Разделите выборку на обучающую и тестовую, долю тестовой выборки укажите равной 0.3. Отмасштабируйте выборки при помощи StandardScaler. Постройте диаграмму рассеяния по тренировочной выборке и убедитесь, что данные линейно не разделимы."
      ]
    },
    {
      "cell_type": "code",
      "execution_count": 11,
      "id": "ordered-pavilion",
      "metadata": {
        "id": "ordered-pavilion",
        "outputId": "f14d51ed-aa1a-463c-a952-a25674ac90d1",
        "colab": {
          "base_uri": "https://localhost:8080/",
          "height": 430
        }
      },
      "outputs": [
        {
          "output_type": "display_data",
          "data": {
            "text/plain": [
              "<Figure size 640x480 with 1 Axes>"
            ],
            "image/png": "[encoded data removed]"
          },
          "metadata": {}
        }
      ],
      "source": [
        "np.random.seed(123)\n",
        "\n",
        "X = X[[\"sepal length (cm)\", \"sepal width (cm)\"]]\n",
        "\n",
        "X_train, X_test, y_train, y_test = train_test_split(X, y_bin)\n",
        "\n",
        "# Отмасштабируйте признаки\n",
        "ss = StandardScaler()\n",
        "X_train = ss.fit_transform(X_train)\n",
        "X_test = ss.transform(X_test)\n",
        "\n",
        "plt.scatter(X_train[:, 0], X_train[:, 1], c=y_train);"
      ]
    },
    {
      "cell_type": "markdown",
      "id": "divine-lease",
      "metadata": {
        "id": "divine-lease"
      },
      "source": [
        "**Задание 3.** Обучите логистическую регрессию и **SVM с линейным ядром** на тренировочной выборке и убедитесь, что полученные оценки весов действительно различаются. Убедитесь, что `accuracy`, возможно, не подходит в качестве метрики для данной задачи и рассчитайте `f1-меру` на тестовой выборке. Какой алгорим показал более высокое качество?"
      ]
    },
    {
      "cell_type": "code",
      "execution_count": 12,
      "id": "interim-rabbit",
      "metadata": {
        "id": "interim-rabbit"
      },
      "outputs": [],
      "source": [
        "from sklearn.metrics import classification_report\n",
        "from sklearn.svm import SVC"
      ]
    },
    {
      "cell_type": "code",
      "execution_count": 13,
      "id": "spiritual-definition",
      "metadata": {
        "id": "spiritual-definition",
        "outputId": "2e4dd85f-a644-4ef0-bf7d-044b962c95b9",
        "colab": {
          "base_uri": "https://localhost:8080/"
        }
      },
      "outputs": [
        {
          "output_type": "stream",
          "name": "stdout",
          "text": [
            "              precision    recall  f1-score   support\n",
            "\n",
            "           0       0.93      0.87      0.90        30\n",
            "           1       0.60      0.75      0.67         8\n",
            "\n",
            "    accuracy                           0.84        38\n",
            "   macro avg       0.76      0.81      0.78        38\n",
            "weighted avg       0.86      0.84      0.85        38\n",
            "\n",
            "              precision    recall  f1-score   support\n",
            "\n",
            "           0       0.94      0.97      0.95        30\n",
            "           1       0.86      0.75      0.80         8\n",
            "\n",
            "    accuracy                           0.92        38\n",
            "   macro avg       0.90      0.86      0.88        38\n",
            "weighted avg       0.92      0.92      0.92        38\n",
            "\n"
          ]
        }
      ],
      "source": [
        "lr = LogisticRegression()\n",
        "svm = SVC(kernel=\"linear\")\n",
        "\n",
        "# Обучите логистическую регрессию и SVM\n",
        "lr.fit(X_train, y_train)\n",
        "svm.fit(X_train, y_train)\n",
        "\n",
        "lr_pred = lr.predict(X_test)\n",
        "svm_pred = svm.predict(X_test)\n",
        "\n",
        "print(classification_report(y_test, lr_pred))\n",
        "print(classification_report(y_test, svm_pred))"
      ]
    },
    {
      "cell_type": "markdown",
      "id": "manufactured-breeding",
      "metadata": {
        "id": "manufactured-breeding"
      },
      "source": [
        "Теперь посмотрим, как различаются решающие поверхности алгоритмов. Код ниже построит решающие поверхности для классификаторов. Чтобы он заработал, нужно обязательно сделать `fit` для `lr` и `svm` выше."
      ]
    },
    {
      "cell_type": "code",
      "execution_count": 14,
      "id": "27284d50",
      "metadata": {
        "id": "27284d50",
        "outputId": "ac8bd6b9-eaea-43d7-a485-d1919a1326e5",
        "colab": {
          "base_uri": "https://localhost:8080/",
          "height": 699
        }
      },
      "outputs": [
        {
          "output_type": "display_data",
          "data": {
            "text/plain": [
              "<Figure size 1000x800 with 2 Axes>"
            ],
            "image/png": "[encoded data removed]"
          },
          "metadata": {}
        }
      ],
      "source": [
        "gs = gridspec.GridSpec(1, 2)\n",
        "\n",
        "fig = plt.figure(figsize=(10, 8))\n",
        "\n",
        "labels = [\"Logistic Regression\", \"SVM\"]\n",
        "for clf, lab, grd in zip([lr, svm], labels, itertools.product([0, 1], repeat=2)):\n",
        "    ax = plt.subplot(gs[grd[0], grd[1]])\n",
        "    fig = plot_decision_regions(\n",
        "        X=np.array(X_train), y=np.array(y_train), clf=clf, legend=2\n",
        "    )\n",
        "    plt.title(lab)\n",
        "\n",
        "plt.show()"
      ]
    },
    {
      "cell_type": "markdown",
      "id": "satellite-vacation",
      "metadata": {
        "id": "satellite-vacation"
      },
      "source": [
        "Теперь изучим свойства каждого классификатора по-отдельности. Начнём с логистической регрессии.\n",
        "\n",
        "**Задание 3.** Обучите три различные логистические регрессии с разным параметром регуляризации $\\alpha$ (обратите внимание, что в реализации `sklearn` $C = 1/\\alpha$). Как изменяется разделяющая поверхность в зависимости от $\\alpha$?"
      ]
    },
    {
      "cell_type": "code",
      "execution_count": 23,
      "id": "proper-accused",
      "metadata": {
        "id": "proper-accused"
      },
      "outputs": [],
      "source": [
        "lr1 = LogisticRegression(C=1)\n",
        "lr2 = LogisticRegression(C=0.05)\n",
        "lr3 = LogisticRegression(C=10)"
      ]
    },
    {
      "cell_type": "code",
      "execution_count": 18,
      "id": "thorough-architect",
      "metadata": {
        "id": "thorough-architect",
        "outputId": "c4202964-d311-440f-f0a6-ef91eced287f",
        "colab": {
          "base_uri": "https://localhost:8080/",
          "height": 1000
        }
      },
      "outputs": [
        {
          "output_type": "stream",
          "name": "stderr",
          "text": [
            "/usr/local/lib/python3.10/dist-packages/sklearn/metrics/_classification.py:1344: UndefinedMetricWarning: Precision and F-score are ill-defined and being set to 0.0 in labels with no predicted samples. Use `zero_division` parameter to control this behavior.\n",
            "  _warn_prf(average, modifier, msg_start, len(result))\n",
            "/usr/local/lib/python3.10/dist-packages/sklearn/metrics/_classification.py:1344: UndefinedMetricWarning: Precision and F-score are ill-defined and being set to 0.0 in labels with no predicted samples. Use `zero_division` parameter to control this behavior.\n",
            "  _warn_prf(average, modifier, msg_start, len(result))\n",
            "/usr/local/lib/python3.10/dist-packages/sklearn/metrics/_classification.py:1344: UndefinedMetricWarning: Precision and F-score are ill-defined and being set to 0.0 in labels with no predicted samples. Use `zero_division` parameter to control this behavior.\n",
            "  _warn_prf(average, modifier, msg_start, len(result))\n"
          ]
        },
        {
          "output_type": "stream",
          "name": "stdout",
          "text": [
            "              precision    recall  f1-score   support\n",
            "\n",
            "           0       0.79      1.00      0.88        30\n",
            "           1       0.00      0.00      0.00         8\n",
            "\n",
            "    accuracy                           0.79        38\n",
            "   macro avg       0.39      0.50      0.44        38\n",
            "weighted avg       0.62      0.79      0.70        38\n",
            "\n",
            "              precision    recall  f1-score   support\n",
            "\n",
            "           0       0.88      0.97      0.92        30\n",
            "           1       0.80      0.50      0.62         8\n",
            "\n",
            "    accuracy                           0.87        38\n",
            "   macro avg       0.84      0.73      0.77        38\n",
            "weighted avg       0.86      0.87      0.86        38\n",
            "\n",
            "              precision    recall  f1-score   support\n",
            "\n",
            "           0       0.93      0.87      0.90        30\n",
            "           1       0.60      0.75      0.67         8\n",
            "\n",
            "    accuracy                           0.84        38\n",
            "   macro avg       0.76      0.81      0.78        38\n",
            "weighted avg       0.86      0.84      0.85        38\n",
            "\n"
          ]
        },
        {
          "output_type": "display_data",
          "data": {
            "text/plain": [
              "<Figure size 1500x800 with 3 Axes>"
            ],
            "image/png": "[encoded data removed]"
          },
          "metadata": {}
        }
      ],
      "source": [
        "gs = gridspec.GridSpec(1, 3)\n",
        "\n",
        "fig = plt.figure(figsize=(15, 8))\n",
        "\n",
        "labels = [\"C = 0.01\", \"C = 0.05\", \"C = 10\"]\n",
        "for clf, lab, grd in zip(\n",
        "    [lr1, lr2, lr3], labels, itertools.product([0, 1, 2], repeat=2)\n",
        "):\n",
        "    clf.fit(X_train, y_train)\n",
        "    print(classification_report(y_test, clf.predict(X_test)))\n",
        "    ax = plt.subplot(gs[grd[0], grd[1]])\n",
        "    fig = plot_decision_regions(X=X_train, y=np.array(y_train), clf=clf, legend=2)\n",
        "    plt.title(lab)\n",
        "\n",
        "plt.show()"
      ]
    },
    {
      "cell_type": "markdown",
      "id": "behind-northern",
      "metadata": {
        "id": "behind-northern"
      },
      "source": [
        "Перейдём к SVM.\n",
        "\n",
        "**Задание 4.** Обучите три SVM с линейным ядром с разным параметром регуляризации $C$. Как изменяется разделяющая поверхность в зависимости от $C$?"
      ]
    },
    {
      "cell_type": "code",
      "execution_count": 28,
      "id": "found-shadow",
      "metadata": {
        "id": "found-shadow"
      },
      "outputs": [],
      "source": [
        "svc1 = SVC(C=0.04, kernel=\"sigmoid\")\n",
        "svc2 = SVC(C=1, kernel=\"sigmoid\")\n",
        "svc3 = SVC(C=10, kernel=\"sigmoid\")"
      ]
    },
    {
      "cell_type": "code",
      "execution_count": 29,
      "id": "imperial-primary",
      "metadata": {
        "id": "imperial-primary",
        "outputId": "e0b17f94-34f7-46e9-ad07-6bdee59cae88",
        "colab": {
          "base_uri": "https://localhost:8080/",
          "height": 1000
        }
      },
      "outputs": [
        {
          "output_type": "stream",
          "name": "stderr",
          "text": [
            "/usr/local/lib/python3.10/dist-packages/sklearn/metrics/_classification.py:1344: UndefinedMetricWarning: Precision and F-score are ill-defined and being set to 0.0 in labels with no predicted samples. Use `zero_division` parameter to control this behavior.\n",
            "  _warn_prf(average, modifier, msg_start, len(result))\n",
            "/usr/local/lib/python3.10/dist-packages/sklearn/metrics/_classification.py:1344: UndefinedMetricWarning: Precision and F-score are ill-defined and being set to 0.0 in labels with no predicted samples. Use `zero_division` parameter to control this behavior.\n",
            "  _warn_prf(average, modifier, msg_start, len(result))\n",
            "/usr/local/lib/python3.10/dist-packages/sklearn/metrics/_classification.py:1344: UndefinedMetricWarning: Precision and F-score are ill-defined and being set to 0.0 in labels with no predicted samples. Use `zero_division` parameter to control this behavior.\n",
            "  _warn_prf(average, modifier, msg_start, len(result))\n"
          ]
        },
        {
          "output_type": "stream",
          "name": "stdout",
          "text": [
            "              precision    recall  f1-score   support\n",
            "\n",
            "           0       0.79      1.00      0.88        30\n",
            "           1       0.00      0.00      0.00         8\n",
            "\n",
            "    accuracy                           0.79        38\n",
            "   macro avg       0.39      0.50      0.44        38\n",
            "weighted avg       0.62      0.79      0.70        38\n",
            "\n",
            "              precision    recall  f1-score   support\n",
            "\n",
            "           0       0.96      0.73      0.83        30\n",
            "           1       0.47      0.88      0.61         8\n",
            "\n",
            "    accuracy                           0.76        38\n",
            "   macro avg       0.71      0.80      0.72        38\n",
            "weighted avg       0.85      0.76      0.78        38\n",
            "\n",
            "              precision    recall  f1-score   support\n",
            "\n",
            "           0       0.91      0.70      0.79        30\n",
            "           1       0.40      0.75      0.52         8\n",
            "\n",
            "    accuracy                           0.71        38\n",
            "   macro avg       0.66      0.72      0.66        38\n",
            "weighted avg       0.81      0.71      0.74        38\n",
            "\n"
          ]
        },
        {
          "output_type": "display_data",
          "data": {
            "text/plain": [
              "<Figure size 1500x800 with 3 Axes>"
            ],
            "image/png": "[encoded data removed]"
          },
          "metadata": {}
        }
      ],
      "source": [
        "gs = gridspec.GridSpec(1, 3)\n",
        "\n",
        "fig = plt.figure(figsize=(15, 8))\n",
        "\n",
        "labels = [\"C = 0.04\", \"C = 1\", \"C = 10\"]\n",
        "for clf, lab, grd in zip(\n",
        "    [svc1, svc2, svc3], labels, itertools.product([0, 1, 2], repeat=2)\n",
        "):\n",
        "    clf.fit(X_train, y_train)\n",
        "    print(classification_report(y_test, clf.predict(X_test)))\n",
        "    ax = plt.subplot(gs[grd[0], grd[1]])\n",
        "    fig = plot_decision_regions(X=X_train, y=np.array(y_train), clf=clf, legend=2)\n",
        "    plt.title(lab)\n",
        "\n",
        "plt.show()"
      ]
    },
    {
      "cell_type": "markdown",
      "id": "touched-resource",
      "metadata": {
        "id": "touched-resource"
      },
      "source": [
        "### Логистическая регрессия и SVM на менее приятных данных (если есть время)"
      ]
    },
    {
      "cell_type": "markdown",
      "id": "accessible-cleanup",
      "metadata": {
        "id": "accessible-cleanup"
      },
      "source": [
        "Мы будем работать с [набором данных](https://www.kaggle.com/piyushgoyal443/red-wine-dataset?select=wineQualityReds.csv), содержащим информацию о характеристиках вина. Каждое наблюдение принадлежит к одному из 10 категорий качества вина, и наша задача заключается в том, что предсказать эту категорию."
      ]
    },
    {
      "cell_type": "code",
      "execution_count": null,
      "id": "multiple-humor",
      "metadata": {
        "id": "multiple-humor",
        "outputId": "c6c9dcc2-0028-461a-8b49-f0a8d390fc72"
      },
      "outputs": [
        {
          "data": {
            "text/html": [
              "<div>\n",
              "<style scoped>\n",
              "    .dataframe tbody tr th:only-of-type {\n",
              "        vertical-align: middle;\n",
              "    }\n",
              "\n",
              "    .dataframe tbody tr th {\n",
              "        vertical-align: top;\n",
              "    }\n",
              "\n",
              "    .dataframe thead th {\n",
              "        text-align: right;\n",
              "    }\n",
              "</style>\n",
              "<table border=\"1\" class=\"dataframe\">\n",
              "  <thead>\n",
              "    <tr style=\"text-align: right;\">\n",
              "      <th></th>\n",
              "      <th>fixed.acidity</th>\n",
              "      <th>volatile.acidity</th>\n",
              "      <th>citric.acid</th>\n",
              "      <th>residual.sugar</th>\n",
              "      <th>chlorides</th>\n",
              "      <th>free.sulfur.dioxide</th>\n",
              "      <th>total.sulfur.dioxide</th>\n",
              "      <th>density</th>\n",
              "      <th>pH</th>\n",
              "      <th>sulphates</th>\n",
              "      <th>alcohol</th>\n",
              "      <th>quality</th>\n",
              "    </tr>\n",
              "  </thead>\n",
              "  <tbody>\n",
              "    <tr>\n",
              "      <th>1</th>\n",
              "      <td>7.4</td>\n",
              "      <td>0.70</td>\n",
              "      <td>0.00</td>\n",
              "      <td>1.9</td>\n",
              "      <td>0.076</td>\n",
              "      <td>11.0</td>\n",
              "      <td>34.0</td>\n",
              "      <td>0.9978</td>\n",
              "      <td>3.51</td>\n",
              "      <td>0.56</td>\n",
              "      <td>9.4</td>\n",
              "      <td>5</td>\n",
              "    </tr>\n",
              "    <tr>\n",
              "      <th>2</th>\n",
              "      <td>7.8</td>\n",
              "      <td>0.88</td>\n",
              "      <td>0.00</td>\n",
              "      <td>2.6</td>\n",
              "      <td>0.098</td>\n",
              "      <td>25.0</td>\n",
              "      <td>67.0</td>\n",
              "      <td>0.9968</td>\n",
              "      <td>3.20</td>\n",
              "      <td>0.68</td>\n",
              "      <td>9.8</td>\n",
              "      <td>5</td>\n",
              "    </tr>\n",
              "    <tr>\n",
              "      <th>3</th>\n",
              "      <td>7.8</td>\n",
              "      <td>0.76</td>\n",
              "      <td>0.04</td>\n",
              "      <td>2.3</td>\n",
              "      <td>0.092</td>\n",
              "      <td>15.0</td>\n",
              "      <td>54.0</td>\n",
              "      <td>0.9970</td>\n",
              "      <td>3.26</td>\n",
              "      <td>0.65</td>\n",
              "      <td>9.8</td>\n",
              "      <td>5</td>\n",
              "    </tr>\n",
              "    <tr>\n",
              "      <th>4</th>\n",
              "      <td>11.2</td>\n",
              "      <td>0.28</td>\n",
              "      <td>0.56</td>\n",
              "      <td>1.9</td>\n",
              "      <td>0.075</td>\n",
              "      <td>17.0</td>\n",
              "      <td>60.0</td>\n",
              "      <td>0.9980</td>\n",
              "      <td>3.16</td>\n",
              "      <td>0.58</td>\n",
              "      <td>9.8</td>\n",
              "      <td>6</td>\n",
              "    </tr>\n",
              "    <tr>\n",
              "      <th>5</th>\n",
              "      <td>7.4</td>\n",
              "      <td>0.70</td>\n",
              "      <td>0.00</td>\n",
              "      <td>1.9</td>\n",
              "      <td>0.076</td>\n",
              "      <td>11.0</td>\n",
              "      <td>34.0</td>\n",
              "      <td>0.9978</td>\n",
              "      <td>3.51</td>\n",
              "      <td>0.56</td>\n",
              "      <td>9.4</td>\n",
              "      <td>5</td>\n",
              "    </tr>\n",
              "  </tbody>\n",
              "</table>\n",
              "</div>"
            ],
            "text/plain": [
              "   fixed.acidity  volatile.acidity  citric.acid  residual.sugar  chlorides  \\\n",
              "1            7.4              0.70         0.00             1.9      0.076   \n",
              "2            7.8              0.88         0.00             2.6      0.098   \n",
              "3            7.8              0.76         0.04             2.3      0.092   \n",
              "4           11.2              0.28         0.56             1.9      0.075   \n",
              "5            7.4              0.70         0.00             1.9      0.076   \n",
              "\n",
              "   free.sulfur.dioxide  total.sulfur.dioxide  density    pH  sulphates  \\\n",
              "1                 11.0                  34.0   0.9978  3.51       0.56   \n",
              "2                 25.0                  67.0   0.9968  3.20       0.68   \n",
              "3                 15.0                  54.0   0.9970  3.26       0.65   \n",
              "4                 17.0                  60.0   0.9980  3.16       0.58   \n",
              "5                 11.0                  34.0   0.9978  3.51       0.56   \n",
              "\n",
              "   alcohol  quality  \n",
              "1      9.4        5  \n",
              "2      9.8        5  \n",
              "3      9.8        5  \n",
              "4      9.8        6  \n",
              "5      9.4        5  "
            ]
          },
          "execution_count": 12,
          "metadata": {},
          "output_type": "execute_result"
        }
      ],
      "source": [
        "data = pd.read_csv(\"wineQualityReds.csv\", index_col=0)\n",
        "data.head()"
      ]
    },
    {
      "cell_type": "markdown",
      "id": "german-artwork",
      "metadata": {
        "id": "german-artwork"
      },
      "source": [
        "Как указано в описании набора, в нём нет пропущенных значений, и все переменные являются непрерывными. Целевая переменная – `quality`."
      ]
    },
    {
      "cell_type": "markdown",
      "id": "crazy-moses",
      "metadata": {
        "id": "crazy-moses"
      },
      "source": [
        "**Задание 1.** Перейдём к задаче бинарной классификации и будем предсказывать только наиболее популярную категорию качества. Закодируйте столбец `quality` так, чтобы наиболее частая категория (это категория 5) получила метку 1, а все прочие категории – метку -1."
      ]
    },
    {
      "cell_type": "code",
      "execution_count": null,
      "id": "prepared-laser",
      "metadata": {
        "id": "prepared-laser"
      },
      "outputs": [],
      "source": [
        "data[\"target\"] = (data[\"quality\"] == 5).astype(int).replace({0: -1})"
      ]
    },
    {
      "cell_type": "markdown",
      "id": "steady-ecology",
      "metadata": {
        "id": "steady-ecology"
      },
      "source": [
        "**Задание 2.** Разделите признаки и целевую переменную. Разделите выборку на тренировочную и тестовую, долю тестовой выборки укажите равной 0.3. При помощи `StandardScaler` отмасштабируйте тренировочную и тестовую выборки."
      ]
    },
    {
      "cell_type": "code",
      "execution_count": null,
      "id": "beneficial-perry",
      "metadata": {
        "id": "beneficial-perry"
      },
      "outputs": [],
      "source": [
        "X_train, X_test, y_train, y_test = train_test_split(\n",
        "    data.drop(columns=[\"target\", \"quality\"]), data[\"target\"], test_size=0.3\n",
        ")\n",
        "\n",
        "# Отмасштабируйте признаки\n",
        "ss = StandardScaler()\n",
        "X_train = ss.fit_transform(X_train)\n",
        "X_test = ss.transform(X_test)"
      ]
    },
    {
      "cell_type": "markdown",
      "id": "quick-replica",
      "metadata": {
        "id": "quick-replica"
      },
      "source": [
        "**Задание 3.** При помощи кросс-валидации (параметры выберите сами) подберите оптимальные значения коэффициентов регуляризации для логистической регрессии и SVM с линейным ядром. Обучите модели с этими параметрами. Убедитесь, что доля правильных ответов – не лучший вариант для нашей задачи и рассчитайте F-меру на тестовой выборке. Какой алгоритм показал себя лучше?\n",
        "\n",
        " **Бонус для самых отважных:** качество работы SVM можно улучшить за счёт применения ядер, после чего разделяющая поверхность становится нелинейной. Если вам интересно, попросите семинариста рассказать об этом подробнее.  "
      ]
    },
    {
      "cell_type": "code",
      "execution_count": null,
      "id": "destroyed-cooling",
      "metadata": {
        "id": "destroyed-cooling"
      },
      "outputs": [],
      "source": [
        "scores_lr = []\n",
        "scores_svm = []\n",
        "\n",
        "for c in np.arange(0.1, 10, 1):\n",
        "    lr = LogisticRegression(C=c)\n",
        "    svm = SVC(C=c)\n",
        "\n",
        "    lr.fit(X_train, y_train)\n",
        "    svm.fit(X_train, y_train)\n",
        "\n",
        "    pred_lr = lr.predict(X_test)\n",
        "    pred_svm = svm.predict(X_test)\n",
        "\n",
        "    scores_lr.append(\n",
        "        {\"acc\": accuracy_score(y_test, pred_lr), \"f1\": f1_score(y_test, pred_lr)}\n",
        "    )\n",
        "    scores_svm.append(\n",
        "        {\"acc\": accuracy_score(y_test, pred_svm), \"f1\": f1_score(y_test, pred_svm)}\n",
        "    )"
      ]
    },
    {
      "cell_type": "code",
      "execution_count": null,
      "id": "1ae8371e",
      "metadata": {
        "id": "1ae8371e",
        "outputId": "d7a00498-60ee-402e-c3dc-f7cf31e16cbf"
      },
      "outputs": [
        {
          "data": {
            "text/plain": [
              "[{'acc': 0.7291666666666666, 'f1': 0.6813725490196078},\n",
              " {'acc': 0.7291666666666666, 'f1': 0.6829268292682926},\n",
              " {'acc': 0.7291666666666666, 'f1': 0.6829268292682926},\n",
              " {'acc': 0.7291666666666666, 'f1': 0.6829268292682926},\n",
              " {'acc': 0.7291666666666666, 'f1': 0.6829268292682926},\n",
              " {'acc': 0.7291666666666666, 'f1': 0.6829268292682926},\n",
              " {'acc': 0.7291666666666666, 'f1': 0.6829268292682926},\n",
              " {'acc': 0.7291666666666666, 'f1': 0.6829268292682926},\n",
              " {'acc': 0.7291666666666666, 'f1': 0.6829268292682926},\n",
              " {'acc': 0.7291666666666666, 'f1': 0.6829268292682926}]"
            ]
          },
          "execution_count": 19,
          "metadata": {},
          "output_type": "execute_result"
        }
      ],
      "source": [
        "scores_lr"
      ]
    },
    {
      "cell_type": "code",
      "execution_count": null,
      "id": "1372d7ed",
      "metadata": {
        "id": "1372d7ed",
        "outputId": "86ba2bc9-c1c5-4604-cbd1-136dd4b78bfe"
      },
      "outputs": [
        {
          "data": {
            "text/plain": [
              "[{'acc': 0.7208333333333333, 'f1': 0.6883720930232557},\n",
              " {'acc': 0.7166666666666667, 'f1': 0.6807511737089202},\n",
              " {'acc': 0.7166666666666667, 'f1': 0.6807511737089202},\n",
              " {'acc': 0.71875, 'f1': 0.6823529411764706},\n",
              " {'acc': 0.71875, 'f1': 0.6823529411764706},\n",
              " {'acc': 0.7208333333333333, 'f1': 0.6839622641509434},\n",
              " {'acc': 0.71875, 'f1': 0.6823529411764706},\n",
              " {'acc': 0.71875, 'f1': 0.6823529411764706},\n",
              " {'acc': 0.71875, 'f1': 0.6823529411764706},\n",
              " {'acc': 0.71875, 'f1': 0.6823529411764706}]"
            ]
          },
          "execution_count": 20,
          "metadata": {},
          "output_type": "execute_result"
        }
      ],
      "source": [
        "scores_svm"
      ]
    },
    {
      "cell_type": "code",
      "execution_count": null,
      "id": "c200f840",
      "metadata": {
        "id": "c200f840",
        "outputId": "165b69dc-a329-420b-e6a7-7cc55cdd71bd"
      },
      "outputs": [
        {
          "data": {
            "text/plain": [
              "[{'acc': 0.7291666666666666, 'f1': 0.6733668341708543},\n",
              " {'acc': 0.7375, 'f1': 0.6985645933014354},\n",
              " {'acc': 0.7541666666666667, 'f1': 0.7190476190476192},\n",
              " {'acc': 0.75625, 'f1': 0.7220902612826603},\n",
              " {'acc': 0.7541666666666667, 'f1': 0.7242990654205607},\n",
              " {'acc': 0.75625, 'f1': 0.7285382830626449},\n",
              " {'acc': 0.75625, 'f1': 0.7285382830626449},\n",
              " {'acc': 0.75625, 'f1': 0.7272727272727273},\n",
              " {'acc': 0.75, 'f1': 0.7209302325581396},\n",
              " {'acc': 0.75, 'f1': 0.7235023041474653}]"
            ]
          },
          "execution_count": 22,
          "metadata": {},
          "output_type": "execute_result"
        }
      ],
      "source": [
        "scores_svm"
      ]
    },
    {
      "cell_type": "markdown",
      "id": "c0d90ec9",
      "metadata": {
        "id": "c0d90ec9"
      },
      "source": [
        "## Метрики классификации"
      ]
    },
    {
      "cell_type": "markdown",
      "id": "e1af0fa6",
      "metadata": {
        "id": "e1af0fa6"
      },
      "source": [
        "1.accuracy\n",
        "\n",
        "2.precision\n",
        "\n",
        "3.recall\n",
        "\n",
        "4.f1\n",
        "\n",
        "5.pr-recall curve\n",
        "\n",
        "6.roc - auc"
      ]
    },
    {
      "cell_type": "code",
      "execution_count": null,
      "id": "e4f13f7e",
      "metadata": {
        "id": "e4f13f7e"
      },
      "outputs": [],
      "source": [
        "n = 500\n",
        "# True labels\n",
        "y = np.random.randint(0, 2, 500)\n",
        "# Predicted labels\n",
        "p = (np.random.random(500) > 0.5).astype(int)"
      ]
    },
    {
      "cell_type": "code",
      "execution_count": null,
      "outputs": [],
      "source": [
        "from sklearn.metrics import confusion_matrix"
      ],
      "metadata": {
        "id": "aclmOGPzIFwO"
      },
      "id": "aclmOGPzIFwO"
    },
    {
      "cell_type": "code",
      "execution_count": 30,
      "id": "58363cb2",
      "metadata": {
        "id": "58363cb2"
      },
      "outputs": [],
      "source": [
        "def accuracy(y, p):\n",
        "    return sum(y == p) / len(y)\n",
        "\n",
        "\n",
        "def precision(y, p):\n",
        "    (TN, FP), (FN, TP) = confusion_matrix(y, p)\n",
        "\n",
        "    return TP / (TP + FP)\n",
        "\n",
        "\n",
        "def recall(y, p):\n",
        "    (TN, FP), (FN, TP) = confusion_matrix(y, p)\n",
        "\n",
        "    return TP / (TP + FN)\n",
        "\n",
        "\n",
        "def f1(y, p, beta=1):\n",
        "    re = recall(y, p)\n",
        "    pr = precision(y, p)\n",
        "\n",
        "    return (1 + beta**2) * pr * re / (beta**2 * pr + re)"
      ]
    },
    {
      "cell_type": "code",
      "execution_count": null,
      "id": "c8f45ec2",
      "metadata": {
        "id": "c8f45ec2",
        "outputId": "c4587449-cbf2-4ce1-dfef-cc8bef263ab8"
      },
      "outputs": [
        {
          "name": "stdout",
          "output_type": "stream",
          "text": [
            "acc 0.474\n",
            "pr 0.508\n",
            "re 0.4756554307116105\n",
            "f1 0.4912959381044487\n"
          ]
        }
      ],
      "source": [
        "metric_dict = {\"acc\": accuracy, \"pr\": precision, \"re\": recall, \"f1\": f1}\n",
        "for title, func in metric_dict.items():\n",
        "    print(title, func(y, p))"
      ]
    },
    {
      "cell_type": "code",
      "execution_count": null,
      "id": "c257b86e",
      "metadata": {
        "id": "c257b86e",
        "outputId": "4753c15b-3349-479b-dc30-18bea3a02849"
      },
      "outputs": [
        {
          "name": "stdout",
          "output_type": "stream",
          "text": [
            "              precision    recall  f1-score   support\n",
            "\n",
            "           0       0.44      0.47      0.46       233\n",
            "           1       0.51      0.48      0.49       267\n",
            "\n",
            "    accuracy                           0.47       500\n",
            "   macro avg       0.47      0.47      0.47       500\n",
            "weighted avg       0.48      0.47      0.47       500\n",
            "\n"
          ]
        }
      ],
      "source": [
        "print(classification_report(y, p))"
      ]
    },
    {
      "cell_type": "markdown",
      "id": "neutral-notebook",
      "metadata": {
        "id": "neutral-notebook"
      },
      "source": [
        "### ROC-кривая"
      ]
    },
    {
      "cell_type": "markdown",
      "id": "marine-parish",
      "metadata": {
        "id": "marine-parish"
      },
      "source": [
        "Ранее мы узнали, что помимо accuracy в задачах классификации так же используются precision, recall и f-мера. Теперь пришло время познакомиться с ещё одной метрикой – ROC AUC.\n",
        "\n",
        "Для начала вспомним, что мы работаем с матрицей ошибок:\n",
        "\n",
        "|       | alg = 1          | alg = -1    |\n",
        "|-------| -----------------|-------------|\n",
        "|y = 1  |TP                |FN           |\n",
        "|y = -1 |FP                | TN          |\n",
        "\n",
        "Определим следующие величины:\n",
        "\n",
        "$$\n",
        "TPR \\text{ (true positive rate, recall, sensitivity)} = \\dfrac{TP}{TP + FN}\n",
        "$$\n",
        "– доля правильно предсказанных объектов положительного класса.\n",
        "\n",
        "$$\n",
        "FPR \\text{ (false positive rate, 1 - specificity)} = \\dfrac{FP}{FP + TN}\n",
        "$$\n",
        "– доля неправильно предсказанных объектов отрицательного класса.\n",
        "\n",
        "Рассмотрим задачу мягкой классификации: мы предказываем вероятности принадлежности наблюдения к положительному и отрицательному классам. Тогда TPR и FPR будут зависеть от порога для вероятности, выше которого наблюдение будет отнесено к положительному классу. ROC-кривая строится в координатах $(FPR, TPR)$ и показывает комбинации TPR и FPR при всевозможных значениях порога.\n",
        "\n",
        "Для хорошего классификатора эта кривая является вогнутой, а для идеального классификатора она будет проходить через точку $(0, 1)$ (почему?).\n",
        "\n",
        "[<img src=\"https://upload.wikimedia.org/wikipedia/commons/6/6b/Roccurves.png\" alt=\"drawing\" width=\"350\"/>](https://ru.wikipedia.org/wiki/ROC-кривая)\n",
        "\n",
        "\n",
        "\n",
        "**Задание 1.** Постройте ROC-кривую для следующей выборки."
      ]
    },
    {
      "cell_type": "code",
      "execution_count": 31,
      "id": "convertible-leader",
      "metadata": {
        "id": "convertible-leader"
      },
      "outputs": [],
      "source": [
        "# True labels\n",
        "y = [-1, 1, 1, -1, 1, 1]\n",
        "# Predicted labels\n",
        "p = [0.5, 0.1, 0.2, 0.9, 0.7, 0.1]"
      ]
    },
    {
      "cell_type": "markdown",
      "id": "worst-machinery",
      "metadata": {
        "id": "worst-machinery"
      },
      "source": [
        "**Решение:**\n",
        "1. Упорядочим наблюдения по **убыванию** ответов алгоритма."
      ]
    },
    {
      "cell_type": "code",
      "execution_count": 32,
      "id": "desirable-bleeding",
      "metadata": {
        "id": "desirable-bleeding"
      },
      "outputs": [],
      "source": [
        "y = [-1, 1, -1, 1, 1, 1]\n",
        "p = [0.9, 0.7, 0.5, 0.2, 0.1, 0.1]"
      ]
    },
    {
      "cell_type": "markdown",
      "id": "virtual-crack",
      "metadata": {
        "id": "virtual-crack"
      },
      "source": [
        "2. Разобьём единичный квадрат на $(m, n)$ частей, где $m$ – число 1 в $y$, $n$ – число нулей. Стартуем из точки $(0, 0)$. Если значение $y$ равно 1, делаем шаг вверх, а если -1 – вправо. Понятно, что конечная точка нашего маршрута – точка $(1, 1)$.\n",
        "\n",
        "**Важный момент:** если у нескольких объектов значения предсказаний равны, а $y$ – различны, то мы должны сделать ход \"по диагонали\".\n",
        "\n",
        "Если построить кривую по этому алгоритму, то получим:"
      ]
    },
    {
      "cell_type": "code",
      "execution_count": 33,
      "id": "substantial-louis",
      "metadata": {
        "id": "substantial-louis",
        "outputId": "53acdf3a-7a75-4b62-dc9f-0f364d4ea6e2",
        "colab": {
          "base_uri": "https://localhost:8080/",
          "height": 699
        }
      },
      "outputs": [
        {
          "output_type": "display_data",
          "data": {
            "text/plain": [
              "<Figure size 800x800 with 1 Axes>"
            ],
            "image/png": "[encoded data removed]"
          },
          "metadata": {}
        }
      ],
      "source": [
        "fpr, tpr, _ = roc_curve(y, p)\n",
        "\n",
        "plt.figure(figsize=(8, 8))\n",
        "plt.plot(fpr, tpr, label=\"ROC\")\n",
        "plt.axvline(0.5, linestyle=\"dotted\", c=\"red\")\n",
        "plt.axhline(0.25, linestyle=\"dotted\", c=\"red\")\n",
        "plt.axhline(0.5, linestyle=\"dotted\", c=\"red\")\n",
        "plt.axhline(0.75, linestyle=\"dotted\", c=\"red\")\n",
        "plt.axhline(1.0, linestyle=\"dotted\", c=\"red\")\n",
        "plt.title(\"Красные линии показывают разбиение единичного квадрата на m и n частей\")\n",
        "plt.legend();"
      ]
    },
    {
      "cell_type": "markdown",
      "id": "manufactured-lyric",
      "metadata": {
        "id": "manufactured-lyric"
      },
      "source": [
        "3. Полученная кривая и является ROC-кривой.\n",
        "\n",
        "**(Почему этот алгоритм имеет смысл?)**"
      ]
    },
    {
      "cell_type": "markdown",
      "id": "arctic-scott",
      "metadata": {
        "id": "arctic-scott"
      },
      "source": [
        "**Пример с диагональным шагом.**"
      ]
    },
    {
      "cell_type": "code",
      "execution_count": 34,
      "id": "wireless-worship",
      "metadata": {
        "id": "wireless-worship"
      },
      "outputs": [],
      "source": [
        "p = [0.5, 0.1, 0.2, 0.6, 0.2, 0.3, 0.0]\n",
        "y = [-1, -1, -1, 1, 1, 1, -1]"
      ]
    },
    {
      "cell_type": "code",
      "execution_count": null,
      "id": "ef94098e",
      "metadata": {
        "id": "ef94098e"
      },
      "outputs": [],
      "source": []
    },
    {
      "cell_type": "code",
      "execution_count": null,
      "id": "bizarre-farming",
      "metadata": {
        "id": "bizarre-farming"
      },
      "outputs": [],
      "source": [
        "fpr, tpr, _ = roc_curve(y, p)"
      ]
    },
    {
      "cell_type": "code",
      "execution_count": 35,
      "id": "likely-facial",
      "metadata": {
        "id": "likely-facial",
        "outputId": "d11155f0-4559-4d88-ec72-4a104cabcbff",
        "colab": {
          "base_uri": "https://localhost:8080/",
          "height": 699
        }
      },
      "outputs": [
        {
          "output_type": "display_data",
          "data": {
            "text/plain": [
              "<Figure size 800x800 with 1 Axes>"
            ],
            "image/png": "[encoded data removed]"
          },
          "metadata": {}
        }
      ],
      "source": [
        "plt.figure(figsize=(8, 8))\n",
        "plt.plot(fpr, tpr, label=\"ROC\")\n",
        "plt.axvline(0.25, linestyle=\"dotted\", c=\"red\")\n",
        "plt.axvline(0.5, linestyle=\"dotted\", c=\"red\")\n",
        "plt.axvline(0.75, linestyle=\"dotted\", c=\"red\")\n",
        "plt.axvline(1.0, linestyle=\"dotted\", c=\"red\")\n",
        "plt.axhline(0.33, linestyle=\"dotted\", c=\"red\")\n",
        "plt.axhline(0.66, linestyle=\"dotted\", c=\"red\")\n",
        "plt.axhline(1.0, linestyle=\"dotted\", c=\"red\")\n",
        "plt.title(\"Красные линии показывают разбиение единичного квадрата на m и n частей\")\n",
        "plt.legend();"
      ]
    },
    {
      "cell_type": "markdown",
      "id": "present-hurricane",
      "metadata": {
        "id": "present-hurricane"
      },
      "source": [
        "**Задание 2.** ROC AUC – площадь под ROC-кривой – равна доле пар наблюдений $(y = 1, y = -1)$, которые алгоритм верно упорядочил. Таким образом, чем больше ROC AUC, тем качественнее отработал классификатор. Вычислите ROC AUC для построенной ROC-кривой из первого примера."
      ]
    },
    {
      "cell_type": "markdown",
      "id": "prescription-indiana",
      "metadata": {
        "id": "prescription-indiana"
      },
      "source": [
        "**Решение:**"
      ]
    },
    {
      "cell_type": "code",
      "execution_count": null,
      "id": "complicated-istanbul",
      "metadata": {
        "id": "complicated-istanbul",
        "outputId": "f404cc0d-91bf-4a7a-bf3a-3f70a63871bc"
      },
      "outputs": [
        {
          "data": {
            "text/plain": [
              "0.125"
            ]
          },
          "execution_count": 52,
          "metadata": {},
          "output_type": "execute_result"
        }
      ],
      "source": [
        "0.25 * 0.5"
      ]
    },
    {
      "cell_type": "markdown",
      "id": "colored-hebrew",
      "metadata": {
        "id": "colored-hebrew"
      },
      "source": [
        "**Задание 3.** Как выглядит ROC-кривая для случайного классификатора?\n",
        "\n",
        "\n",
        "**Задание 4.** Как по ROC-кривой выбрать порог для бинаризации?"
      ]
    },
    {
      "cell_type": "markdown",
      "id": "expensive-spyware",
      "metadata": {
        "id": "expensive-spyware"
      },
      "source": [
        "В `sklearn` реализовано вычисление значений ROC-кривой и площади под ней."
      ]
    },
    {
      "cell_type": "code",
      "execution_count": null,
      "id": "corresponding-target",
      "metadata": {
        "id": "corresponding-target"
      },
      "outputs": [],
      "source": [
        "from sklearn.metrics import roc_curve"
      ]
    },
    {
      "cell_type": "markdown",
      "id": "premier-merchandise",
      "metadata": {
        "id": "premier-merchandise"
      },
      "source": [
        "**Важно:** в `roc_curve` передаются предсказанные вероятности!"
      ]
    },
    {
      "cell_type": "markdown",
      "id": "searching-crystal",
      "metadata": {
        "id": "searching-crystal"
      },
      "source": [
        "**Задание 5.** Постройте ROC-кривую и рассчитайте площадь под ней для логистической регрессии на данных о вине. О чём говорит такая форма кривой?"
      ]
    },
    {
      "cell_type": "code",
      "execution_count": null,
      "id": "driving-doubt",
      "metadata": {
        "id": "driving-doubt"
      },
      "outputs": [],
      "source": [
        "lr = LogisticRegression()\n",
        "lr.fit(X_train, y_train)\n",
        "\n",
        "pred = lr.predict_proba(X_test)[:, 1]"
      ]
    },
    {
      "cell_type": "code",
      "execution_count": null,
      "id": "26a97755",
      "metadata": {
        "id": "26a97755"
      },
      "outputs": [],
      "source": []
    },
    {
      "cell_type": "code",
      "execution_count": null,
      "id": "a95cb0c1",
      "metadata": {
        "id": "a95cb0c1"
      },
      "outputs": [],
      "source": [
        "x, y, val = roc_curve(y_test, pred)"
      ]
    },
    {
      "cell_type": "code",
      "execution_count": null,
      "id": "5cae03d8",
      "metadata": {
        "id": "5cae03d8",
        "outputId": "618c35ce-d6dc-4e6a-aaed-699dbd49bef8"
      },
      "outputs": [
        {
          "data": {
            "text/plain": [
              "<matplotlib.collections.PathCollection at 0x21fde0bb8b0>"
            ]
          },
          "execution_count": 53,
          "metadata": {},
          "output_type": "execute_result"
        },
        {
          "data": {
            "image/png": "[encoded data removed]",
            "text/plain": [
              "<Figure size 640x480 with 1 Axes>"
            ]
          },
          "metadata": {},
          "output_type": "display_data"
        }
      ],
      "source": [
        "plt.scatter(x, y)"
      ]
    },
    {
      "cell_type": "markdown",
      "id": "narrow-martial",
      "metadata": {
        "id": "narrow-martial"
      },
      "source": [
        "### Бонус для самых смелых: вывод логистической регрессии через правдоподобие\n",
        "\n",
        "Перекодируем $y$ так, что её возможные значения – это 0 и 1. Теперь $y$ является случайной величиной из распределения Бернулли. Тогда сигмоида задаёт условную вероятность принадлежности $y$ к положительному классу:\n",
        "\n",
        "$$\n",
        "P(y_i = 1 | x_i, w) = \\sigma(x_i, w).\n",
        "$$\n",
        "\n",
        "Будем искать оценку коэффициентов $w$ при помощи метода максимального правдоподобия.\n",
        "\n",
        "$$\n",
        "\\mathcal{L} = \\sigma(x_i, w)^{\\sum_i y_i}(1 - \\sigma(x_i, w))^{\\sum_i 1 - y_i}\n",
        "$$\n",
        "\n",
        "Логарифмируем:\n",
        "\n",
        "$$\n",
        "\\mathcal{l} = \\sum_i y_i \\log\\sigma(x_i, w) + (1 - y_i)(1 - \\log\\sigma(x_i, w))\n",
        "$$\n",
        "\n",
        "Если теперь взять среднее, то мы получим log-loss, взятый со знаком минус. Таким образом, минимизация функции потерь в логистической регрессии эквивалентна  максимизации правдоподобия в задаче нахождения оценок $w$!"
      ]
    }
  ],
  "metadata": {
    "kernelspec": {
      "display_name": "Python 3 (ipykernel)",
      "language": "python",
      "name": "python3"
    },
    "language_info": {
      "codemirror_mode": {
        "name": "ipython",
        "version": 3
      },
      "file_extension": ".py",
      "mimetype": "text/x-python",
      "name": "python",
      "nbconvert_exporter": "python",
      "pygments_lexer": "ipython3",
      "version": "3.10.10"
    },
    "colab": {
      "provenance": []
    }
  },
  "nbformat": 4,
  "nbformat_minor": 5
}