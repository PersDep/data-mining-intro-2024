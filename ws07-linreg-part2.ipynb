{
  "cells": [
    {
      "cell_type": "markdown",
      "metadata": {
        "id": "OSHI7j-Q28j3"
      },
      "source": [
        "# Семинар 6: предобработка данных и функции потерь в линейной регрессии\n",
        "\n",
        "## Вступление\n",
        "Сегодня мы продолжим обсуждать предобработку данных, добавив к ней генерацию новых признаков. Потом обсудим различные функции потерь для линейной регрессии, визуально сравним их. Ну и закончим тем, чего все давно ждали: познакомимся подробнее с интерфейсами линейных моделей и методов отбора признаков в sklearn, обучим ряд линейных моделей.\n",
        "\n",
        "### План семинара\n",
        "1. Предоработка данных\n",
        "    - Заполнение пропусков\n",
        "    - Преобразование нечисловых признаков\n",
        "    - Масштабирование\n",
        "    - Генерация новых признаков\n",
        "2. Имплементация и визуализация функций потерь для регрессии\n",
        "    - MSE, RMSE, R2 score\n",
        "    - MAE\n",
        "    - Huber Loss\n",
        "    - Logarithmic Loss\n",
        "    - Quantile Loss\n",
        "3. Обучение линейных моделей и отбор признаков\n",
        "\n",
        "## 1. Предоработка данных\n",
        "Для демонстраций загрузим набор данных [Automobile Data Set](https://archive.ics.uci.edu/ml/datasets/Automobile). В данных присутствуют категориальные, целочисленные и вещественнозначные признаки."
      ]
    },
    {
      "cell_type": "code",
      "execution_count": 1,
      "metadata": {
        "ExecuteTime": {
          "end_time": "2023-03-01T13:28:18.632809Z",
          "start_time": "2023-03-01T13:28:17.310820Z"
        },
        "id": "UVIeylbu06qN"
      },
      "outputs": [],
      "source": [
        "import warnings\n",
        "\n",
        "import matplotlib\n",
        "import numpy as np\n",
        "import pandas as pd\n",
        "from matplotlib import pyplot as plt\n",
        "from sklearn.impute import SimpleImputer\n",
        "from sklearn.linear_model import LinearRegression\n",
        "from sklearn.preprocessing import MinMaxScaler\n",
        "\n",
        "warnings.filterwarnings(\"ignore\")\n",
        "\n",
        "%matplotlib inline\n",
        "plt.rcParams[\"figure.figsize\"] = (12, 8)"
      ]
    },
    {
      "cell_type": "code",
      "execution_count": null,
      "metadata": {
        "ExecuteTime": {
          "end_time": "2023-03-01T13:28:19.621631Z",
          "start_time": "2023-03-01T13:28:18.633845Z"
        },
        "id": "u30Ou_XY28j5",
        "outputId": "88472f73-ce07-4181-f7c6-7c5523309196"
      },
      "outputs": [
        {
          "data": {
            "text/html": [
              "<div>\n",
              "<style scoped>\n",
              "    .dataframe tbody tr th:only-of-type {\n",
              "        vertical-align: middle;\n",
              "    }\n",
              "\n",
              "    .dataframe tbody tr th {\n",
              "        vertical-align: top;\n",
              "    }\n",
              "\n",
              "    .dataframe thead th {\n",
              "        text-align: right;\n",
              "    }\n",
              "</style>\n",
              "<table border=\"1\" class=\"dataframe\">\n",
              "  <thead>\n",
              "    <tr style=\"text-align: right;\">\n",
              "      <th></th>\n",
              "      <th>0</th>\n",
              "      <th>1</th>\n",
              "      <th>2</th>\n",
              "      <th>3</th>\n",
              "      <th>4</th>\n",
              "      <th>5</th>\n",
              "      <th>6</th>\n",
              "      <th>7</th>\n",
              "      <th>8</th>\n",
              "      <th>9</th>\n",
              "      <th>...</th>\n",
              "      <th>15</th>\n",
              "      <th>16</th>\n",
              "      <th>17</th>\n",
              "      <th>18</th>\n",
              "      <th>19</th>\n",
              "      <th>20</th>\n",
              "      <th>21</th>\n",
              "      <th>22</th>\n",
              "      <th>23</th>\n",
              "      <th>24</th>\n",
              "    </tr>\n",
              "  </thead>\n",
              "  <tbody>\n",
              "    <tr>\n",
              "      <th>0</th>\n",
              "      <td>3</td>\n",
              "      <td>NaN</td>\n",
              "      <td>alfa-romero</td>\n",
              "      <td>gas</td>\n",
              "      <td>std</td>\n",
              "      <td>two</td>\n",
              "      <td>convertible</td>\n",
              "      <td>rwd</td>\n",
              "      <td>front</td>\n",
              "      <td>88.6</td>\n",
              "      <td>...</td>\n",
              "      <td>four</td>\n",
              "      <td>130</td>\n",
              "      <td>mpfi</td>\n",
              "      <td>3.47</td>\n",
              "      <td>2.68</td>\n",
              "      <td>9.0</td>\n",
              "      <td>111.0</td>\n",
              "      <td>5000.0</td>\n",
              "      <td>21</td>\n",
              "      <td>27</td>\n",
              "    </tr>\n",
              "    <tr>\n",
              "      <th>1</th>\n",
              "      <td>3</td>\n",
              "      <td>NaN</td>\n",
              "      <td>alfa-romero</td>\n",
              "      <td>gas</td>\n",
              "      <td>std</td>\n",
              "      <td>two</td>\n",
              "      <td>convertible</td>\n",
              "      <td>rwd</td>\n",
              "      <td>front</td>\n",
              "      <td>88.6</td>\n",
              "      <td>...</td>\n",
              "      <td>four</td>\n",
              "      <td>130</td>\n",
              "      <td>mpfi</td>\n",
              "      <td>3.47</td>\n",
              "      <td>2.68</td>\n",
              "      <td>9.0</td>\n",
              "      <td>111.0</td>\n",
              "      <td>5000.0</td>\n",
              "      <td>21</td>\n",
              "      <td>27</td>\n",
              "    </tr>\n",
              "    <tr>\n",
              "      <th>2</th>\n",
              "      <td>1</td>\n",
              "      <td>NaN</td>\n",
              "      <td>alfa-romero</td>\n",
              "      <td>gas</td>\n",
              "      <td>std</td>\n",
              "      <td>two</td>\n",
              "      <td>hatchback</td>\n",
              "      <td>rwd</td>\n",
              "      <td>front</td>\n",
              "      <td>94.5</td>\n",
              "      <td>...</td>\n",
              "      <td>six</td>\n",
              "      <td>152</td>\n",
              "      <td>mpfi</td>\n",
              "      <td>2.68</td>\n",
              "      <td>3.47</td>\n",
              "      <td>9.0</td>\n",
              "      <td>154.0</td>\n",
              "      <td>5000.0</td>\n",
              "      <td>19</td>\n",
              "      <td>26</td>\n",
              "    </tr>\n",
              "    <tr>\n",
              "      <th>3</th>\n",
              "      <td>2</td>\n",
              "      <td>164.0</td>\n",
              "      <td>audi</td>\n",
              "      <td>gas</td>\n",
              "      <td>std</td>\n",
              "      <td>four</td>\n",
              "      <td>sedan</td>\n",
              "      <td>fwd</td>\n",
              "      <td>front</td>\n",
              "      <td>99.8</td>\n",
              "      <td>...</td>\n",
              "      <td>four</td>\n",
              "      <td>109</td>\n",
              "      <td>mpfi</td>\n",
              "      <td>3.19</td>\n",
              "      <td>3.40</td>\n",
              "      <td>10.0</td>\n",
              "      <td>102.0</td>\n",
              "      <td>5500.0</td>\n",
              "      <td>24</td>\n",
              "      <td>30</td>\n",
              "    </tr>\n",
              "    <tr>\n",
              "      <th>4</th>\n",
              "      <td>2</td>\n",
              "      <td>164.0</td>\n",
              "      <td>audi</td>\n",
              "      <td>gas</td>\n",
              "      <td>std</td>\n",
              "      <td>four</td>\n",
              "      <td>sedan</td>\n",
              "      <td>4wd</td>\n",
              "      <td>front</td>\n",
              "      <td>99.4</td>\n",
              "      <td>...</td>\n",
              "      <td>five</td>\n",
              "      <td>136</td>\n",
              "      <td>mpfi</td>\n",
              "      <td>3.19</td>\n",
              "      <td>3.40</td>\n",
              "      <td>8.0</td>\n",
              "      <td>115.0</td>\n",
              "      <td>5500.0</td>\n",
              "      <td>18</td>\n",
              "      <td>22</td>\n",
              "    </tr>\n",
              "  </tbody>\n",
              "</table>\n",
              "<p>5 rows × 25 columns</p>\n",
              "</div>"
            ],
            "text/plain": [
              "   0      1            2    3    4     5            6    7      8     9   ...  \\\n",
              "0   3    NaN  alfa-romero  gas  std   two  convertible  rwd  front  88.6  ...   \n",
              "1   3    NaN  alfa-romero  gas  std   two  convertible  rwd  front  88.6  ...   \n",
              "2   1    NaN  alfa-romero  gas  std   two    hatchback  rwd  front  94.5  ...   \n",
              "3   2  164.0         audi  gas  std  four        sedan  fwd  front  99.8  ...   \n",
              "4   2  164.0         audi  gas  std  four        sedan  4wd  front  99.4  ...   \n",
              "\n",
              "     15   16    17    18    19    20     21      22  23  24  \n",
              "0  four  130  mpfi  3.47  2.68   9.0  111.0  5000.0  21  27  \n",
              "1  four  130  mpfi  3.47  2.68   9.0  111.0  5000.0  21  27  \n",
              "2   six  152  mpfi  2.68  3.47   9.0  154.0  5000.0  19  26  \n",
              "3  four  109  mpfi  3.19  3.40  10.0  102.0  5500.0  24  30  \n",
              "4  five  136  mpfi  3.19  3.40   8.0  115.0  5500.0  18  22  \n",
              "\n",
              "[5 rows x 25 columns]"
            ]
          },
          "execution_count": 2,
          "metadata": {},
          "output_type": "execute_result"
        }
      ],
      "source": [
        "X_raw = pd.read_csv(\n",
        "    \"https://archive.ics.uci.edu/ml/machine-learning-databases/autos/imports-85.data\",\n",
        "    header=None,\n",
        "    na_values=[\"?\"],\n",
        ")\n",
        "\n",
        "y = X_raw[25]\n",
        "X_raw = X_raw.drop(25, axis=1)\n",
        "\n",
        "X_raw.head()"
      ]
    },
    {
      "cell_type": "markdown",
      "metadata": {
        "collapsed": false,
        "id": "FTuLIYOg06qP"
      },
      "source": [
        "#### Заполним пропуски средними и пустыми строками"
      ]
    },
    {
      "cell_type": "code",
      "execution_count": null,
      "metadata": {
        "ExecuteTime": {
          "end_time": "2023-03-01T13:28:19.632940Z",
          "start_time": "2023-03-01T13:28:19.626525Z"
        },
        "id": "xHXo8yny28j_"
      },
      "outputs": [],
      "source": [
        "# создаем маску, указывающую на столбцы с категориальными признаками\n",
        "cat_features_mask = (X_raw.dtypes == \"object\").values\n",
        "\n",
        "# для вещественнозначных признаков заполним пропуски средними\n",
        "X_real = X_raw[X_raw.columns[~cat_features_mask]]\n",
        "mis_replacer = SimpleImputer(strategy=\"mean\")\n",
        "X_no_mis_real = pd.DataFrame(\n",
        "    data=mis_replacer.fit_transform(X_real), columns=X_real.columns\n",
        ")\n",
        "\n",
        "# для категориальных — пустыми строками\n",
        "X_cat = X_raw[X_raw.columns[cat_features_mask]].fillna(\"\")\n",
        "X_no_mis = pd.concat([X_no_mis_real, X_cat], axis=1)"
      ]
    },
    {
      "cell_type": "markdown",
      "metadata": {
        "id": "fNoCS3EK28kR"
      },
      "source": [
        "#### Преобразуем нечисловые признаки при помощи one-hot encoding"
      ]
    },
    {
      "cell_type": "code",
      "execution_count": null,
      "metadata": {
        "ExecuteTime": {
          "end_time": "2023-03-01T13:28:19.730659Z",
          "start_time": "2023-03-01T13:28:19.634185Z"
        },
        "colab": {
          "base_uri": "https://localhost:8080/",
          "height": 258
        },
        "id": "hLiNNMYz28kc",
        "outputId": "71635d35-f724-43d8-9244-cb83af917b0a"
      },
      "outputs": [
        {
          "name": "stdout",
          "output_type": "stream",
          "text": [
            "Data shape: (205, 66)\n"
          ]
        },
        {
          "data": {
            "text/html": [
              "<div>\n",
              "<style scoped>\n",
              "    .dataframe tbody tr th:only-of-type {\n",
              "        vertical-align: middle;\n",
              "    }\n",
              "\n",
              "    .dataframe tbody tr th {\n",
              "        vertical-align: top;\n",
              "    }\n",
              "\n",
              "    .dataframe thead th {\n",
              "        text-align: right;\n",
              "    }\n",
              "</style>\n",
              "<table border=\"1\" class=\"dataframe\">\n",
              "  <thead>\n",
              "    <tr style=\"text-align: right;\">\n",
              "      <th></th>\n",
              "      <th>0</th>\n",
              "      <th>1</th>\n",
              "      <th>9</th>\n",
              "      <th>10</th>\n",
              "      <th>11</th>\n",
              "      <th>12</th>\n",
              "      <th>13</th>\n",
              "      <th>16</th>\n",
              "      <th>18</th>\n",
              "      <th>19</th>\n",
              "      <th>...</th>\n",
              "      <th>15_three</th>\n",
              "      <th>15_twelve</th>\n",
              "      <th>15_two</th>\n",
              "      <th>17_2bbl</th>\n",
              "      <th>17_4bbl</th>\n",
              "      <th>17_idi</th>\n",
              "      <th>17_mfi</th>\n",
              "      <th>17_mpfi</th>\n",
              "      <th>17_spdi</th>\n",
              "      <th>17_spfi</th>\n",
              "    </tr>\n",
              "  </thead>\n",
              "  <tbody>\n",
              "    <tr>\n",
              "      <th>0</th>\n",
              "      <td>3.0</td>\n",
              "      <td>122.0</td>\n",
              "      <td>88.6</td>\n",
              "      <td>168.8</td>\n",
              "      <td>64.1</td>\n",
              "      <td>48.8</td>\n",
              "      <td>2548.0</td>\n",
              "      <td>130.0</td>\n",
              "      <td>3.47</td>\n",
              "      <td>2.68</td>\n",
              "      <td>...</td>\n",
              "      <td>0</td>\n",
              "      <td>0</td>\n",
              "      <td>0</td>\n",
              "      <td>0</td>\n",
              "      <td>0</td>\n",
              "      <td>0</td>\n",
              "      <td>0</td>\n",
              "      <td>1</td>\n",
              "      <td>0</td>\n",
              "      <td>0</td>\n",
              "    </tr>\n",
              "    <tr>\n",
              "      <th>1</th>\n",
              "      <td>3.0</td>\n",
              "      <td>122.0</td>\n",
              "      <td>88.6</td>\n",
              "      <td>168.8</td>\n",
              "      <td>64.1</td>\n",
              "      <td>48.8</td>\n",
              "      <td>2548.0</td>\n",
              "      <td>130.0</td>\n",
              "      <td>3.47</td>\n",
              "      <td>2.68</td>\n",
              "      <td>...</td>\n",
              "      <td>0</td>\n",
              "      <td>0</td>\n",
              "      <td>0</td>\n",
              "      <td>0</td>\n",
              "      <td>0</td>\n",
              "      <td>0</td>\n",
              "      <td>0</td>\n",
              "      <td>1</td>\n",
              "      <td>0</td>\n",
              "      <td>0</td>\n",
              "    </tr>\n",
              "    <tr>\n",
              "      <th>2</th>\n",
              "      <td>1.0</td>\n",
              "      <td>122.0</td>\n",
              "      <td>94.5</td>\n",
              "      <td>171.2</td>\n",
              "      <td>65.5</td>\n",
              "      <td>52.4</td>\n",
              "      <td>2823.0</td>\n",
              "      <td>152.0</td>\n",
              "      <td>2.68</td>\n",
              "      <td>3.47</td>\n",
              "      <td>...</td>\n",
              "      <td>0</td>\n",
              "      <td>0</td>\n",
              "      <td>0</td>\n",
              "      <td>0</td>\n",
              "      <td>0</td>\n",
              "      <td>0</td>\n",
              "      <td>0</td>\n",
              "      <td>1</td>\n",
              "      <td>0</td>\n",
              "      <td>0</td>\n",
              "    </tr>\n",
              "    <tr>\n",
              "      <th>3</th>\n",
              "      <td>2.0</td>\n",
              "      <td>164.0</td>\n",
              "      <td>99.8</td>\n",
              "      <td>176.6</td>\n",
              "      <td>66.2</td>\n",
              "      <td>54.3</td>\n",
              "      <td>2337.0</td>\n",
              "      <td>109.0</td>\n",
              "      <td>3.19</td>\n",
              "      <td>3.40</td>\n",
              "      <td>...</td>\n",
              "      <td>0</td>\n",
              "      <td>0</td>\n",
              "      <td>0</td>\n",
              "      <td>0</td>\n",
              "      <td>0</td>\n",
              "      <td>0</td>\n",
              "      <td>0</td>\n",
              "      <td>1</td>\n",
              "      <td>0</td>\n",
              "      <td>0</td>\n",
              "    </tr>\n",
              "    <tr>\n",
              "      <th>4</th>\n",
              "      <td>2.0</td>\n",
              "      <td>164.0</td>\n",
              "      <td>99.4</td>\n",
              "      <td>176.6</td>\n",
              "      <td>66.4</td>\n",
              "      <td>54.3</td>\n",
              "      <td>2824.0</td>\n",
              "      <td>136.0</td>\n",
              "      <td>3.19</td>\n",
              "      <td>3.40</td>\n",
              "      <td>...</td>\n",
              "      <td>0</td>\n",
              "      <td>0</td>\n",
              "      <td>0</td>\n",
              "      <td>0</td>\n",
              "      <td>0</td>\n",
              "      <td>0</td>\n",
              "      <td>0</td>\n",
              "      <td>1</td>\n",
              "      <td>0</td>\n",
              "      <td>0</td>\n",
              "    </tr>\n",
              "  </tbody>\n",
              "</table>\n",
              "<p>5 rows × 66 columns</p>\n",
              "</div>"
            ],
            "text/plain": [
              "     0      1     9     10    11    12      13     16    18    19  ...  \\\n",
              "0  3.0  122.0  88.6  168.8  64.1  48.8  2548.0  130.0  3.47  2.68  ...   \n",
              "1  3.0  122.0  88.6  168.8  64.1  48.8  2548.0  130.0  3.47  2.68  ...   \n",
              "2  1.0  122.0  94.5  171.2  65.5  52.4  2823.0  152.0  2.68  3.47  ...   \n",
              "3  2.0  164.0  99.8  176.6  66.2  54.3  2337.0  109.0  3.19  3.40  ...   \n",
              "4  2.0  164.0  99.4  176.6  66.4  54.3  2824.0  136.0  3.19  3.40  ...   \n",
              "\n",
              "   15_three  15_twelve  15_two  17_2bbl  17_4bbl  17_idi  17_mfi  17_mpfi  \\\n",
              "0         0          0       0        0        0       0       0        1   \n",
              "1         0          0       0        0        0       0       0        1   \n",
              "2         0          0       0        0        0       0       0        1   \n",
              "3         0          0       0        0        0       0       0        1   \n",
              "4         0          0       0        0        0       0       0        1   \n",
              "\n",
              "   17_spdi  17_spfi  \n",
              "0        0        0  \n",
              "1        0        0  \n",
              "2        0        0  \n",
              "3        0        0  \n",
              "4        0        0  \n",
              "\n",
              "[5 rows x 66 columns]"
            ]
          },
          "execution_count": 4,
          "metadata": {},
          "output_type": "execute_result"
        }
      ],
      "source": [
        "X_dum = pd.get_dummies(X_no_mis, drop_first=True)\n",
        "print(f\"Data shape: {X_dum.shape}\")\n",
        "X_dum.head()"
      ]
    },
    {
      "cell_type": "markdown",
      "metadata": {
        "id": "IaZ_SxAP28kf"
      },
      "source": [
        "#### Отмасштабируем признаки MinMaxScaler'ом"
      ]
    },
    {
      "cell_type": "code",
      "execution_count": null,
      "metadata": {
        "ExecuteTime": {
          "end_time": "2023-03-01T13:28:19.751117Z",
          "start_time": "2023-03-01T13:28:19.662833Z"
        },
        "id": "jNymKr5D28kh",
        "outputId": "e4a69f82-095e-4374-a1aa-5e511b1d2185"
      },
      "outputs": [
        {
          "data": {
            "text/html": [
              "<div>\n",
              "<style scoped>\n",
              "    .dataframe tbody tr th:only-of-type {\n",
              "        vertical-align: middle;\n",
              "    }\n",
              "\n",
              "    .dataframe tbody tr th {\n",
              "        vertical-align: top;\n",
              "    }\n",
              "\n",
              "    .dataframe thead th {\n",
              "        text-align: right;\n",
              "    }\n",
              "</style>\n",
              "<table border=\"1\" class=\"dataframe\">\n",
              "  <thead>\n",
              "    <tr style=\"text-align: right;\">\n",
              "      <th></th>\n",
              "      <th>0</th>\n",
              "      <th>1</th>\n",
              "      <th>2</th>\n",
              "      <th>3</th>\n",
              "      <th>4</th>\n",
              "      <th>5</th>\n",
              "      <th>6</th>\n",
              "      <th>7</th>\n",
              "      <th>8</th>\n",
              "      <th>9</th>\n",
              "      <th>...</th>\n",
              "      <th>56</th>\n",
              "      <th>57</th>\n",
              "      <th>58</th>\n",
              "      <th>59</th>\n",
              "      <th>60</th>\n",
              "      <th>61</th>\n",
              "      <th>62</th>\n",
              "      <th>63</th>\n",
              "      <th>64</th>\n",
              "      <th>65</th>\n",
              "    </tr>\n",
              "  </thead>\n",
              "  <tbody>\n",
              "    <tr>\n",
              "      <th>0</th>\n",
              "      <td>1.0</td>\n",
              "      <td>0.298429</td>\n",
              "      <td>0.058309</td>\n",
              "      <td>0.413433</td>\n",
              "      <td>0.316667</td>\n",
              "      <td>0.083333</td>\n",
              "      <td>0.411171</td>\n",
              "      <td>0.260377</td>\n",
              "      <td>0.664286</td>\n",
              "      <td>0.290476</td>\n",
              "      <td>...</td>\n",
              "      <td>0.0</td>\n",
              "      <td>0.0</td>\n",
              "      <td>0.0</td>\n",
              "      <td>0.0</td>\n",
              "      <td>0.0</td>\n",
              "      <td>0.0</td>\n",
              "      <td>0.0</td>\n",
              "      <td>1.0</td>\n",
              "      <td>0.0</td>\n",
              "      <td>0.0</td>\n",
              "    </tr>\n",
              "    <tr>\n",
              "      <th>1</th>\n",
              "      <td>1.0</td>\n",
              "      <td>0.298429</td>\n",
              "      <td>0.058309</td>\n",
              "      <td>0.413433</td>\n",
              "      <td>0.316667</td>\n",
              "      <td>0.083333</td>\n",
              "      <td>0.411171</td>\n",
              "      <td>0.260377</td>\n",
              "      <td>0.664286</td>\n",
              "      <td>0.290476</td>\n",
              "      <td>...</td>\n",
              "      <td>0.0</td>\n",
              "      <td>0.0</td>\n",
              "      <td>0.0</td>\n",
              "      <td>0.0</td>\n",
              "      <td>0.0</td>\n",
              "      <td>0.0</td>\n",
              "      <td>0.0</td>\n",
              "      <td>1.0</td>\n",
              "      <td>0.0</td>\n",
              "      <td>0.0</td>\n",
              "    </tr>\n",
              "    <tr>\n",
              "      <th>2</th>\n",
              "      <td>0.6</td>\n",
              "      <td>0.298429</td>\n",
              "      <td>0.230321</td>\n",
              "      <td>0.449254</td>\n",
              "      <td>0.433333</td>\n",
              "      <td>0.383333</td>\n",
              "      <td>0.517843</td>\n",
              "      <td>0.343396</td>\n",
              "      <td>0.100000</td>\n",
              "      <td>0.666667</td>\n",
              "      <td>...</td>\n",
              "      <td>0.0</td>\n",
              "      <td>0.0</td>\n",
              "      <td>0.0</td>\n",
              "      <td>0.0</td>\n",
              "      <td>0.0</td>\n",
              "      <td>0.0</td>\n",
              "      <td>0.0</td>\n",
              "      <td>1.0</td>\n",
              "      <td>0.0</td>\n",
              "      <td>0.0</td>\n",
              "    </tr>\n",
              "    <tr>\n",
              "      <th>3</th>\n",
              "      <td>0.8</td>\n",
              "      <td>0.518325</td>\n",
              "      <td>0.384840</td>\n",
              "      <td>0.529851</td>\n",
              "      <td>0.491667</td>\n",
              "      <td>0.541667</td>\n",
              "      <td>0.329325</td>\n",
              "      <td>0.181132</td>\n",
              "      <td>0.464286</td>\n",
              "      <td>0.633333</td>\n",
              "      <td>...</td>\n",
              "      <td>0.0</td>\n",
              "      <td>0.0</td>\n",
              "      <td>0.0</td>\n",
              "      <td>0.0</td>\n",
              "      <td>0.0</td>\n",
              "      <td>0.0</td>\n",
              "      <td>0.0</td>\n",
              "      <td>1.0</td>\n",
              "      <td>0.0</td>\n",
              "      <td>0.0</td>\n",
              "    </tr>\n",
              "    <tr>\n",
              "      <th>4</th>\n",
              "      <td>0.8</td>\n",
              "      <td>0.518325</td>\n",
              "      <td>0.373178</td>\n",
              "      <td>0.529851</td>\n",
              "      <td>0.508333</td>\n",
              "      <td>0.541667</td>\n",
              "      <td>0.518231</td>\n",
              "      <td>0.283019</td>\n",
              "      <td>0.464286</td>\n",
              "      <td>0.633333</td>\n",
              "      <td>...</td>\n",
              "      <td>0.0</td>\n",
              "      <td>0.0</td>\n",
              "      <td>0.0</td>\n",
              "      <td>0.0</td>\n",
              "      <td>0.0</td>\n",
              "      <td>0.0</td>\n",
              "      <td>0.0</td>\n",
              "      <td>1.0</td>\n",
              "      <td>0.0</td>\n",
              "      <td>0.0</td>\n",
              "    </tr>\n",
              "  </tbody>\n",
              "</table>\n",
              "<p>5 rows × 66 columns</p>\n",
              "</div>"
            ],
            "text/plain": [
              "    0         1         2         3         4         5         6         7   \\\n",
              "0  1.0  0.298429  0.058309  0.413433  0.316667  0.083333  0.411171  0.260377   \n",
              "1  1.0  0.298429  0.058309  0.413433  0.316667  0.083333  0.411171  0.260377   \n",
              "2  0.6  0.298429  0.230321  0.449254  0.433333  0.383333  0.517843  0.343396   \n",
              "3  0.8  0.518325  0.384840  0.529851  0.491667  0.541667  0.329325  0.181132   \n",
              "4  0.8  0.518325  0.373178  0.529851  0.508333  0.541667  0.518231  0.283019   \n",
              "\n",
              "         8         9   ...   56   57   58   59   60   61   62   63   64   65  \n",
              "0  0.664286  0.290476  ...  0.0  0.0  0.0  0.0  0.0  0.0  0.0  1.0  0.0  0.0  \n",
              "1  0.664286  0.290476  ...  0.0  0.0  0.0  0.0  0.0  0.0  0.0  1.0  0.0  0.0  \n",
              "2  0.100000  0.666667  ...  0.0  0.0  0.0  0.0  0.0  0.0  0.0  1.0  0.0  0.0  \n",
              "3  0.464286  0.633333  ...  0.0  0.0  0.0  0.0  0.0  0.0  0.0  1.0  0.0  0.0  \n",
              "4  0.464286  0.633333  ...  0.0  0.0  0.0  0.0  0.0  0.0  0.0  1.0  0.0  0.0  \n",
              "\n",
              "[5 rows x 66 columns]"
            ]
          },
          "execution_count": 5,
          "metadata": {},
          "output_type": "execute_result"
        }
      ],
      "source": [
        "normalizer = MinMaxScaler()\n",
        "X_real_norm_np = normalizer.fit_transform(X_dum)\n",
        "X = pd.DataFrame(data=X_real_norm_np)\n",
        "X.head()"
      ]
    },
    {
      "cell_type": "markdown",
      "metadata": {
        "id": "dbwg7jRv28kn"
      },
      "source": [
        "#### Сгенерируем новые признаки\n",
        "Особенно важным моментом для линейной регрессии является нелинейное преобразование признаков. Это позволяет использовать линейную регрессию для моделирования нелинейных зависимостей.\n",
        "\n",
        "Наиболее популярны такие преобразования:\n",
        "- добавление полиномиальных признаков (`PolynomialFeatures` в sklearn)\n",
        "- взятие логарифма признака\n",
        "- взятие квадратного корня\n",
        "- применение тригонометрических функций\n",
        "\n",
        "Делать добавление признаков нужно с умом: большое количество полиномиальных и прочих новых признаков может сильно раздуть размер таблицы с данными, что может негативно сказаться на скорости и качестве моделирования.\n",
        "\n",
        "Небольшой пример. Посмотрев на наши данные, мы можем заметить, что зависимость целевой переменной от шестого признака скорее квадратичная, чем линейная:"
      ]
    },
    {
      "cell_type": "code",
      "execution_count": null,
      "metadata": {
        "ExecuteTime": {
          "end_time": "2023-03-01T13:28:20.019803Z",
          "start_time": "2023-03-01T13:28:19.691057Z"
        },
        "colab": {
          "base_uri": "https://localhost:8080/",
          "height": 282
        },
        "id": "Bv0qZAP028kr",
        "outputId": "c1fbdef3-0154-4870-d258-1b46177dc96d"
      },
      "outputs": [
        {
          "data": {
            "image/png": "[encoded data removed]",
            "text/plain": [
              "<Figure size 864x576 with 1 Axes>"
            ]
          },
          "metadata": {
            "needs_background": "light"
          },
          "output_type": "display_data"
        }
      ],
      "source": [
        "plt.scatter(X[6], y)\n",
        "plt.show();"
      ]
    },
    {
      "cell_type": "code",
      "execution_count": null,
      "metadata": {
        "ExecuteTime": {
          "end_time": "2023-03-01T13:28:20.046235Z",
          "start_time": "2023-03-01T13:28:19.871417Z"
        },
        "colab": {
          "base_uri": "https://localhost:8080/",
          "height": 282
        },
        "id": "In7bi4a728ku",
        "outputId": "d01a472e-d0e9-446a-f011-2944ef6fdb65"
      },
      "outputs": [
        {
          "data": {
            "image/png": "[encoded data removed]",
            "text/plain": [
              "<Figure size 864x576 with 1 Axes>"
            ]
          },
          "metadata": {
            "needs_background": "light"
          },
          "output_type": "display_data"
        }
      ],
      "source": [
        "plt.scatter(X[6] ** 2, y)\n",
        "plt.show();"
      ]
    },
    {
      "cell_type": "markdown",
      "metadata": {
        "id": "3LLqJaxF28kw"
      },
      "source": [
        "А для признака номер 13 линеаризовать зависимость получается с помощью функции $\\frac 1 {\\sqrt{x}}$:"
      ]
    },
    {
      "cell_type": "code",
      "execution_count": null,
      "metadata": {
        "ExecuteTime": {
          "end_time": "2023-03-01T13:28:20.212335Z",
          "start_time": "2023-03-01T13:28:20.043706Z"
        },
        "colab": {
          "base_uri": "https://localhost:8080/",
          "height": 282
        },
        "id": "Ff2MqK_U28kx",
        "outputId": "ca370ede-de10-4c7c-f0cb-5fdf1a7717c9"
      },
      "outputs": [
        {
          "data": {
            "image/png": "[encoded data removed]",
            "text/plain": [
              "<Figure size 864x576 with 1 Axes>"
            ]
          },
          "metadata": {
            "needs_background": "light"
          },
          "output_type": "display_data"
        }
      ],
      "source": [
        "plt.scatter(X[13], y)\n",
        "plt.show();"
      ]
    },
    {
      "cell_type": "code",
      "execution_count": null,
      "metadata": {
        "ExecuteTime": {
          "end_time": "2023-03-01T13:28:20.403012Z",
          "start_time": "2023-03-01T13:28:20.219174Z"
        },
        "colab": {
          "base_uri": "https://localhost:8080/",
          "height": 282
        },
        "id": "6MhgQI3p28kz",
        "outputId": "444da03b-f69c-41f3-98d8-f96105777bc8"
      },
      "outputs": [
        {
          "data": {
            "image/png": "[encoded data removed]",
            "text/plain": [
              "<Figure size 864x576 with 1 Axes>"
            ]
          },
          "metadata": {
            "needs_background": "light"
          },
          "output_type": "display_data"
        }
      ],
      "source": [
        "plt.scatter(1 / np.sqrt(X[13]), y)\n",
        "plt.show();"
      ]
    },
    {
      "cell_type": "markdown",
      "metadata": {
        "id": "nPqAUdTR28k1"
      },
      "source": [
        "## 2. Имплементация и визуализация функций потерь для регрессии\n",
        "\n",
        "Функционал качества в задачах обучения с учителем обычно задается в виде суммы по объектам выборки:\n",
        "$$Q(a) = \\frac 1 \\ell \\sum_{i=1}^\\ell L(y_i, a(x_i)),$$\n",
        "где $L(\\cdot, \\cdot)$ - функция потерь, задающая штраф за разницу между предсказанием и истинным значением целевого признака. Свойства функции потерь:\n",
        "* $L(y_i, a(x_i)) \\geqslant 0$;\n",
        "* $L(y_i, y_i) = 0$.\n",
        "\n",
        "Функционал качества должен в первую очередь отвечать требованиям заказчика, при этом математические свойства функции потерь могут быть неудобны для оптимизации.\n",
        "\n",
        "__Пример:__ если мы не различаем маленькие ошибки (между 0.01 и 0.1 нет особой разницы), но зато не хотим получать большие ошибки, можно использовать следующую функцию потерь:\n",
        "\n",
        "$$L(y_i, a(x_i)) = [| y_i - a(x_i) | < \\varepsilon],$$ $\\varepsilon$ — допустимая разница между предсказанием и фактом.\n",
        "\n",
        "### MSE, RMSE, R2 score\n",
        "Кроме требований заказчика, функционал качества должен учитывать математические особенности модели, например, устойчивость к шумовым объектам.\n",
        "\n",
        "В линейной регрессии Mean Squared Error: $L(y_i, a(x_i)) = (a(x_i) - y_i)^2$ не обладает этим свойством, потому что задает очень большие штрафы за большие отклонения от фактического значения.\n",
        "\n",
        "$$MSE (a, X, Y) = \\sum^L_{i=1}(a(x_i) - y_i)^2$$\n",
        "\n",
        "Рассмотрим это явление на примере. Выберем один признак, от которого целевой признак (имеющий индекс 15 в матрице X) зависит практически линейно. Добавим к выборке два объекта-выброса и посмотрим, как изменится оптимизированная на MSE прямая.\n"
      ]
    },
    {
      "cell_type": "code",
      "execution_count": null,
      "metadata": {
        "ExecuteTime": {
          "end_time": "2023-03-01T13:28:20.408064Z",
          "start_time": "2023-03-01T13:28:20.406047Z"
        },
        "id": "JVmJjuUU28k7"
      },
      "outputs": [],
      "source": [
        "X_subset = X[[7, 15]].values\n",
        "X_subset_modified = np.vstack(\n",
        "    (X_subset, [[1, 90], [2, 50]])\n",
        ")  # добавление двух шумовых точек"
      ]
    },
    {
      "cell_type": "code",
      "execution_count": null,
      "metadata": {
        "ExecuteTime": {
          "end_time": "2023-03-01T13:28:20.414752Z",
          "start_time": "2023-03-01T13:28:20.413043Z"
        },
        "id": "jNZJOsJp28k9"
      },
      "outputs": [],
      "source": [
        "def scatter_points_and_plot_line_MSE(\n",
        "    X_subset: np.array, ax: matplotlib.axes._axes.Axes\n",
        ") -> None:\n",
        "    # визуализируем точки\n",
        "    ax.scatter(X_subset[:, 0], X_subset[:, 1])\n",
        "\n",
        "    # обучим линейную модель\n",
        "    lr = LinearRegression()\n",
        "    lr.fit(X_subset[:, 0][:, np.newaxis], X_subset[:, 1])\n",
        "\n",
        "    # визуализируем прямую\n",
        "    grid = np.linspace(0, 2, 100)\n",
        "    line = lr.predict(grid[:, np.newaxis])\n",
        "    ax.plot(grid, line)\n",
        "    ax.set_ylim(-20, 100)\n",
        "    ax.set_xlabel(\"x\")\n",
        "    ax.set_ylabel(\"y\")"
      ]
    },
    {
      "cell_type": "code",
      "execution_count": null,
      "metadata": {
        "ExecuteTime": {
          "end_time": "2023-03-01T13:28:20.750785Z",
          "start_time": "2023-03-01T13:28:20.419014Z"
        },
        "colab": {
          "base_uri": "https://localhost:8080/",
          "height": 285
        },
        "id": "EurNOGcA28k_",
        "outputId": "a0a4b098-838b-4f81-9796-b6fb5f1d80eb"
      },
      "outputs": [
        {
          "data": {
            "image/png": "[encoded data removed]",
            "text/plain": [
              "<Figure size 1440x360 with 2 Axes>"
            ]
          },
          "metadata": {
            "needs_background": "light"
          },
          "output_type": "display_data"
        }
      ],
      "source": [
        "_, ax = plt.subplots(1, 2, figsize=(20, 5))\n",
        "ax[0].set_title(\"MSE without outliers\")\n",
        "scatter_points_and_plot_line_MSE(X_subset, ax[0])\n",
        "ax[1].set_title(\"MSE with outliers\")\n",
        "scatter_points_and_plot_line_MSE(X_subset_modified, ax[1])\n",
        "plt.show();"
      ]
    },
    {
      "cell_type": "markdown",
      "metadata": {
        "id": "-6JR5Gxq8ZcZ"
      },
      "source": [
        "**Задание.** Реализуйте функцию для подсчета MSE с использованием numpy."
      ]
    },
    {
      "cell_type": "code",
      "execution_count": null,
      "metadata": {
        "ExecuteTime": {
          "end_time": "2023-03-01T13:28:20.756022Z",
          "start_time": "2023-03-01T13:28:20.752982Z"
        },
        "colab": {
          "base_uri": "https://localhost:8080/"
        },
        "id": "G1mp3T5y844J",
        "outputId": "8bec51dd-6f89-4b1a-9653-9964ca0e4c34"
      },
      "outputs": [
        {
          "name": "stdout",
          "output_type": "stream",
          "text": [
            "Mean Square Error is: 1.45\n"
          ]
        }
      ],
      "source": [
        "def MSE(y: np.array, y_pred: np.array) -> np.float64:\n",
        "    # <YOUR CODE HERE>\n",
        "    return ((y - y_pred) ** 2).mean()\n",
        "\n",
        "\n",
        "a = np.array([11, 20, 19, 17, 10])\n",
        "pred = np.array([12, 18, 19.5, 18, 9])\n",
        "mse = MSE(y=a, y_pred=pred)\n",
        "print(f\"Mean Square Error is: {mse}\")\n",
        "assert mse == 1.45"
      ]
    },
    {
      "cell_type": "markdown",
      "metadata": {
        "id": "LoNn7V3VAxH7"
      },
      "source": [
        "Среднеквадратичная ошибка подходит для сравнения двух моделей или для контроля качества во время обучения. Из-за того, разница возводится в квадрат, сложно дать этому числу интерпретацию. Для лучшей интерпретации используется Root Mean Square Error (RMSE): её значение имеет те же масштабы, что и целевая переменная.\n",
        "\n",
        "$$RMSE (a, X, Y) = \\sqrt{MSE (a, X)} = \\sqrt{ \\sum^L_{i=1}(a(x_i) - y_i)^2}$$\n",
        "\n",
        "**Задание.** Реализуйте функцию для подсчета RMSE с использованием numpy."
      ]
    },
    {
      "cell_type": "code",
      "execution_count": null,
      "metadata": {
        "ExecuteTime": {
          "end_time": "2023-03-01T13:28:20.764523Z",
          "start_time": "2023-03-01T13:28:20.760760Z"
        },
        "colab": {
          "base_uri": "https://localhost:8080/"
        },
        "id": "IowhU6p1Cj47",
        "outputId": "4c63cf61-4097-4488-f889-8a8c8eb777c6"
      },
      "outputs": [
        {
          "name": "stdout",
          "output_type": "stream",
          "text": [
            "Root Mean Square Error is: 1.2041594578792296\n"
          ]
        }
      ],
      "source": [
        "def RMSE(y: np.array, y_pred: np.array) -> np.float64:\n",
        "    # <YOUR CODE HERE>\n",
        "    return np.sqrt(MSE(y, y_pred))\n",
        "\n",
        "\n",
        "rmse = RMSE(y=a, y_pred=pred)\n",
        "print(f\"Root Mean Square Error is: {rmse}\")\n",
        "assert rmse == 1.2041594578792296"
      ]
    },
    {
      "cell_type": "markdown",
      "metadata": {
        "id": "P3eqYonVJd8a"
      },
      "source": [
        "Коэффициент детерминации $R^2$ показывает долю дисперсии в целевой переменной, которая объяснена зависимыми переменными. $R^2$ можно интерпретировать как некоторого рода нормированное MSE.\n",
        "\n",
        "$$R^2(a, X, Y) = 1 - \\frac {\\sum^L_{i=1}(a(x_i) - y_i)^2}{\\sum^L_{i=1}(y_i - \\bar{y})^2}$$\n",
        "\n",
        "- Если $R^2 < 0$, значит наша модель даёт предсказание хуже константы в виде среднего значения целевой переменной, то есть абсолютно бесполезна с точки зрения MSE.\n",
        "- Если $R^2 = 0$, значит мы предсказываем не лучше и не хуже константы в виде среднего значения целевой переменной.\n",
        "- Если $0 < R^2 < 1$, значит модель работает лучше константного предсказания с точки зрения MSE.\n",
        "- Если $R^2 = 1$, значит ошибка MSE равна нулю. Это может произойти, например, при полном переобучении на тренировочной части выборки.\n",
        "\n",
        "**Задание.** Реализуйте функцию для подсчета $R^2$ с использованием numpy."
      ]
    },
    {
      "cell_type": "code",
      "execution_count": null,
      "metadata": {
        "ExecuteTime": {
          "end_time": "2023-03-01T13:28:20.768631Z",
          "start_time": "2023-03-01T13:28:20.763858Z"
        },
        "id": "KK3o7GozLjkV",
        "outputId": "945b61fb-32bb-4bed-c4c5-98b9f8fff8e3"
      },
      "outputs": [
        {
          "name": "stdout",
          "output_type": "stream",
          "text": [
            "R2 score is: 0.914906103286385\n"
          ]
        }
      ],
      "source": [
        "def R_squared(y: np.array, y_pred: np.array) -> np.float64:\n",
        "    # <YOUR CODE HERE>\n",
        "    return 1 - MSE(y, y_pred) / MSE(y, y.mean())\n",
        "\n",
        "\n",
        "r_squared = R_squared(y=a, y_pred=pred)\n",
        "print(f\"R2 score is: {r_squared}\")"
      ]
    },
    {
      "cell_type": "markdown",
      "metadata": {
        "id": "oa7c8WRk28lC"
      },
      "source": [
        "### MAE\n",
        "Из-за того, что в MSE мы учитываем квадрат отклонения, шумовые объекты могут сильно изменить наклон прямой. Поэтому в качестве альтернативы MSE можно использовать Mean Absolute Error: $L(y_i, a(x_i)) = |a(x_i) - y_i|$.\n",
        "\n",
        "$$MAE(a, X, Y) = \\frac {1}{L} \\sum^L_{i=1}|a(x_i) - y_i|$$\n",
        "\n",
        "Теперь обучим регрессию, оптимизируя MAE. В `sklearn` такая регрессия не реализована, но можно использовать модуль `statsmodels`. Более формально, необходимая модель может быть получена с помощью обучения квантильной регрессии с параметром `q=0.5`.\n",
        "\n",
        "**Задание.** Реализуйте функцию для подсчета MAE с использованием numpy."
      ]
    },
    {
      "cell_type": "code",
      "execution_count": null,
      "metadata": {
        "ExecuteTime": {
          "end_time": "2023-03-01T13:28:20.874294Z",
          "start_time": "2023-03-01T13:28:20.771470Z"
        },
        "colab": {
          "base_uri": "https://localhost:8080/"
        },
        "id": "Eo-0TW82DzPw",
        "outputId": "f4e36fd7-9184-4ebb-e7f6-79e48d5c9124"
      },
      "outputs": [
        {
          "name": "stdout",
          "output_type": "stream",
          "text": [
            "Mean Absolute Error is: 1.1\n"
          ]
        }
      ],
      "source": [
        "def MAE(y: np.array, y_pred: np.array) -> np.float64:\n",
        "    # <YOUR CODE HERE>\n",
        "    return (np.abs(y - y_pred)).mean()\n",
        "\n",
        "\n",
        "mae = MAE(y=a, y_pred=pred)\n",
        "print(f\"Mean Absolute Error is: {mae}\")\n",
        "assert mae == 1.1"
      ]
    },
    {
      "cell_type": "code",
      "execution_count": null,
      "metadata": {
        "ExecuteTime": {
          "end_time": "2023-03-01T13:28:20.874731Z",
          "start_time": "2023-03-01T13:28:20.776113Z"
        },
        "id": "qoh8Msw006qS"
      },
      "outputs": [],
      "source": [
        "# !pip install git+https://github.com/statsmodels/statsmodels"
      ]
    },
    {
      "cell_type": "code",
      "execution_count": null,
      "metadata": {
        "ExecuteTime": {
          "end_time": "2023-03-01T13:28:20.890593Z",
          "start_time": "2023-03-01T13:28:20.780886Z"
        },
        "id": "PL2zqH8x28lD"
      },
      "outputs": [],
      "source": [
        "import statsmodels.formula.api as smf"
      ]
    },
    {
      "cell_type": "code",
      "execution_count": null,
      "metadata": {
        "ExecuteTime": {
          "end_time": "2023-03-01T13:28:20.891333Z",
          "start_time": "2023-03-01T13:28:20.882087Z"
        },
        "id": "BFTTYeqY28lF"
      },
      "outputs": [],
      "source": [
        "def scatter_points_and_plot_line_MAE(\n",
        "    X_subset: np.array, ax: matplotlib.axes._axes.Axes\n",
        ") -> None:\n",
        "    # визуализируем точки\n",
        "    ax.scatter(X_subset[:, 0], X_subset[:, 1])\n",
        "\n",
        "    # задаем зависимость переменной f15 от переменной f7 и передаем данные\n",
        "    mod = smf.quantreg(\"f15 ~ f7\", pd.DataFrame(data=X_subset, columns=[\"f7\", \"f15\"]))\n",
        "    res = mod.fit(q=0.5)\n",
        "\n",
        "    # визуализируем прямую\n",
        "    grid = np.linspace(0, 2, 100)\n",
        "    line = grid * res.params[\"f7\"] + res.params[\"Intercept\"]\n",
        "    ax.plot(grid, line)\n",
        "    ax.set_ylim(-20, 100)\n",
        "    ax.set_xlabel(\"x\")\n",
        "    ax.set_ylabel(\"y\")"
      ]
    },
    {
      "cell_type": "code",
      "execution_count": null,
      "metadata": {
        "ExecuteTime": {
          "end_time": "2023-03-01T13:28:21.225984Z",
          "start_time": "2023-03-01T13:28:20.890976Z"
        },
        "colab": {
          "base_uri": "https://localhost:8080/",
          "height": 424
        },
        "id": "ie_4TNdc28lH",
        "outputId": "85bcab8b-0876-4f52-98a7-87dc18beecdd"
      },
      "outputs": [
        {
          "data": {
            "image/png": "[encoded data removed]",
            "text/plain": [
              "<Figure size 1440x360 with 2 Axes>"
            ]
          },
          "metadata": {
            "needs_background": "light"
          },
          "output_type": "display_data"
        }
      ],
      "source": [
        "_, ax = plt.subplots(1, 2, figsize=(20, 5))\n",
        "ax[0].set_title(\"MAE without outliers\")\n",
        "scatter_points_and_plot_line_MAE(X_subset, ax[0])\n",
        "ax[1].set_title(\"MAE with outliers\")\n",
        "scatter_points_and_plot_line_MAE(X_subset_modified, ax[1])\n",
        "plt.show();"
      ]
    },
    {
      "cell_type": "markdown",
      "metadata": {
        "id": "AWlsyGfu28lK"
      },
      "source": [
        "Прямая практически не изменила направление из-за выбросов! Попробуем добавить больше шумовых объектов."
      ]
    },
    {
      "cell_type": "code",
      "execution_count": null,
      "metadata": {
        "ExecuteTime": {
          "end_time": "2023-03-01T13:28:21.229916Z",
          "start_time": "2023-03-01T13:28:21.227425Z"
        },
        "id": "RdDGJBER28lM"
      },
      "outputs": [],
      "source": [
        "np.random.seed(13)\n",
        "X_subset_modified_twice = np.vstack(\n",
        "    (X_subset_modified, np.random.randint(5, size=60).reshape(-1, 2) * [1, 30])\n",
        ")"
      ]
    },
    {
      "cell_type": "code",
      "execution_count": null,
      "metadata": {
        "ExecuteTime": {
          "end_time": "2023-03-01T13:28:21.576038Z",
          "start_time": "2023-03-01T13:28:21.232487Z"
        },
        "colab": {
          "base_uri": "https://localhost:8080/",
          "height": 424
        },
        "id": "McWJOOlN28lO",
        "outputId": "c44d54b7-7cda-4650-cf53-257573a82815"
      },
      "outputs": [
        {
          "data": {
            "image/png": "[encoded data removed]",
            "text/plain": [
              "<Figure size 1440x360 with 2 Axes>"
            ]
          },
          "metadata": {
            "needs_background": "light"
          },
          "output_type": "display_data"
        }
      ],
      "source": [
        "_, ax = plt.subplots(1, 2, figsize=(20, 5))\n",
        "ax[0].set_title(\"MAE without outliers\")\n",
        "scatter_points_and_plot_line_MAE(X_subset_modified_twice, ax[0])\n",
        "ax[1].set_title(\"MAE with outliers\")\n",
        "scatter_points_and_plot_line_MAE(X_subset_modified_twice, ax[1])\n",
        "plt.show();"
      ]
    },
    {
      "cell_type": "markdown",
      "metadata": {
        "id": "sCq7zu_K28lQ"
      },
      "source": [
        "Под таким количеством выбросов, изменилась даже регрессия над MAE."
      ]
    },
    {
      "cell_type": "markdown",
      "metadata": {
        "id": "-PMB5CGj28lR"
      },
      "source": [
        "#### Оптимальные константы для MSE и MAE\n",
        "\n",
        "Допустим алгоритм возвращает константное предсказание: $a(x) = C, C \\in R$. В качестве примера такого алгоритма можно представить предсказание прибыли в январе константой, равной средней прибыли за январь всех предыдущих лет работы.\n",
        "\n",
        "**Задание.** Найдите $C$, минимизирующий среднеквадратичную ошибку.\n",
        "\n",
        "**Решение.** Нам необходимо найти константу C, минимизирующую функцию $\\frac{1}{n} \\sum_{i}^{n} (C - y_i)^2$. Для этого возьмём производную этой функции и приравняем её к нулю. Константы сразу можно сократить: $\\sum_{i}^{n} (C - y_i) = 0$. Преобразуем это выражение и выпишем ответ: $C = \\frac{\\sum_{i}^{n} y_i}{n}$. То есть оптимальная константа — среднее значение целевой переменной.\n",
        "\n",
        "**Задание.** Найдите $C$, минимизирующий среднюю абсолютную ошибку.\n",
        "TBD"
      ]
    },
    {
      "cell_type": "markdown",
      "metadata": {
        "id": "aMkNLdXE28lS"
      },
      "source": [
        "### Huber Loss\n",
        "Иногда используют \"гибрид\" MAE и MSE, который, как и MAE, устойчив к шумовым объектам, и, как и MSE, мало штрафует малые отклонения от фактического значения целевого признака. Этот гибрид называется Huber Loss:\n",
        "\n",
        "$$L_i(y_i, a(x_i)) = \\phi_\\varepsilon(a(x_i) - y_i)$$\n",
        "$$\\phi_\\varepsilon(z) = \\begin{cases} \\frac 1 2 z^2, - \\varepsilon < z < \\varepsilon, \\\\\\varepsilon (|z| - \\frac 1 2 \\varepsilon), иначе \\\\ \\end{cases}$$\n",
        "\n",
        "Можно проверить, что у этой функции существует непрерывная первая производная во всех точках.\n",
        "\n",
        "Оптимизация Huber Loss реализована в sklearn.\n",
        "\n",
        "**Задание.** Реализуйте функцию для подсчета Huber Loss с использованием numpy."
      ]
    },
    {
      "cell_type": "code",
      "execution_count": null,
      "metadata": {
        "ExecuteTime": {
          "end_time": "2023-03-01T13:28:21.582585Z",
          "start_time": "2023-03-01T13:28:21.579751Z"
        },
        "colab": {
          "base_uri": "https://localhost:8080/"
        },
        "id": "SyTaEVslFGb5",
        "outputId": "9223c84d-8e2a-438e-c0bd-35aa797dd8e7"
      },
      "outputs": [
        {
          "name": "stdout",
          "output_type": "stream",
          "text": [
            "Huber Loss is: 0.2\n"
          ]
        }
      ],
      "source": [
        "def Huber(y: np.array, y_pred: np.array, eps: float = 1) -> np.float64:\n",
        "    # <YOUR CODE HERE>\n",
        "    diff = y - y_pred\n",
        "    result = np.zeros_like(y)\n",
        "    mask = (diff < eps) & (diff > -eps)\n",
        "    result[mask] = diff[mask] ** 2 / 2\n",
        "    result[~mask] = eps * (np.abs(diff[~mask]) - 1 / 2 * eps)\n",
        "    return result.mean()\n",
        "\n",
        "\n",
        "huber = Huber(y=a, y_pred=pred, eps=1)\n",
        "print(\"Huber Loss is:\", huber)"
      ]
    },
    {
      "cell_type": "markdown",
      "metadata": {
        "id": "00WIecdEGqE7"
      },
      "source": [
        "### Mean Squared Logarithmic Error (MSLE)\n",
        "\n",
        "Эта функция потерь применяется в случаях, когда лучше получать заниженные прогнозы, нежели завышенные. Ещё она полезна, когда нас больше интересует правильно попасть в порядок целевой переменной, чем в её конкретное значение. Обратите внимание, что из-за присутствия логарифма в формуле **целевая переменная должна быть неотрицательной**. Единицу добавляем, чтобы случайно не получить логарифм нуля.\n",
        "\n",
        "$$L_i(a, X_i, Y_i) = (\\log(a(x_i)+1) - \\log(y_i+1))^2$$"
      ]
    },
    {
      "cell_type": "markdown",
      "metadata": {
        "id": "uDbvxTRyHyRB"
      },
      "source": [
        "**Задание.** Реализуйте функцию для подсчета MSLE с использованием numpy."
      ]
    },
    {
      "cell_type": "code",
      "execution_count": null,
      "metadata": {
        "ExecuteTime": {
          "end_time": "2023-03-01T13:28:21.587281Z",
          "start_time": "2023-03-01T13:28:21.584552Z"
        },
        "id": "nzpzqKvLINLo",
        "outputId": "fb2d4b8d-bf0d-4865-c399-4c16eeeb01b2"
      },
      "outputs": [
        {
          "name": "stdout",
          "output_type": "stream",
          "text": [
            "Mean Squared Logarifmic Error is: 0.005808110727039668\n"
          ]
        }
      ],
      "source": [
        "def MSLE(y: np.array, y_pred: np.array) -> np.float64:\n",
        "    # <YOUR CODE HERE>\n",
        "    return ((np.log(y + 1) - np.log(y_pred + 1)) ** 2).mean()\n",
        "\n",
        "\n",
        "msle = MSLE(y=a, y_pred=pred)\n",
        "print(f\"Mean Squared Logarifmic Error is: {msle}\")"
      ]
    },
    {
      "cell_type": "markdown",
      "metadata": {
        "id": "u5Yy3Ze228lV"
      },
      "source": [
        "### Quantile Loss\n",
        "В некоторых задачах штраф за ошибку зависит не только от величины абсолютного отклонения от фактического значения, но и от знака этого отклонения. Например, лучше предсказать спрос больше, чем будет по факту, чем меньше, потому что во втором случае будет потеряна прибыль. В этом случае используется квантильная регрессия со следующей функцией потерь:\n",
        "$$L_i(y_i, a(x_i)) = \\rho_\\tau(y_i - x_i^T w),$$\n",
        "$$\\rho_\\tau(z) = \\begin{cases} \\tau z, \\quad z > 0, \\\\ (\\tau - 1) z, \\quad z \\leqslant 0 \\end{cases}$$\n",
        "Параметр $\\tau \\in (0, 1)$ влияет на то, насколько различаются штрафы за положительную и отрицательную разницу.\n",
        "\n",
        "Изобразим график квантильной функции потерь вместе с некоторыми другими рассмотренными:"
      ]
    },
    {
      "cell_type": "code",
      "execution_count": null,
      "metadata": {
        "ExecuteTime": {
          "end_time": "2023-03-01T13:28:22.038131Z",
          "start_time": "2023-03-01T13:28:21.592897Z"
        },
        "colab": {
          "base_uri": "https://localhost:8080/",
          "height": 300
        },
        "id": "LZvF9yTL28lW",
        "outputId": "124dc493-7f6c-486d-9adf-2379c3d2ef6e"
      },
      "outputs": [
        {
          "data": {
            "image/png": "[encoded data removed]",
            "text/plain": [
              "<Figure size 864x576 with 1 Axes>"
            ]
          },
          "metadata": {
            "needs_background": "light"
          },
          "output_type": "display_data"
        }
      ],
      "source": [
        "grid = np.linspace(-3, 3, 100)\n",
        "quantile_tau = 0.2\n",
        "mse_loss = grid**2\n",
        "rmse_loss = np.sqrt(mse_loss)\n",
        "mae_loss = np.abs(grid)\n",
        "huber_loss = (\n",
        "    0.5 * mse_loss * (grid >= -1) * (grid <= 1)\n",
        "    + (mae_loss - 0.5) * (grid < -1)\n",
        "    + (mae_loss - 0.5) * (grid > 1)\n",
        ")\n",
        "quantile_loss = quantile_tau * grid * (grid > 0) + (quantile_tau - 1) * grid * (\n",
        "    grid <= 0\n",
        ")\n",
        "plt.plot(grid, mae_loss, label=\"Absolute Loss\")\n",
        "plt.plot(grid, mse_loss, label=\"Quadratic Loss\")\n",
        "plt.plot(grid, rmse_loss, label=\"Root Quadratic Loss\")\n",
        "plt.plot(grid, huber_loss, label=\"Huber Loss\")\n",
        "plt.plot(grid, quantile_loss, label=\"Quantile Loss\")\n",
        "plt.xlabel(\"$y_i - a(x_i)$\", fontsize=14)\n",
        "plt.ylabel(\"$L(y_i, a(x_i))$\", fontsize=14)\n",
        "plt.title(\"Loss functions comparison\", fontsize=18)\n",
        "plt.legend()\n",
        "plt.show()"
      ]
    },
    {
      "cell_type": "markdown",
      "metadata": {
        "id": "K2jmXcciOl-K"
      },
      "source": [
        "## 3. Обучение линейных моделей и отбор признаков\n",
        "\n",
        "Мы поработаем с данными о сообществах в США. Будем предсказывать количество насильственных преступлений относительно численности населения.\n",
        "\n",
        "[Описание датасета](http://archive.ics.uci.edu/ml/datasets/communities+and+crime)\n",
        "[Датасет на кэггле](https://www.kaggle.com/kkanda/communities%20and%20crime%20unnormalized%20data%20set)"
      ]
    },
    {
      "cell_type": "code",
      "execution_count": 2,
      "metadata": {
        "ExecuteTime": {
          "end_time": "2023-03-01T13:28:22.042689Z",
          "start_time": "2023-03-01T13:28:22.037079Z"
        },
        "id": "f3lmXNVFOx0G"
      },
      "outputs": [],
      "source": [
        "from sklearn.linear_model import Lasso, Ridge\n",
        "from sklearn.metrics import mean_squared_error\n",
        "from sklearn.model_selection import GridSearchCV, train_test_split\n",
        "from sklearn.preprocessing import MinMaxScaler\n",
        "import pandas as pd"
      ]
    },
    {
      "cell_type": "code",
      "execution_count": 4,
      "metadata": {
        "ExecuteTime": {
          "end_time": "2023-03-01T13:28:22.134764Z",
          "start_time": "2023-03-01T13:28:22.046800Z"
        },
        "id": "PRft8CJyO1z8"
      },
      "outputs": [],
      "source": [
        "data = pd.read_csv(\"crimedata.csv\", na_values=[\"?\"], encoding='windows-1251')\n",
        "\n",
        "# оставим лишь нужные колонки\n",
        "requiredColumns = [5, 6] + list(range(11, 26)) + list(range(32, 103)) + [145]\n",
        "data = data[data.columns[requiredColumns]]\n",
        "\n",
        "# некоторые значения целевой переменной пропущены\n",
        "X = data.loc[data[\"ViolentCrimesPerPop\"].notnull(), :].drop(\n",
        "    \"ViolentCrimesPerPop\", axis=1\n",
        ")\n",
        "y = data[\"ViolentCrimesPerPop\"][X.index]\n",
        "\n",
        "X_train, X_test, y_train, y_test = train_test_split(X, y, random_state=0, test_size=0.2)"
      ]
    },
    {
      "cell_type": "code",
      "execution_count": 5,
      "metadata": {
        "colab": {
          "base_uri": "https://localhost:8080/",
          "height": 443
        },
        "id": "j_yzY0Ip4Cef",
        "outputId": "a566c7c5-b9d7-4201-b4ea-2e2e9bca569a"
      },
      "outputs": [
        {
          "data": {
            "text/html": [
              "<div>\n",
              "<style scoped>\n",
              "    .dataframe tbody tr th:only-of-type {\n",
              "        vertical-align: middle;\n",
              "    }\n",
              "\n",
              "    .dataframe tbody tr th {\n",
              "        vertical-align: top;\n",
              "    }\n",
              "\n",
              "    .dataframe thead th {\n",
              "        text-align: right;\n",
              "    }\n",
              "</style>\n",
              "<table border=\"1\" class=\"dataframe\">\n",
              "  <thead>\n",
              "    <tr style=\"text-align: right;\">\n",
              "      <th></th>\n",
              "      <th>population</th>\n",
              "      <th>householdsize</th>\n",
              "      <th>agePct12t21</th>\n",
              "      <th>agePct12t29</th>\n",
              "      <th>agePct16t24</th>\n",
              "      <th>agePct65up</th>\n",
              "      <th>numbUrban</th>\n",
              "      <th>pctUrban</th>\n",
              "      <th>medIncome</th>\n",
              "      <th>pctWWage</th>\n",
              "      <th>...</th>\n",
              "      <th>MedRentPctHousInc</th>\n",
              "      <th>MedOwnCostPctInc</th>\n",
              "      <th>MedOwnCostPctIncNoMtg</th>\n",
              "      <th>NumInShelters</th>\n",
              "      <th>NumStreet</th>\n",
              "      <th>PctForeignBorn</th>\n",
              "      <th>PctBornSameState</th>\n",
              "      <th>PctSameHouse85</th>\n",
              "      <th>PctSameCity85</th>\n",
              "      <th>PctSameState85</th>\n",
              "    </tr>\n",
              "  </thead>\n",
              "  <tbody>\n",
              "    <tr>\n",
              "      <th>0</th>\n",
              "      <td>11980</td>\n",
              "      <td>3.10</td>\n",
              "      <td>12.47</td>\n",
              "      <td>21.44</td>\n",
              "      <td>10.93</td>\n",
              "      <td>11.33</td>\n",
              "      <td>11980</td>\n",
              "      <td>100.00</td>\n",
              "      <td>75122</td>\n",
              "      <td>89.24</td>\n",
              "      <td>...</td>\n",
              "      <td>23.8</td>\n",
              "      <td>21.1</td>\n",
              "      <td>14.0</td>\n",
              "      <td>11</td>\n",
              "      <td>0</td>\n",
              "      <td>10.66</td>\n",
              "      <td>53.72</td>\n",
              "      <td>65.29</td>\n",
              "      <td>78.09</td>\n",
              "      <td>89.14</td>\n",
              "    </tr>\n",
              "    <tr>\n",
              "      <th>1</th>\n",
              "      <td>23123</td>\n",
              "      <td>2.82</td>\n",
              "      <td>11.01</td>\n",
              "      <td>21.30</td>\n",
              "      <td>10.48</td>\n",
              "      <td>17.18</td>\n",
              "      <td>23123</td>\n",
              "      <td>100.00</td>\n",
              "      <td>47917</td>\n",
              "      <td>78.99</td>\n",
              "      <td>...</td>\n",
              "      <td>27.6</td>\n",
              "      <td>20.7</td>\n",
              "      <td>12.5</td>\n",
              "      <td>0</td>\n",
              "      <td>0</td>\n",
              "      <td>8.30</td>\n",
              "      <td>77.17</td>\n",
              "      <td>71.27</td>\n",
              "      <td>90.22</td>\n",
              "      <td>96.12</td>\n",
              "    </tr>\n",
              "    <tr>\n",
              "      <th>2</th>\n",
              "      <td>29344</td>\n",
              "      <td>2.43</td>\n",
              "      <td>11.36</td>\n",
              "      <td>25.88</td>\n",
              "      <td>11.01</td>\n",
              "      <td>10.28</td>\n",
              "      <td>29344</td>\n",
              "      <td>100.00</td>\n",
              "      <td>35669</td>\n",
              "      <td>82.00</td>\n",
              "      <td>...</td>\n",
              "      <td>24.1</td>\n",
              "      <td>21.7</td>\n",
              "      <td>11.6</td>\n",
              "      <td>16</td>\n",
              "      <td>0</td>\n",
              "      <td>5.00</td>\n",
              "      <td>44.77</td>\n",
              "      <td>36.60</td>\n",
              "      <td>61.26</td>\n",
              "      <td>82.85</td>\n",
              "    </tr>\n",
              "    <tr>\n",
              "      <th>3</th>\n",
              "      <td>16656</td>\n",
              "      <td>2.40</td>\n",
              "      <td>12.55</td>\n",
              "      <td>25.20</td>\n",
              "      <td>12.19</td>\n",
              "      <td>17.57</td>\n",
              "      <td>0</td>\n",
              "      <td>0.00</td>\n",
              "      <td>20580</td>\n",
              "      <td>68.15</td>\n",
              "      <td>...</td>\n",
              "      <td>28.7</td>\n",
              "      <td>20.6</td>\n",
              "      <td>14.5</td>\n",
              "      <td>0</td>\n",
              "      <td>0</td>\n",
              "      <td>2.04</td>\n",
              "      <td>88.71</td>\n",
              "      <td>56.70</td>\n",
              "      <td>90.17</td>\n",
              "      <td>96.24</td>\n",
              "    </tr>\n",
              "    <tr>\n",
              "      <th>5</th>\n",
              "      <td>140494</td>\n",
              "      <td>2.45</td>\n",
              "      <td>18.09</td>\n",
              "      <td>32.89</td>\n",
              "      <td>20.04</td>\n",
              "      <td>13.26</td>\n",
              "      <td>140494</td>\n",
              "      <td>100.00</td>\n",
              "      <td>21577</td>\n",
              "      <td>75.78</td>\n",
              "      <td>...</td>\n",
              "      <td>26.4</td>\n",
              "      <td>17.3</td>\n",
              "      <td>11.7</td>\n",
              "      <td>327</td>\n",
              "      <td>4</td>\n",
              "      <td>1.49</td>\n",
              "      <td>64.35</td>\n",
              "      <td>42.29</td>\n",
              "      <td>70.61</td>\n",
              "      <td>85.66</td>\n",
              "    </tr>\n",
              "    <tr>\n",
              "      <th>...</th>\n",
              "      <td>...</td>\n",
              "      <td>...</td>\n",
              "      <td>...</td>\n",
              "      <td>...</td>\n",
              "      <td>...</td>\n",
              "      <td>...</td>\n",
              "      <td>...</td>\n",
              "      <td>...</td>\n",
              "      <td>...</td>\n",
              "      <td>...</td>\n",
              "      <td>...</td>\n",
              "      <td>...</td>\n",
              "      <td>...</td>\n",
              "      <td>...</td>\n",
              "      <td>...</td>\n",
              "      <td>...</td>\n",
              "      <td>...</td>\n",
              "      <td>...</td>\n",
              "      <td>...</td>\n",
              "      <td>...</td>\n",
              "      <td>...</td>\n",
              "    </tr>\n",
              "    <tr>\n",
              "      <th>2210</th>\n",
              "      <td>56216</td>\n",
              "      <td>3.07</td>\n",
              "      <td>15.46</td>\n",
              "      <td>30.16</td>\n",
              "      <td>14.34</td>\n",
              "      <td>8.08</td>\n",
              "      <td>56216</td>\n",
              "      <td>100.00</td>\n",
              "      <td>24727</td>\n",
              "      <td>75.05</td>\n",
              "      <td>...</td>\n",
              "      <td>29.8</td>\n",
              "      <td>22.6</td>\n",
              "      <td>11.7</td>\n",
              "      <td>64</td>\n",
              "      <td>0</td>\n",
              "      <td>18.90</td>\n",
              "      <td>52.67</td>\n",
              "      <td>39.19</td>\n",
              "      <td>74.58</td>\n",
              "      <td>85.88</td>\n",
              "    </tr>\n",
              "    <tr>\n",
              "      <th>2211</th>\n",
              "      <td>12251</td>\n",
              "      <td>2.68</td>\n",
              "      <td>17.36</td>\n",
              "      <td>31.23</td>\n",
              "      <td>16.97</td>\n",
              "      <td>12.57</td>\n",
              "      <td>12251</td>\n",
              "      <td>100.00</td>\n",
              "      <td>20321</td>\n",
              "      <td>75.06</td>\n",
              "      <td>...</td>\n",
              "      <td>23.8</td>\n",
              "      <td>17.3</td>\n",
              "      <td>14.4</td>\n",
              "      <td>0</td>\n",
              "      <td>0</td>\n",
              "      <td>2.24</td>\n",
              "      <td>75.16</td>\n",
              "      <td>49.12</td>\n",
              "      <td>78.79</td>\n",
              "      <td>92.85</td>\n",
              "    </tr>\n",
              "    <tr>\n",
              "      <th>2212</th>\n",
              "      <td>32824</td>\n",
              "      <td>2.46</td>\n",
              "      <td>11.81</td>\n",
              "      <td>20.96</td>\n",
              "      <td>9.53</td>\n",
              "      <td>20.73</td>\n",
              "      <td>32824</td>\n",
              "      <td>100.00</td>\n",
              "      <td>27182</td>\n",
              "      <td>59.79</td>\n",
              "      <td>...</td>\n",
              "      <td>30.5</td>\n",
              "      <td>23.9</td>\n",
              "      <td>13.1</td>\n",
              "      <td>44</td>\n",
              "      <td>0</td>\n",
              "      <td>7.35</td>\n",
              "      <td>48.66</td>\n",
              "      <td>46.73</td>\n",
              "      <td>75.54</td>\n",
              "      <td>92.30</td>\n",
              "    </tr>\n",
              "    <tr>\n",
              "      <th>2213</th>\n",
              "      <td>13547</td>\n",
              "      <td>2.89</td>\n",
              "      <td>17.16</td>\n",
              "      <td>30.01</td>\n",
              "      <td>14.73</td>\n",
              "      <td>10.42</td>\n",
              "      <td>0</td>\n",
              "      <td>0.00</td>\n",
              "      <td>19899</td>\n",
              "      <td>71.67</td>\n",
              "      <td>...</td>\n",
              "      <td>26.2</td>\n",
              "      <td>23.3</td>\n",
              "      <td>14.1</td>\n",
              "      <td>0</td>\n",
              "      <td>0</td>\n",
              "      <td>2.28</td>\n",
              "      <td>82.26</td>\n",
              "      <td>54.05</td>\n",
              "      <td>79.72</td>\n",
              "      <td>94.06</td>\n",
              "    </tr>\n",
              "    <tr>\n",
              "      <th>2214</th>\n",
              "      <td>28898</td>\n",
              "      <td>2.61</td>\n",
              "      <td>12.99</td>\n",
              "      <td>25.21</td>\n",
              "      <td>11.63</td>\n",
              "      <td>12.12</td>\n",
              "      <td>28664</td>\n",
              "      <td>99.19</td>\n",
              "      <td>23287</td>\n",
              "      <td>68.89</td>\n",
              "      <td>...</td>\n",
              "      <td>30.9</td>\n",
              "      <td>21.2</td>\n",
              "      <td>11.6</td>\n",
              "      <td>10</td>\n",
              "      <td>2</td>\n",
              "      <td>16.49</td>\n",
              "      <td>55.29</td>\n",
              "      <td>48.74</td>\n",
              "      <td>66.20</td>\n",
              "      <td>89.08</td>\n",
              "    </tr>\n",
              "  </tbody>\n",
              "</table>\n",
              "<p>1994 rows × 88 columns</p>\n",
              "</div>"
            ],
            "text/plain": [
              "      population  householdsize  agePct12t21  agePct12t29  agePct16t24  \\\n",
              "0          11980           3.10        12.47        21.44        10.93   \n",
              "1          23123           2.82        11.01        21.30        10.48   \n",
              "2          29344           2.43        11.36        25.88        11.01   \n",
              "3          16656           2.40        12.55        25.20        12.19   \n",
              "5         140494           2.45        18.09        32.89        20.04   \n",
              "...          ...            ...          ...          ...          ...   \n",
              "2210       56216           3.07        15.46        30.16        14.34   \n",
              "2211       12251           2.68        17.36        31.23        16.97   \n",
              "2212       32824           2.46        11.81        20.96         9.53   \n",
              "2213       13547           2.89        17.16        30.01        14.73   \n",
              "2214       28898           2.61        12.99        25.21        11.63   \n",
              "\n",
              "      agePct65up  numbUrban  pctUrban  medIncome  pctWWage  ...  \\\n",
              "0          11.33      11980    100.00      75122     89.24  ...   \n",
              "1          17.18      23123    100.00      47917     78.99  ...   \n",
              "2          10.28      29344    100.00      35669     82.00  ...   \n",
              "3          17.57          0      0.00      20580     68.15  ...   \n",
              "5          13.26     140494    100.00      21577     75.78  ...   \n",
              "...          ...        ...       ...        ...       ...  ...   \n",
              "2210        8.08      56216    100.00      24727     75.05  ...   \n",
              "2211       12.57      12251    100.00      20321     75.06  ...   \n",
              "2212       20.73      32824    100.00      27182     59.79  ...   \n",
              "2213       10.42          0      0.00      19899     71.67  ...   \n",
              "2214       12.12      28664     99.19      23287     68.89  ...   \n",
              "\n",
              "      MedRentPctHousInc  MedOwnCostPctInc  MedOwnCostPctIncNoMtg  \\\n",
              "0                  23.8              21.1                   14.0   \n",
              "1                  27.6              20.7                   12.5   \n",
              "2                  24.1              21.7                   11.6   \n",
              "3                  28.7              20.6                   14.5   \n",
              "5                  26.4              17.3                   11.7   \n",
              "...                 ...               ...                    ...   \n",
              "2210               29.8              22.6                   11.7   \n",
              "2211               23.8              17.3                   14.4   \n",
              "2212               30.5              23.9                   13.1   \n",
              "2213               26.2              23.3                   14.1   \n",
              "2214               30.9              21.2                   11.6   \n",
              "\n",
              "      NumInShelters  NumStreet  PctForeignBorn  PctBornSameState  \\\n",
              "0                11          0           10.66             53.72   \n",
              "1                 0          0            8.30             77.17   \n",
              "2                16          0            5.00             44.77   \n",
              "3                 0          0            2.04             88.71   \n",
              "5               327          4            1.49             64.35   \n",
              "...             ...        ...             ...               ...   \n",
              "2210             64          0           18.90             52.67   \n",
              "2211              0          0            2.24             75.16   \n",
              "2212             44          0            7.35             48.66   \n",
              "2213              0          0            2.28             82.26   \n",
              "2214             10          2           16.49             55.29   \n",
              "\n",
              "      PctSameHouse85  PctSameCity85  PctSameState85  \n",
              "0              65.29          78.09           89.14  \n",
              "1              71.27          90.22           96.12  \n",
              "2              36.60          61.26           82.85  \n",
              "3              56.70          90.17           96.24  \n",
              "5              42.29          70.61           85.66  \n",
              "...              ...            ...             ...  \n",
              "2210           39.19          74.58           85.88  \n",
              "2211           49.12          78.79           92.85  \n",
              "2212           46.73          75.54           92.30  \n",
              "2213           54.05          79.72           94.06  \n",
              "2214           48.74          66.20           89.08  \n",
              "\n",
              "[1994 rows x 88 columns]"
            ]
          },
          "execution_count": 5,
          "metadata": {},
          "output_type": "execute_result"
        }
      ],
      "source": [
        "X"
      ]
    },
    {
      "cell_type": "code",
      "execution_count": 6,
      "metadata": {
        "colab": {
          "base_uri": "https://localhost:8080/"
        },
        "id": "BZEoYd1M4bJc",
        "outputId": "52598f29-81d2-40f2-b64a-6efec1ef42b4"
      },
      "outputs": [
        {
          "data": {
            "text/plain": [
              "0        41.02\n",
              "1       127.56\n",
              "2       218.59\n",
              "3       306.64\n",
              "5       442.95\n",
              "         ...  \n",
              "2210    545.75\n",
              "2211    124.10\n",
              "2212    353.83\n",
              "2213    691.17\n",
              "2214    918.89\n",
              "Name: ViolentCrimesPerPop, Length: 1994, dtype: float64"
            ]
          },
          "execution_count": 6,
          "metadata": {},
          "output_type": "execute_result"
        }
      ],
      "source": [
        "y"
      ]
    },
    {
      "cell_type": "markdown",
      "metadata": {
        "id": "JCxXAdVtOiw4"
      },
      "source": [
        "### Baseline\n",
        "Обучим линейную регрессию и выведем качество по метрике MSE на обучающей и тестовой выборке."
      ]
    },
    {
      "cell_type": "code",
      "execution_count": 7,
      "metadata": {
        "ExecuteTime": {
          "end_time": "2023-03-01T13:28:22.135053Z",
          "start_time": "2023-03-01T13:28:22.085999Z"
        },
        "colab": {
          "base_uri": "https://localhost:8080/"
        },
        "id": "ntYfZTzkQRAC",
        "outputId": "ed17ef0b-925b-40fb-c3f8-2e9a7edef806"
      },
      "outputs": [
        {
          "name": "stdout",
          "output_type": "stream",
          "text": [
            "Train: 118390.69446924048\n",
            "Test: 229491.8526154825\n"
          ]
        }
      ],
      "source": [
        "lr = LinearRegression().fit(X_train, y_train)\n",
        "print(f\"Train: {mean_squared_error(y_train, lr.predict(X_train))}\")\n",
        "print(f\"Test: {mean_squared_error(y_test, lr.predict(X_test))}\")"
      ]
    },
    {
      "cell_type": "markdown",
      "metadata": {
        "id": "Jd44Omp9TtcU"
      },
      "source": [
        "Популярным решением для регрессионных моделей является **регуляризация**.\n",
        "\n",
        "Во время оптимизации линейной регрессии, веса при переменных могут получиться большими в абсолютных значениях. Это не очень хорошо, поскольку классификатор будет чувствителен к крайне маленьким изменениям в признаках объекта, а значит, переобучен. Для решения проблемы к функционалу ошибки добавляют регуляризатор, который \"штрафует\" модель за слишком большую норму вектора весов:\n",
        "\n",
        "$$Q\\alpha(w) = Q(w) + \\alpha R(w)$$\n",
        "\n",
        "где $R(w)$ — регуляризатор\n",
        "\n",
        "Наиболее распространенными являются L1 и L2 регуляризаторы:\n",
        "$$L1: R(w) = ||w||_1 = \\sum^d_i w_i^2$$\n",
        "\n",
        "$$L2: R(w) = ||w||_2 = \\sum^d_i |w_i|$$\n",
        "\n",
        "Давайте применим каждый из них к нашей задаче и посмотрим на изменение в результатах.\n"
      ]
    },
    {
      "cell_type": "code",
      "execution_count": 8,
      "metadata": {
        "ExecuteTime": {
          "end_time": "2023-03-01T13:28:22.246669Z",
          "start_time": "2023-03-01T13:28:22.109115Z"
        },
        "colab": {
          "base_uri": "https://localhost:8080/"
        },
        "id": "RT8QZldbPqFr",
        "outputId": "5c7ecd08-3050-448a-d12c-f0683992db5e"
      },
      "outputs": [
        {
          "name": "stdout",
          "output_type": "stream",
          "text": [
            "Lasso\n",
            "Train: 120759.04247413314\n",
            "Test: 234547.34217759452\n",
            "\n",
            "Ridge\n",
            "Train: 118756.91752916541\n",
            "Test: 230027.2784349967\n"
          ]
        }
      ],
      "source": [
        "lasso = Lasso(5.0).fit(X_train, y_train)\n",
        "print(\"Lasso\")\n",
        "print(f\"Train: {mean_squared_error(y_train, lasso.predict(X_train))}\")\n",
        "print(f\"Test: {mean_squared_error(y_test, lasso.predict(X_test))}\")\n",
        "\n",
        "ridge = Ridge(5.0).fit(X_train, y_train)\n",
        "print(\"\\nRidge\")\n",
        "print(f\"Train: {mean_squared_error(y_train, ridge.predict(X_train))}\")\n",
        "print(f\"Test: {mean_squared_error(y_test, ridge.predict(X_test))}\")"
      ]
    },
    {
      "cell_type": "markdown",
      "metadata": {
        "id": "tzcwQ0T5QkRJ"
      },
      "source": [
        "### Scaling\n",
        "Попробуем MinMaxScaler."
      ]
    },
    {
      "cell_type": "code",
      "execution_count": 9,
      "metadata": {
        "ExecuteTime": {
          "end_time": "2023-03-01T13:28:22.246880Z",
          "start_time": "2023-03-01T13:28:22.224569Z"
        },
        "id": "zedtNiBBQhOl"
      },
      "outputs": [],
      "source": [
        "sc = MinMaxScaler()\n",
        "X_train_scaled = pd.DataFrame(data=sc.fit_transform(X_train), columns=X_train.columns)\n",
        "X_test_scaled = pd.DataFrame(data=sc.transform(X_test), columns=X_test.columns)"
      ]
    },
    {
      "cell_type": "markdown",
      "metadata": {
        "id": "qrldySniQ6jR"
      },
      "source": [
        "**Задание.** Напишите код обучения линейной регрессии на масштабированных признаках и выведите ошибку на обучающей и тестовой выборках."
      ]
    },
    {
      "cell_type": "code",
      "execution_count": 10,
      "metadata": {
        "ExecuteTime": {
          "end_time": "2023-03-01T13:28:22.327050Z",
          "start_time": "2023-03-01T13:28:22.239547Z"
        },
        "colab": {
          "base_uri": "https://localhost:8080/"
        },
        "id": "PyoESXkkRQA1",
        "outputId": "9ebf6b98-fbd5-41ea-83a1-03615327e648"
      },
      "outputs": [
        {
          "name": "stdout",
          "output_type": "stream",
          "text": [
            "Train: 118448.22464043887\n",
            "Test: 227463.437154386\n"
          ]
        }
      ],
      "source": [
        "# <YOUR CODE HERE>\n",
        "lr = LinearRegression().fit(X_train_scaled, y_train)\n",
        "print(f\"Train: {mean_squared_error(y_train, lr.predict(X_train_scaled))}\")\n",
        "print(f\"Test: {mean_squared_error(y_test, lr.predict(X_test_scaled))}\")"
      ]
    },
    {
      "cell_type": "markdown",
      "metadata": {
        "id": "HkbwYrUdRSYR"
      },
      "source": [
        "**Задание:** проделайте аналогичную работу, добавив Ridge регуляризацию"
      ]
    },
    {
      "cell_type": "code",
      "execution_count": 11,
      "metadata": {
        "ExecuteTime": {
          "end_time": "2023-03-01T13:28:22.328526Z",
          "start_time": "2023-03-01T13:28:22.257103Z"
        },
        "colab": {
          "base_uri": "https://localhost:8080/"
        },
        "id": "YDELVx5FRh1F",
        "outputId": "d49f5a9f-bf29-4d7d-dd01-9d565a2e84b8"
      },
      "outputs": [
        {
          "name": "stdout",
          "output_type": "stream",
          "text": [
            "Train: 142777.42275110827\n",
            "Test: 181443.25253961014\n"
          ]
        }
      ],
      "source": [
        "# <YOUR CODE HERE>\n",
        "lr = Ridge(30.0).fit(X_train_scaled, y_train)\n",
        "print(f\"Train: {mean_squared_error(y_train, lr.predict(X_train_scaled))}\")\n",
        "print(f\"Test: {mean_squared_error(y_test, lr.predict(X_test_scaled))}\")"
      ]
    },
    {
      "cell_type": "markdown",
      "metadata": {
        "id": "mK7GsUVORnbG"
      },
      "source": [
        "### Отбор признаков на основе дисперсии\n",
        "\n",
        "Полезны ли признаки, имеющие высокую дисперсию? А низкую?"
      ]
    },
    {
      "cell_type": "code",
      "execution_count": 12,
      "metadata": {
        "ExecuteTime": {
          "end_time": "2023-03-01T13:28:22.329015Z",
          "start_time": "2023-03-01T13:28:22.275897Z"
        },
        "colab": {
          "base_uri": "https://localhost:8080/"
        },
        "id": "sDlYyvBsRnwb",
        "outputId": "a11990c2-c4c6-4931-ac01-7bb1523d7b97"
      },
      "outputs": [
        {
          "data": {
            "text/plain": [
              "pctUrban          0.198050\n",
              "RentHighQ         0.062216\n",
              "MedYrHousBuilt    0.054286\n",
              "OwnOccHiQuart     0.047559\n",
              "MedRent           0.046091\n",
              "dtype: float64"
            ]
          },
          "execution_count": 12,
          "metadata": {},
          "output_type": "execute_result"
        }
      ],
      "source": [
        "features_variance = X_train_scaled.var().sort_values(ascending=False)\n",
        "features_variance.head()"
      ]
    },
    {
      "cell_type": "markdown",
      "metadata": {
        "id": "qW04UvAbRyhG"
      },
      "source": [
        "Попробуем удалить признаки с самой низкой дисперсией и посмотреть, как изменится качество. В sklearn есть специальный инструмент для такого наивного отбора признаков. Стоит ли нормализовать перед этим признаки?"
      ]
    },
    {
      "cell_type": "code",
      "execution_count": 13,
      "metadata": {
        "ExecuteTime": {
          "end_time": "2023-03-01T13:28:22.329160Z",
          "start_time": "2023-03-01T13:28:22.287871Z"
        },
        "id": "hkUbvDoR06qe"
      },
      "outputs": [],
      "source": [
        "from sklearn.feature_selection import VarianceThreshold"
      ]
    },
    {
      "cell_type": "code",
      "execution_count": 14,
      "metadata": {
        "ExecuteTime": {
          "end_time": "2023-03-01T13:28:22.329418Z",
          "start_time": "2023-03-01T13:28:22.306165Z"
        },
        "colab": {
          "base_uri": "https://localhost:8080/"
        },
        "id": "StGlZfbeRsec",
        "outputId": "67b0212b-7cd5-4b43-957a-db9709cab281"
      },
      "outputs": [
        {
          "data": {
            "text/plain": [
              "(1595, 73)"
            ]
          },
          "execution_count": 14,
          "metadata": {},
          "output_type": "execute_result"
        }
      ],
      "source": [
        "# можно убрать все признаки, дисперсия которых меньше заданного значения\n",
        "vs_transformer = VarianceThreshold(0.01)\n",
        "\n",
        "X_train_var = pd.DataFrame(\n",
        "    data=vs_transformer.fit_transform(X_train_scaled),\n",
        "    columns=X_train_scaled.columns[vs_transformer.get_support()],\n",
        ")\n",
        "X_test_var = pd.DataFrame(\n",
        "    data=vs_transformer.transform(X_test_scaled),\n",
        "    columns=X_test_scaled.columns[vs_transformer.get_support()],\n",
        ")\n",
        "\n",
        "X_train_var.shape"
      ]
    },
    {
      "cell_type": "code",
      "execution_count": 15,
      "metadata": {
        "ExecuteTime": {
          "end_time": "2023-03-01T13:28:22.474516Z",
          "start_time": "2023-03-01T13:28:22.320589Z"
        },
        "colab": {
          "base_uri": "https://localhost:8080/"
        },
        "id": "z60-yCrwR2rG",
        "outputId": "fce37e3a-2e4e-4b81-c377-a75f688ed8cd"
      },
      "outputs": [
        {
          "name": "stdout",
          "output_type": "stream",
          "text": [
            "Train: 126315.27993981192\n",
            "Test: 157674.10736115288\n"
          ]
        }
      ],
      "source": [
        "lr = LinearRegression().fit(X_train_var, y_train)\n",
        "print(f\"Train: {mean_squared_error(y_train, lr.predict(X_train_var))}\")\n",
        "print(f\"Test: {mean_squared_error(y_test, lr.predict(X_test_var))}\")"
      ]
    },
    {
      "cell_type": "code",
      "execution_count": 16,
      "metadata": {
        "ExecuteTime": {
          "end_time": "2023-03-01T13:28:22.500978Z",
          "start_time": "2023-03-01T13:28:22.351687Z"
        },
        "colab": {
          "base_uri": "https://localhost:8080/"
        },
        "id": "LXlTH65eR5hs",
        "outputId": "50db982c-4ada-4208-c132-e6aee45b30e8"
      },
      "outputs": [
        {
          "name": "stdout",
          "output_type": "stream",
          "text": [
            "Train: 147730.31734906483\n",
            "Test: 181070.22489364573\n"
          ]
        }
      ],
      "source": [
        "ridge = Ridge(30.0).fit(X_train_var, y_train)\n",
        "print(f\"Train: {mean_squared_error(y_train, ridge.predict(X_train_var))}\")\n",
        "print(f\"Test: {mean_squared_error(y_test, ridge.predict(X_test_var))}\")"
      ]
    },
    {
      "cell_type": "markdown",
      "metadata": {
        "id": "X-tIhMytR9KO"
      },
      "source": [
        "### Отбор признаков на основе корреляции с целевой переменной\n",
        "Можно выбрать k признаков, которые дают наиболее высокие значения корреляции с целевой переменной."
      ]
    },
    {
      "cell_type": "code",
      "execution_count": 17,
      "metadata": {
        "ExecuteTime": {
          "end_time": "2023-03-01T13:28:22.501271Z",
          "start_time": "2023-03-01T13:28:22.361419Z"
        },
        "id": "hAlQzhJH06qf"
      },
      "outputs": [],
      "source": [
        "from sklearn.feature_selection import SelectKBest, f_regression"
      ]
    },
    {
      "cell_type": "code",
      "execution_count": 18,
      "metadata": {
        "ExecuteTime": {
          "end_time": "2023-03-01T13:28:22.501897Z",
          "start_time": "2023-03-01T13:28:22.364570Z"
        },
        "id": "dxgWrpvVR7_H"
      },
      "outputs": [],
      "source": [
        "# Выбираем 15 лучших признаков\n",
        "sb = SelectKBest(f_regression, k=32)\n",
        "\n",
        "X_train_kbest = pd.DataFrame(\n",
        "    data=sb.fit_transform(X_train_var, y_train),\n",
        "    columns=X_train_var.columns[sb.get_support()],\n",
        ")\n",
        "X_test_kbest = pd.DataFrame(\n",
        "    data=sb.transform(X_test_var), columns=X_test_var.columns[sb.get_support()]\n",
        ")"
      ]
    },
    {
      "cell_type": "code",
      "execution_count": 19,
      "metadata": {
        "ExecuteTime": {
          "end_time": "2023-03-01T13:28:22.502236Z",
          "start_time": "2023-03-01T13:28:22.382292Z"
        },
        "colab": {
          "base_uri": "https://localhost:8080/"
        },
        "id": "05_0s6Y0SPYp",
        "outputId": "887d53ad-2c62-4c64-d4e7-219249b19f01"
      },
      "outputs": [
        {
          "name": "stdout",
          "output_type": "stream",
          "text": [
            "Train: 137114.0931272119\n",
            "Test: 155195.56379296398\n"
          ]
        }
      ],
      "source": [
        "lr = LinearRegression().fit(X_train_kbest, y_train)\n",
        "print(f\"Train: {mean_squared_error(y_train, lr.predict(X_train_kbest))}\")\n",
        "print(f\"Test: {mean_squared_error(y_test, lr.predict(X_test_kbest))}\")"
      ]
    },
    {
      "cell_type": "code",
      "execution_count": 20,
      "metadata": {
        "ExecuteTime": {
          "end_time": "2023-03-01T13:28:22.502423Z",
          "start_time": "2023-03-01T13:28:22.406423Z"
        },
        "colab": {
          "base_uri": "https://localhost:8080/"
        },
        "id": "brBAuwBHSSXA",
        "outputId": "5e81c5e0-a35f-4815-8779-fa6d279dcc0d"
      },
      "outputs": [
        {
          "name": "stdout",
          "output_type": "stream",
          "text": [
            "Train: 143757.1635535504\n",
            "Test: 166660.26769558186\n"
          ]
        }
      ],
      "source": [
        "ridge = Ridge(5.0).fit(X_train_kbest, y_train)\n",
        "print(f\"Train: {mean_squared_error(y_train, ridge.predict(X_train_kbest))}\")\n",
        "print(f\"Test: {mean_squared_error(y_test, ridge.predict(X_test_kbest))}\")"
      ]
    },
    {
      "cell_type": "markdown",
      "metadata": {
        "id": "R1oWr6MASWck"
      },
      "source": [
        "А можно выбрать самые значимые признаки с точки зрения регрессии с $L_1$-регуляризацией."
      ]
    },
    {
      "cell_type": "code",
      "execution_count": 21,
      "metadata": {
        "ExecuteTime": {
          "end_time": "2023-03-01T13:28:22.502549Z",
          "start_time": "2023-03-01T13:28:22.415667Z"
        },
        "id": "wP9rfjgH06qg"
      },
      "outputs": [],
      "source": [
        "from sklearn.feature_selection import SelectFromModel"
      ]
    },
    {
      "cell_type": "code",
      "execution_count": 22,
      "metadata": {
        "ExecuteTime": {
          "end_time": "2023-03-01T13:28:22.502898Z",
          "start_time": "2023-03-01T13:28:22.423681Z"
        },
        "colab": {
          "base_uri": "https://localhost:8080/"
        },
        "id": "7R7rsWRvSVFA",
        "outputId": "7f4a052c-9e43-482a-9e47-a2ce4f6b824c"
      },
      "outputs": [
        {
          "data": {
            "text/plain": [
              "(1595, 10)"
            ]
          },
          "execution_count": 22,
          "metadata": {},
          "output_type": "execute_result"
        }
      ],
      "source": [
        "lasso = Lasso(5.0)\n",
        "l1_select = SelectFromModel(lasso)\n",
        "\n",
        "X_train_l1 = pd.DataFrame(\n",
        "    data=l1_select.fit_transform(X_train_var, y_train),\n",
        "    columns=X_train_var.columns[l1_select.get_support()],\n",
        ")\n",
        "X_test_l1 = pd.DataFrame(\n",
        "    data=l1_select.transform(X_test_var),\n",
        "    columns=X_test_var.columns[l1_select.get_support()],\n",
        ")\n",
        "\n",
        "X_train_l1.shape"
      ]
    },
    {
      "cell_type": "code",
      "execution_count": 23,
      "metadata": {
        "ExecuteTime": {
          "end_time": "2023-03-01T13:28:22.503130Z",
          "start_time": "2023-03-01T13:28:22.435381Z"
        },
        "colab": {
          "base_uri": "https://localhost:8080/"
        },
        "id": "0VO2rVJfSikj",
        "outputId": "535465eb-66d4-4c99-dbbd-68e2ec016da3"
      },
      "outputs": [
        {
          "name": "stdout",
          "output_type": "stream",
          "text": [
            "Train: 140633.82259967245\n",
            "Test: 161202.08743230256\n",
            "Train: 142251.60315852886\n",
            "Test: 168226.9650141962\n"
          ]
        }
      ],
      "source": [
        "lr = LinearRegression().fit(X_train_l1, y_train)\n",
        "print(f\"Train: {mean_squared_error(y_train, lr.predict(X_train_l1))}\")\n",
        "print(f\"Test: {mean_squared_error(y_test, lr.predict(X_test_l1))}\")\n",
        "\n",
        "ridge = Ridge(5.0).fit(X_train_l1, y_train)\n",
        "print(f\"Train: {mean_squared_error(y_train, ridge.predict(X_train_l1))}\")\n",
        "print(f\"Test: {mean_squared_error(y_test, ridge.predict(X_test_l1))}\")"
      ]
    },
    {
      "cell_type": "markdown",
      "metadata": {
        "id": "XlvrsWnsSqJ2"
      },
      "source": [
        "### Зададим все преобразования, отбор признаков и обучение при помощи Pipeline"
      ]
    },
    {
      "cell_type": "code",
      "execution_count": 24,
      "metadata": {
        "ExecuteTime": {
          "end_time": "2023-03-01T13:28:22.504394Z",
          "start_time": "2023-03-01T13:28:22.456144Z"
        },
        "colab": {
          "base_uri": "https://localhost:8080/"
        },
        "id": "g6SHSnsUSpJU",
        "outputId": "9412638a-4cbf-4cbd-bb66-2f71ad3edae5"
      },
      "outputs": [
        {
          "data": {
            "text/plain": [
              "{'scaler': MinMaxScaler(),\n",
              " 'variance': VarianceThreshold(threshold=0.01),\n",
              " 'selection': SelectKBest(k=32, score_func=<function f_regression at 0x0000022BB6DD1870>),\n",
              " 'regressor': Ridge(alpha=5.0)}"
            ]
          },
          "execution_count": 24,
          "metadata": {},
          "output_type": "execute_result"
        }
      ],
      "source": [
        "from sklearn.pipeline import Pipeline\n",
        "\n",
        "pipe = Pipeline(\n",
        "    steps=[\n",
        "        (\"scaler\", MinMaxScaler()),\n",
        "        (\"variance\", VarianceThreshold(0.01)),\n",
        "        (\"selection\", SelectKBest(f_regression, k=32)),\n",
        "        (\"regressor\", Ridge(5.0)),\n",
        "    ]\n",
        ")\n",
        "\n",
        "pipe.fit(X_train, y_train)\n",
        "\n",
        "pipe.named_steps"
      ]
    },
    {
      "cell_type": "code",
      "execution_count": 25,
      "metadata": {
        "ExecuteTime": {
          "end_time": "2023-03-01T13:28:22.629900Z",
          "start_time": "2023-03-01T13:28:22.485230Z"
        },
        "colab": {
          "base_uri": "https://localhost:8080/"
        },
        "id": "R84AM0WISw1i",
        "outputId": "854cc776-cf4f-4782-895c-d61a4f001c31"
      },
      "outputs": [
        {
          "name": "stdout",
          "output_type": "stream",
          "text": [
            "Train: 143757.1635535504\n",
            "Test: 166660.26769558186\n"
          ]
        }
      ],
      "source": [
        "print(f\"Train: {mean_squared_error(y_train, pipe.predict(X_train))}\")\n",
        "print(f\"Test: {mean_squared_error(y_test, pipe.predict(X_test))}\")"
      ]
    },
    {
      "cell_type": "markdown",
      "metadata": {
        "id": "tN1m9tlWS2zh"
      },
      "source": [
        "Можно даже перебрать гиперпараметры с помощью `GridSearch`:"
      ]
    },
    {
      "cell_type": "code",
      "execution_count": 26,
      "metadata": {
        "ExecuteTime": {
          "end_time": "2023-03-01T13:28:22.657496Z",
          "start_time": "2023-03-01T13:28:22.503101Z"
        },
        "colab": {
          "base_uri": "https://localhost:8080/"
        },
        "id": "3fqn1f7qS2Kt",
        "outputId": "2add5b55-8589-4f81-9ee7-a8c384c2ef7a"
      },
      "outputs": [
        {
          "data": {
            "text/plain": [
              "{'memory': None,\n",
              " 'steps': [('scaler', MinMaxScaler()),\n",
              "  ('variance', VarianceThreshold(threshold=0.01)),\n",
              "  ('selection',\n",
              "   SelectKBest(k=32, score_func=<function f_regression at 0x0000022BB6DD1870>)),\n",
              "  ('regressor', Ridge(alpha=5.0))],\n",
              " 'verbose': False,\n",
              " 'scaler': MinMaxScaler(),\n",
              " 'variance': VarianceThreshold(threshold=0.01),\n",
              " 'selection': SelectKBest(k=32, score_func=<function f_regression at 0x0000022BB6DD1870>),\n",
              " 'regressor': Ridge(alpha=5.0),\n",
              " 'scaler__clip': False,\n",
              " 'scaler__copy': True,\n",
              " 'scaler__feature_range': (0, 1),\n",
              " 'variance__threshold': 0.01,\n",
              " 'selection__k': 32,\n",
              " 'selection__score_func': <function sklearn.feature_selection._univariate_selection.f_regression(X, y, *, center=True, force_finite=True)>,\n",
              " 'regressor__alpha': 5.0,\n",
              " 'regressor__copy_X': True,\n",
              " 'regressor__fit_intercept': True,\n",
              " 'regressor__max_iter': None,\n",
              " 'regressor__positive': False,\n",
              " 'regressor__random_state': None,\n",
              " 'regressor__solver': 'auto',\n",
              " 'regressor__tol': 0.0001}"
            ]
          },
          "execution_count": 26,
          "metadata": {},
          "output_type": "execute_result"
        }
      ],
      "source": [
        "pipe.get_params()"
      ]
    },
    {
      "cell_type": "code",
      "execution_count": 30,
      "metadata": {
        "ExecuteTime": {
          "end_time": "2023-03-01T13:28:55.223430Z",
          "start_time": "2023-03-01T13:28:22.507455Z"
        },
        "colab": {
          "base_uri": "https://localhost:8080/",
          "height": 285
        },
        "id": "4m5LRWZgS_3e",
        "outputId": "41525275-6f73-4363-9cf4-6b6994c6259e"
      },
      "outputs": [
        {
          "data": {
            "text/html": [
              "<style>#sk-container-id-1 {color: black;background-color: white;}#sk-container-id-1 pre{padding: 0;}#sk-container-id-1 div.sk-toggleable {background-color: white;}#sk-container-id-1 label.sk-toggleable__label {cursor: pointer;display: block;width: 100%;margin-bottom: 0;padding: 0.3em;box-sizing: border-box;text-align: center;}#sk-container-id-1 label.sk-toggleable__label-arrow:before {content: \"▸\";float: left;margin-right: 0.25em;color: #696969;}#sk-container-id-1 label.sk-toggleable__label-arrow:hover:before {color: black;}#sk-container-id-1 div.sk-estimator:hover label.sk-toggleable__label-arrow:before {color: black;}#sk-container-id-1 div.sk-toggleable__content {max-height: 0;max-width: 0;overflow: hidden;text-align: left;background-color: #f0f8ff;}#sk-container-id-1 div.sk-toggleable__content pre {margin: 0.2em;color: black;border-radius: 0.25em;background-color: #f0f8ff;}#sk-container-id-1 input.sk-toggleable__control:checked~div.sk-toggleable__content {max-height: 200px;max-width: 100%;overflow: auto;}#sk-container-id-1 input.sk-toggleable__control:checked~label.sk-toggleable__label-arrow:before {content: \"▾\";}#sk-container-id-1 div.sk-estimator input.sk-toggleable__control:checked~label.sk-toggleable__label {background-color: #d4ebff;}#sk-container-id-1 div.sk-label input.sk-toggleable__control:checked~label.sk-toggleable__label {background-color: #d4ebff;}#sk-container-id-1 input.sk-hidden--visually {border: 0;clip: rect(1px 1px 1px 1px);clip: rect(1px, 1px, 1px, 1px);height: 1px;margin: -1px;overflow: hidden;padding: 0;position: absolute;width: 1px;}#sk-container-id-1 div.sk-estimator {font-family: monospace;background-color: #f0f8ff;border: 1px dotted black;border-radius: 0.25em;box-sizing: border-box;margin-bottom: 0.5em;}#sk-container-id-1 div.sk-estimator:hover {background-color: #d4ebff;}#sk-container-id-1 div.sk-parallel-item::after {content: \"\";width: 100%;border-bottom: 1px solid gray;flex-grow: 1;}#sk-container-id-1 div.sk-label:hover label.sk-toggleable__label {background-color: #d4ebff;}#sk-container-id-1 div.sk-serial::before {content: \"\";position: absolute;border-left: 1px solid gray;box-sizing: border-box;top: 0;bottom: 0;left: 50%;z-index: 0;}#sk-container-id-1 div.sk-serial {display: flex;flex-direction: column;align-items: center;background-color: white;padding-right: 0.2em;padding-left: 0.2em;position: relative;}#sk-container-id-1 div.sk-item {position: relative;z-index: 1;}#sk-container-id-1 div.sk-parallel {display: flex;align-items: stretch;justify-content: center;background-color: white;position: relative;}#sk-container-id-1 div.sk-item::before, #sk-container-id-1 div.sk-parallel-item::before {content: \"\";position: absolute;border-left: 1px solid gray;box-sizing: border-box;top: 0;bottom: 0;left: 50%;z-index: -1;}#sk-container-id-1 div.sk-parallel-item {display: flex;flex-direction: column;z-index: 1;position: relative;background-color: white;}#sk-container-id-1 div.sk-parallel-item:first-child::after {align-self: flex-end;width: 50%;}#sk-container-id-1 div.sk-parallel-item:last-child::after {align-self: flex-start;width: 50%;}#sk-container-id-1 div.sk-parallel-item:only-child::after {width: 0;}#sk-container-id-1 div.sk-dashed-wrapped {border: 1px dashed gray;margin: 0 0.4em 0.5em 0.4em;box-sizing: border-box;padding-bottom: 0.4em;background-color: white;}#sk-container-id-1 div.sk-label label {font-family: monospace;font-weight: bold;display: inline-block;line-height: 1.2em;}#sk-container-id-1 div.sk-label-container {text-align: center;}#sk-container-id-1 div.sk-container {/* jupyter's `normalize.less` sets `[hidden] { display: none; }` but bootstrap.min.css set `[hidden] { display: none !important; }` so we also need the `!important` here to be able to override the default hidden behavior on the sphinx rendered scikit-learn.org. See: https://github.com/scikit-learn/scikit-learn/issues/21755 */display: inline-block !important;position: relative;}#sk-container-id-1 div.sk-text-repr-fallback {display: none;}</style><div id=\"sk-container-id-1\" class=\"sk-top-container\"><div class=\"sk-text-repr-fallback\"><pre>GridSearchCV(cv=5,\n",
              "             estimator=Pipeline(steps=[(&#x27;scaler&#x27;, MinMaxScaler()),\n",
              "                                       (&#x27;variance&#x27;,\n",
              "                                        VarianceThreshold(threshold=0.01)),\n",
              "                                       (&#x27;selection&#x27;,\n",
              "                                        SelectKBest(k=32,\n",
              "                                                    score_func=&lt;function f_regression at 0x0000022BB6DD1870&gt;)),\n",
              "                                       (&#x27;regressor&#x27;, Ridge(alpha=5.0))]),\n",
              "             param_grid={&#x27;regressor__alpha&#x27;: [0.1, 0.5, 1.0, 1.5, 2.0, 5.0,\n",
              "                                              10.0],\n",
              "                         &#x27;variance__threshold&#x27;: [0.005, 0.0075, 0.009, 0.01,\n",
              "                                                 0.011, 0.012]})</pre><b>In a Jupyter environment, please rerun this cell to show the HTML representation or trust the notebook. <br />On GitHub, the HTML representation is unable to render, please try loading this page with nbviewer.org.</b></div><div class=\"sk-container\" hidden><div class=\"sk-item sk-dashed-wrapped\"><div class=\"sk-label-container\"><div class=\"sk-label sk-toggleable\"><input class=\"sk-toggleable__control sk-hidden--visually\" id=\"sk-estimator-id-1\" type=\"checkbox\" ><label for=\"sk-estimator-id-1\" class=\"sk-toggleable__label sk-toggleable__label-arrow\">GridSearchCV</label><div class=\"sk-toggleable__content\"><pre>GridSearchCV(cv=5,\n",
              "             estimator=Pipeline(steps=[(&#x27;scaler&#x27;, MinMaxScaler()),\n",
              "                                       (&#x27;variance&#x27;,\n",
              "                                        VarianceThreshold(threshold=0.01)),\n",
              "                                       (&#x27;selection&#x27;,\n",
              "                                        SelectKBest(k=32,\n",
              "                                                    score_func=&lt;function f_regression at 0x0000022BB6DD1870&gt;)),\n",
              "                                       (&#x27;regressor&#x27;, Ridge(alpha=5.0))]),\n",
              "             param_grid={&#x27;regressor__alpha&#x27;: [0.1, 0.5, 1.0, 1.5, 2.0, 5.0,\n",
              "                                              10.0],\n",
              "                         &#x27;variance__threshold&#x27;: [0.005, 0.0075, 0.009, 0.01,\n",
              "                                                 0.011, 0.012]})</pre></div></div></div><div class=\"sk-parallel\"><div class=\"sk-parallel-item\"><div class=\"sk-item\"><div class=\"sk-label-container\"><div class=\"sk-label sk-toggleable\"><input class=\"sk-toggleable__control sk-hidden--visually\" id=\"sk-estimator-id-2\" type=\"checkbox\" ><label for=\"sk-estimator-id-2\" class=\"sk-toggleable__label sk-toggleable__label-arrow\">estimator: Pipeline</label><div class=\"sk-toggleable__content\"><pre>Pipeline(steps=[(&#x27;scaler&#x27;, MinMaxScaler()),\n",
              "                (&#x27;variance&#x27;, VarianceThreshold(threshold=0.01)),\n",
              "                (&#x27;selection&#x27;,\n",
              "                 SelectKBest(k=32,\n",
              "                             score_func=&lt;function f_regression at 0x0000022BB6DD1870&gt;)),\n",
              "                (&#x27;regressor&#x27;, Ridge(alpha=5.0))])</pre></div></div></div><div class=\"sk-serial\"><div class=\"sk-item\"><div class=\"sk-serial\"><div class=\"sk-item\"><div class=\"sk-estimator sk-toggleable\"><input class=\"sk-toggleable__control sk-hidden--visually\" id=\"sk-estimator-id-3\" type=\"checkbox\" ><label for=\"sk-estimator-id-3\" class=\"sk-toggleable__label sk-toggleable__label-arrow\">MinMaxScaler</label><div class=\"sk-toggleable__content\"><pre>MinMaxScaler()</pre></div></div></div><div class=\"sk-item\"><div class=\"sk-estimator sk-toggleable\"><input class=\"sk-toggleable__control sk-hidden--visually\" id=\"sk-estimator-id-4\" type=\"checkbox\" ><label for=\"sk-estimator-id-4\" class=\"sk-toggleable__label sk-toggleable__label-arrow\">VarianceThreshold</label><div class=\"sk-toggleable__content\"><pre>VarianceThreshold(threshold=0.01)</pre></div></div></div><div class=\"sk-item\"><div class=\"sk-estimator sk-toggleable\"><input class=\"sk-toggleable__control sk-hidden--visually\" id=\"sk-estimator-id-5\" type=\"checkbox\" ><label for=\"sk-estimator-id-5\" class=\"sk-toggleable__label sk-toggleable__label-arrow\">SelectKBest</label><div class=\"sk-toggleable__content\"><pre>SelectKBest(k=32, score_func=&lt;function f_regression at 0x0000022BB6DD1870&gt;)</pre></div></div></div><div class=\"sk-item\"><div class=\"sk-estimator sk-toggleable\"><input class=\"sk-toggleable__control sk-hidden--visually\" id=\"sk-estimator-id-6\" type=\"checkbox\" ><label for=\"sk-estimator-id-6\" class=\"sk-toggleable__label sk-toggleable__label-arrow\">Ridge</label><div class=\"sk-toggleable__content\"><pre>Ridge(alpha=5.0)</pre></div></div></div></div></div></div></div></div></div></div></div></div>"
            ],
            "text/plain": [
              "GridSearchCV(cv=5,\n",
              "             estimator=Pipeline(steps=[('scaler', MinMaxScaler()),\n",
              "                                       ('variance',\n",
              "                                        VarianceThreshold(threshold=0.01)),\n",
              "                                       ('selection',\n",
              "                                        SelectKBest(k=32,\n",
              "                                                    score_func=<function f_regression at 0x0000022BB6DD1870>)),\n",
              "                                       ('regressor', Ridge(alpha=5.0))]),\n",
              "             param_grid={'regressor__alpha': [0.1, 0.5, 1.0, 1.5, 2.0, 5.0,\n",
              "                                              10.0],\n",
              "                         'variance__threshold': [0.005, 0.0075, 0.009, 0.01,\n",
              "                                                 0.011, 0.012]})"
            ]
          },
          "execution_count": 30,
          "metadata": {},
          "output_type": "execute_result"
        }
      ],
      "source": [
        "param_grid = {\n",
        "    \"variance__threshold\": [0.005, 0.0075, 0.009, 0.01, 0.011, 0.012],\n",
        "    \"regressor__alpha\": [0.1, 0.5, 1.0, 1.5, 2.0, 5.0, 10.0],\n",
        "}\n",
        "grid_search = GridSearchCV(pipe, param_grid, cv=5)\n",
        "\n",
        "grid_search.fit(X_train, y_train)"
      ]
    },
    {
      "cell_type": "code",
      "execution_count": 31,
      "metadata": {
        "ExecuteTime": {
          "end_time": "2023-03-01T13:28:55.224075Z",
          "start_time": "2023-03-01T13:28:55.210272Z"
        },
        "colab": {
          "base_uri": "https://localhost:8080/"
        },
        "id": "G98XFUynTGJV",
        "outputId": "e2f93cd0-31b5-44c2-d847-0fb383b96354"
      },
      "outputs": [
        {
          "data": {
            "text/plain": [
              "{'scaler': MinMaxScaler(),\n",
              " 'variance': VarianceThreshold(threshold=0.009),\n",
              " 'selection': SelectKBest(k=32, score_func=<function f_regression at 0x0000022BB6DD1870>),\n",
              " 'regressor': Ridge(alpha=0.1)}"
            ]
          },
          "execution_count": 31,
          "metadata": {},
          "output_type": "execute_result"
        }
      ],
      "source": [
        "pipe_best = grid_search.best_estimator_\n",
        "pipe_best.named_steps"
      ]
    },
    {
      "cell_type": "code",
      "execution_count": 32,
      "metadata": {
        "ExecuteTime": {
          "end_time": "2023-03-01T13:28:55.336199Z",
          "start_time": "2023-03-01T13:28:55.225228Z"
        },
        "colab": {
          "base_uri": "https://localhost:8080/"
        },
        "id": "7Uhgfp_WTJvD",
        "outputId": "58ee4e33-5534-4bde-c0ca-a0590b03b4a9"
      },
      "outputs": [
        {
          "name": "stdout",
          "output_type": "stream",
          "text": [
            "Train: 136552.1744369957\n",
            "Test: 154314.25462148254\n"
          ]
        }
      ],
      "source": [
        "pipe_best.fit(X_train, y_train)\n",
        "print(f\"Train: {mean_squared_error(y_train, pipe_best.predict(X_train))}\")\n",
        "print(f\"Test: {mean_squared_error(y_test, pipe_best.predict(X_test))}\")"
      ]
    }
  ],
  "metadata": {
    "anaconda-cloud": {},
    "colab": {
      "name": "sem06_linreg_unsolved.ipynb",
      "provenance": []
    },
    "kernelspec": {
      "display_name": "Python 3",
      "language": "python",
      "name": "python3"
    },
    "language_info": {
      "codemirror_mode": {
        "name": "ipython",
        "version": 3
      },
      "file_extension": ".py",
      "mimetype": "text/x-python",
      "name": "python",
      "nbconvert_exporter": "python",
      "pygments_lexer": "ipython3",
      "version": "3.10.0"
    }
  },
  "nbformat": 4,
  "nbformat_minor": 0
}
