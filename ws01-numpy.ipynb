{
  "cells": [
    {
      "cell_type": "markdown",
      "metadata": {
        "id": "T-Pixvqpg8J1"
      },
      "source": [
        "# Семинар 1: знакомство с NumPy\n"
      ]
    },
    {
      "cell_type": "markdown",
      "metadata": {
        "id": "z3SUXNeZg8J3"
      },
      "source": [
        "## Немного про Jupyter notebook"
      ]
    },
    {
      "cell_type": "markdown",
      "metadata": {
        "id": "m7O565DUg8J3"
      },
      "source": [
        "Полная документация: https://devpractice.ru/python-lesson-6-work-in-jupyter-notebook/\n",
        "\n",
        "---\n",
        "В Jupyter Notebook есть два режима работы: режим _команд_ и режим _редактирования_\n",
        "\n",
        "_Командный_ режим нужен для того, чтобы взаимодействовать и управлять ячейками (добавлять, удалять, запускать, копировать, ...)\n",
        "\n",
        "В режиме _редактирования_ вы меняете содержимое ячейки.\n",
        "\n",
        "Ячейки бывают двух основных типов, _код_ и _разметка_\n",
        "\n",
        "### Полезные команды\n",
        "\n",
        "(находясь в командном режиме)\n",
        "\n",
        "- `a` - добавить пустую ячейку сверху\n",
        "\n",
        "- `b` - добавить пустую ячейку снизу\n",
        "- `c` - скопировать текущую ячейку\n",
        "- `v` - вставить скопированную ячейку\n",
        "- `d` - удалить текущую ячейку\n",
        "- `x` - вырезать (удалить и скопировать) текущую ячейку\n",
        "- `m` - изменить тип выбранной ячейки на \"разметка\"\n",
        "- `y` - изменить тип выбранной ячейки на \"код\"\n",
        "- `z` - отменить последнее действие\n",
        "\n",
        "\n",
        "- `Enter` - начать редактировать выбранную ячейку\n",
        "\n",
        "(будучи в режим редактирования ячейки)\n",
        "- `esc` - вернуться в командный режим\n",
        "\n",
        "(будучи в любом режиме)\n",
        "\n",
        "- `Ctrl + Enter` - запустить выбранную ячейку\n",
        "- `Shift + Enter` - запустить выбранную ячейку и выбрать следующую"
      ]
    },
    {
      "cell_type": "code",
      "execution_count": null,
      "metadata": {
        "id": "Z9kboRN8g8J3",
        "outputId": "281c61fa-c9c7-4372-885e-2f8bfbe3fbe8"
      },
      "outputs": [
        {
          "data": {
            "text/plain": [
              "5"
            ]
          },
          "execution_count": 7,
          "metadata": {},
          "output_type": "execute_result"
        }
      ],
      "source": [
        "2 + 2"
      ]
    },
    {
      "cell_type": "markdown",
      "metadata": {
        "id": "FvPud4mCg8J4"
      },
      "source": [
        "## numpy"
      ]
    },
    {
      "cell_type": "markdown",
      "metadata": {
        "id": "9WmtAB9ug8J4"
      },
      "source": [
        "- документация: http://www.numpy.org/"
      ]
    },
    {
      "cell_type": "markdown",
      "metadata": {
        "id": "sckxcfY9g8J5"
      },
      "source": [
        "Библиотека numpy является удобным инструментом для работы с многомерными массивами с возможностью векторизации вычислений. Рассмотрим базовые вещи, которые можно делать с помощью нее."
      ]
    },
    {
      "cell_type": "code",
      "execution_count": 1,
      "metadata": {
        "id": "rsSoutz3g8J5"
      },
      "outputs": [],
      "source": [
        "import numpy as np"
      ]
    },
    {
      "cell_type": "code",
      "source": [
        "v = [[1, 2], [3, 4], [5, 6]]"
      ],
      "metadata": {
        "id": "BLZ6opero7nT"
      },
      "execution_count": 2,
      "outputs": []
    },
    {
      "cell_type": "code",
      "source": [
        "type(v)"
      ],
      "metadata": {
        "id": "ihpE0-ijo9Wa",
        "outputId": "8501cb65-764a-44b4-9146-a0838e6e0b79",
        "colab": {
          "base_uri": "https://localhost:8080/"
        }
      },
      "execution_count": 3,
      "outputs": [
        {
          "output_type": "execute_result",
          "data": {
            "text/plain": [
              "list"
            ]
          },
          "metadata": {},
          "execution_count": 3
        }
      ]
    },
    {
      "cell_type": "code",
      "execution_count": 24,
      "metadata": {
        "id": "80BUOs-Bg8J5"
      },
      "outputs": [],
      "source": [
        "vec = np.array([[1, 2], [3, 4], [5, 6]])"
      ]
    },
    {
      "cell_type": "code",
      "execution_count": 5,
      "metadata": {
        "id": "yV2wC_BQg8J5",
        "outputId": "e2c8a5f3-2b13-4cee-bbeb-2a72d3f26923",
        "colab": {
          "base_uri": "https://localhost:8080/"
        }
      },
      "outputs": [
        {
          "output_type": "execute_result",
          "data": {
            "text/plain": [
              "array([[1, 2],\n",
              "       [3, 4],\n",
              "       [5, 6]])"
            ]
          },
          "metadata": {},
          "execution_count": 5
        }
      ],
      "source": [
        "vec"
      ]
    },
    {
      "cell_type": "code",
      "source": [
        "type(vec)"
      ],
      "metadata": {
        "id": "GclM4G7LpHa7",
        "outputId": "47326523-e4d6-40f9-ae4a-26b0fb8ad721",
        "colab": {
          "base_uri": "https://localhost:8080/"
        }
      },
      "execution_count": 7,
      "outputs": [
        {
          "output_type": "execute_result",
          "data": {
            "text/plain": [
              "numpy.ndarray"
            ]
          },
          "metadata": {},
          "execution_count": 7
        }
      ]
    },
    {
      "cell_type": "code",
      "execution_count": 6,
      "metadata": {
        "id": "51hCULRyg8J5",
        "outputId": "04d98b09-c167-4c81-97ac-378f78f29d4e",
        "colab": {
          "base_uri": "https://localhost:8080/"
        }
      },
      "outputs": [
        {
          "output_type": "stream",
          "name": "stdout",
          "text": [
            "[[1 2]\n",
            " [3 4]\n",
            " [5 6]]\n"
          ]
        }
      ],
      "source": [
        "print(vec)"
      ]
    },
    {
      "cell_type": "markdown",
      "metadata": {
        "id": "MBF9o485g8J5"
      },
      "source": [
        "С чем мы работаем?"
      ]
    },
    {
      "cell_type": "code",
      "execution_count": null,
      "metadata": {
        "id": "8IchU4CUg8J5"
      },
      "outputs": [],
      "source": [
        "vec.dtype"
      ]
    },
    {
      "cell_type": "code",
      "execution_count": null,
      "metadata": {
        "id": "YHLr4nqmg8J5"
      },
      "outputs": [],
      "source": [
        "type(vec)"
      ]
    },
    {
      "cell_type": "code",
      "source": [
        "v * 2"
      ],
      "metadata": {
        "id": "lptY7Gw3pUPU",
        "outputId": "de9f5203-9cf8-4ceb-a23f-a7d7d8930f50",
        "colab": {
          "base_uri": "https://localhost:8080/"
        }
      },
      "execution_count": 8,
      "outputs": [
        {
          "output_type": "execute_result",
          "data": {
            "text/plain": [
              "[[1, 2], [3, 4], [5, 6], [1, 2], [3, 4], [5, 6]]"
            ]
          },
          "metadata": {},
          "execution_count": 8
        }
      ]
    },
    {
      "cell_type": "code",
      "source": [
        "vec * 2"
      ],
      "metadata": {
        "id": "0aDV0ti_pcQY",
        "outputId": "48504f6f-efcb-4569-b7ba-4cc970314c03",
        "colab": {
          "base_uri": "https://localhost:8080/"
        }
      },
      "execution_count": 9,
      "outputs": [
        {
          "output_type": "execute_result",
          "data": {
            "text/plain": [
              "array([[ 2,  4],\n",
              "       [ 6,  8],\n",
              "       [10, 12]])"
            ]
          },
          "metadata": {},
          "execution_count": 9
        }
      ]
    },
    {
      "cell_type": "code",
      "source": [
        "vec.T"
      ],
      "metadata": {
        "id": "OJKjNUSiqbpA",
        "outputId": "2457ebc0-bf5b-4af6-fdf6-e4ccc416ff03",
        "colab": {
          "base_uri": "https://localhost:8080/"
        }
      },
      "execution_count": 11,
      "outputs": [
        {
          "output_type": "execute_result",
          "data": {
            "text/plain": [
              "array([[1, 3, 5],\n",
              "       [2, 4, 6]])"
            ]
          },
          "metadata": {},
          "execution_count": 11
        }
      ]
    },
    {
      "cell_type": "code",
      "source": [
        "vec @ vec.T"
      ],
      "metadata": {
        "id": "6t6xKUC5ps5_",
        "outputId": "9e629c45-e943-4b5e-c1f8-7f3af46ac752",
        "colab": {
          "base_uri": "https://localhost:8080/"
        }
      },
      "execution_count": 12,
      "outputs": [
        {
          "output_type": "execute_result",
          "data": {
            "text/plain": [
              "array([[ 5, 11, 17],\n",
              "       [11, 25, 39],\n",
              "       [17, 39, 61]])"
            ]
          },
          "metadata": {},
          "execution_count": 12
        }
      ]
    },
    {
      "cell_type": "markdown",
      "metadata": {
        "id": "6Wul4Kuig8J5"
      },
      "source": [
        "Размер массива:"
      ]
    },
    {
      "cell_type": "code",
      "execution_count": 13,
      "metadata": {
        "id": "aSt3jM3vg8J6",
        "outputId": "bbe9e587-b75e-47f0-cdc7-d070dccb0648",
        "colab": {
          "base_uri": "https://localhost:8080/"
        }
      },
      "outputs": [
        {
          "output_type": "execute_result",
          "data": {
            "text/plain": [
              "(3, 2)"
            ]
          },
          "metadata": {},
          "execution_count": 13
        }
      ],
      "source": [
        "vec.shape"
      ]
    },
    {
      "cell_type": "code",
      "source": [
        "vec.T.shape"
      ],
      "metadata": {
        "id": "iFGDbKe8rG1T",
        "outputId": "86dc3fd3-7c17-4de8-af80-12c49da1d030",
        "colab": {
          "base_uri": "https://localhost:8080/"
        }
      },
      "execution_count": 14,
      "outputs": [
        {
          "output_type": "execute_result",
          "data": {
            "text/plain": [
              "(2, 3)"
            ]
          },
          "metadata": {},
          "execution_count": 14
        }
      ]
    },
    {
      "cell_type": "code",
      "source": [
        "(vec @ vec.T).shape"
      ],
      "metadata": {
        "id": "MaDSxz1UrIqR",
        "outputId": "4e3fdff2-d5b9-48d5-a3d5-ea36d146fd5e",
        "colab": {
          "base_uri": "https://localhost:8080/"
        }
      },
      "execution_count": 15,
      "outputs": [
        {
          "output_type": "execute_result",
          "data": {
            "text/plain": [
              "(3, 3)"
            ]
          },
          "metadata": {},
          "execution_count": 15
        }
      ]
    },
    {
      "cell_type": "code",
      "source": [
        "vec.dot(vec.T)"
      ],
      "metadata": {
        "id": "GnAvOuS4rkE3",
        "outputId": "a168be43-fc6d-472a-9146-58efb5331058",
        "colab": {
          "base_uri": "https://localhost:8080/"
        }
      },
      "execution_count": 18,
      "outputs": [
        {
          "output_type": "execute_result",
          "data": {
            "text/plain": [
              "array([[ 5, 11, 17],\n",
              "       [11, 25, 39],\n",
              "       [17, 39, 61]])"
            ]
          },
          "metadata": {},
          "execution_count": 18
        }
      ]
    },
    {
      "cell_type": "code",
      "source": [
        "vec.transpose()"
      ],
      "metadata": {
        "id": "G-NB6U7Cr4Vy",
        "outputId": "c76d5dde-1602-4c11-d1f3-cac6c7fc51d3",
        "colab": {
          "base_uri": "https://localhost:8080/"
        }
      },
      "execution_count": 19,
      "outputs": [
        {
          "output_type": "execute_result",
          "data": {
            "text/plain": [
              "array([[1, 3, 5],\n",
              "       [2, 4, 6]])"
            ]
          },
          "metadata": {},
          "execution_count": 19
        }
      ]
    },
    {
      "cell_type": "code",
      "source": [
        "help(vec)"
      ],
      "metadata": {
        "id": "ckSbrvH7rL_z"
      },
      "execution_count": null,
      "outputs": []
    },
    {
      "cell_type": "code",
      "source": [
        "dir(vec)"
      ],
      "metadata": {
        "id": "VNyqbAG_rVwH"
      },
      "execution_count": null,
      "outputs": []
    },
    {
      "cell_type": "markdown",
      "metadata": {
        "id": "-0QnMsb3g8J6"
      },
      "source": [
        "Число осей:"
      ]
    },
    {
      "cell_type": "code",
      "execution_count": 20,
      "metadata": {
        "id": "dNh2TPw6g8J6",
        "outputId": "a1b9bb94-6439-472f-f115-b4afe57b5266",
        "colab": {
          "base_uri": "https://localhost:8080/"
        }
      },
      "outputs": [
        {
          "output_type": "execute_result",
          "data": {
            "text/plain": [
              "2"
            ]
          },
          "metadata": {},
          "execution_count": 20
        }
      ],
      "source": [
        "vec.ndim"
      ]
    },
    {
      "cell_type": "code",
      "source": [
        "vec.dtype"
      ],
      "metadata": {
        "id": "VT2B4HD-sFOb",
        "outputId": "703fc002-d20d-4ed3-fb0f-ac3233f936ec",
        "colab": {
          "base_uri": "https://localhost:8080/"
        }
      },
      "execution_count": 25,
      "outputs": [
        {
          "output_type": "execute_result",
          "data": {
            "text/plain": [
              "dtype('int64')"
            ]
          },
          "metadata": {},
          "execution_count": 25
        }
      ]
    },
    {
      "cell_type": "code",
      "source": [
        "type(4)"
      ],
      "metadata": {
        "id": "QHMeDBeyswTJ",
        "outputId": "edce750c-5ea5-4c6b-d0a7-a356d1870098",
        "colab": {
          "base_uri": "https://localhost:8080/"
        }
      },
      "execution_count": 26,
      "outputs": [
        {
          "output_type": "execute_result",
          "data": {
            "text/plain": [
              "int"
            ]
          },
          "metadata": {},
          "execution_count": 26
        }
      ]
    },
    {
      "cell_type": "code",
      "source": [
        "type(4.)"
      ],
      "metadata": {
        "id": "l2SJNAISsytb",
        "outputId": "6473499c-5217-4d4a-e1ad-0cc4aefab6b3",
        "colab": {
          "base_uri": "https://localhost:8080/"
        }
      },
      "execution_count": 27,
      "outputs": [
        {
          "output_type": "execute_result",
          "data": {
            "text/plain": [
              "float"
            ]
          },
          "metadata": {},
          "execution_count": 27
        }
      ]
    },
    {
      "cell_type": "code",
      "source": [
        "4. == 4.0"
      ],
      "metadata": {
        "id": "Im8SQkzMs4dh",
        "outputId": "696aa849-35c1-44c9-dbf3-a428c451dd69",
        "colab": {
          "base_uri": "https://localhost:8080/"
        }
      },
      "execution_count": 28,
      "outputs": [
        {
          "output_type": "execute_result",
          "data": {
            "text/plain": [
              "True"
            ]
          },
          "metadata": {},
          "execution_count": 28
        }
      ]
    },
    {
      "cell_type": "code",
      "source": [
        "1 - 0.9 == 0.1"
      ],
      "metadata": {
        "id": "SgQm-FJFs7Rv",
        "outputId": "da5cf595-be6d-4569-b200-c1b01bd8f88b",
        "colab": {
          "base_uri": "https://localhost:8080/"
        }
      },
      "execution_count": 29,
      "outputs": [
        {
          "output_type": "execute_result",
          "data": {
            "text/plain": [
              "False"
            ]
          },
          "metadata": {},
          "execution_count": 29
        }
      ]
    },
    {
      "cell_type": "code",
      "source": [
        "1 - 0.9"
      ],
      "metadata": {
        "id": "NHJfra2hs9a2",
        "outputId": "9999a28d-3380-45fa-8d9d-ccb88e015b84",
        "colab": {
          "base_uri": "https://localhost:8080/"
        }
      },
      "execution_count": 30,
      "outputs": [
        {
          "output_type": "execute_result",
          "data": {
            "text/plain": [
              "0.09999999999999998"
            ]
          },
          "metadata": {},
          "execution_count": 30
        }
      ]
    },
    {
      "cell_type": "markdown",
      "metadata": {
        "id": "Bn9xMLMEg8J6"
      },
      "source": [
        "У некоторых функций бывает параметр `axis`, который позволяет применить эту функцию по разным осям - в данном случае, по строкам или столбцам:"
      ]
    },
    {
      "cell_type": "code",
      "source": [
        "vec"
      ],
      "metadata": {
        "id": "61jgaVhftWIC",
        "outputId": "ee1f5b4c-2991-4e09-84a6-45bdace61b0b",
        "colab": {
          "base_uri": "https://localhost:8080/"
        }
      },
      "execution_count": 32,
      "outputs": [
        {
          "output_type": "execute_result",
          "data": {
            "text/plain": [
              "array([[1, 2],\n",
              "       [3, 4],\n",
              "       [5, 6]])"
            ]
          },
          "metadata": {},
          "execution_count": 32
        }
      ]
    },
    {
      "cell_type": "code",
      "execution_count": 31,
      "metadata": {
        "id": "Gd0saDTrg8J6",
        "outputId": "f2b5944a-1efe-4924-ba07-99912b557362",
        "colab": {
          "base_uri": "https://localhost:8080/"
        }
      },
      "outputs": [
        {
          "output_type": "execute_result",
          "data": {
            "text/plain": [
              "21"
            ]
          },
          "metadata": {},
          "execution_count": 31
        }
      ],
      "source": [
        "np.sum(vec)"
      ]
    },
    {
      "cell_type": "code",
      "execution_count": 33,
      "metadata": {
        "id": "1C_5ETAvg8J6",
        "outputId": "64391a13-3d99-423e-d5f8-298d805709a7",
        "colab": {
          "base_uri": "https://localhost:8080/"
        }
      },
      "outputs": [
        {
          "output_type": "execute_result",
          "data": {
            "text/plain": [
              "array([ 9, 12])"
            ]
          },
          "metadata": {},
          "execution_count": 33
        }
      ],
      "source": [
        "np.sum(vec, axis=0)"
      ]
    },
    {
      "cell_type": "code",
      "execution_count": 35,
      "metadata": {
        "id": "AvEg-Dn8g8J6",
        "outputId": "69830d36-94e2-4f53-d273-3055e75c136f",
        "colab": {
          "base_uri": "https://localhost:8080/"
        }
      },
      "outputs": [
        {
          "output_type": "execute_result",
          "data": {
            "text/plain": [
              "array([ 3,  7, 11])"
            ]
          },
          "metadata": {},
          "execution_count": 35
        }
      ],
      "source": [
        "np.sum(vec, axis=1)"
      ]
    },
    {
      "cell_type": "code",
      "execution_count": 36,
      "metadata": {
        "id": "KKYvdeYcg8J6",
        "outputId": "bbcc8cef-a27d-47e4-b6b5-1b01af0e7ff8",
        "colab": {
          "base_uri": "https://localhost:8080/"
        }
      },
      "outputs": [
        {
          "output_type": "execute_result",
          "data": {
            "text/plain": [
              "21"
            ]
          },
          "metadata": {},
          "execution_count": 36
        }
      ],
      "source": [
        "vec.sum()"
      ]
    },
    {
      "cell_type": "markdown",
      "metadata": {
        "id": "aUxiN1FOg8J6"
      },
      "source": [
        "Транспонируем массив:"
      ]
    },
    {
      "cell_type": "code",
      "execution_count": 37,
      "metadata": {
        "id": "TXWeTzydg8J6",
        "outputId": "28233cf4-a304-46a1-85da-801c8bbf76b5",
        "colab": {
          "base_uri": "https://localhost:8080/"
        }
      },
      "outputs": [
        {
          "output_type": "execute_result",
          "data": {
            "text/plain": [
              "array([[1, 3, 5],\n",
              "       [2, 4, 6]])"
            ]
          },
          "metadata": {},
          "execution_count": 37
        }
      ],
      "source": [
        "vec.T"
      ]
    },
    {
      "cell_type": "code",
      "execution_count": 38,
      "metadata": {
        "id": "9nAbZta5g8J6",
        "outputId": "b7aff4c7-4d8a-4cda-eb32-12d979a2ef4a",
        "colab": {
          "base_uri": "https://localhost:8080/"
        }
      },
      "outputs": [
        {
          "output_type": "execute_result",
          "data": {
            "text/plain": [
              "array([[1, 3, 5],\n",
              "       [2, 4, 6]])"
            ]
          },
          "metadata": {},
          "execution_count": 38
        }
      ],
      "source": [
        "vec.transpose()"
      ]
    },
    {
      "cell_type": "markdown",
      "metadata": {
        "id": "86i6MCcIg8J6"
      },
      "source": [
        "Обратите внимание, что переменная `vec` не поменялась!"
      ]
    },
    {
      "cell_type": "code",
      "execution_count": 39,
      "metadata": {
        "id": "Mjtz3XhKg8J6",
        "outputId": "d8d4fd85-4271-41f2-8c4c-ccd7fbe02063",
        "colab": {
          "base_uri": "https://localhost:8080/"
        }
      },
      "outputs": [
        {
          "output_type": "execute_result",
          "data": {
            "text/plain": [
              "array([[1, 2],\n",
              "       [3, 4],\n",
              "       [5, 6]])"
            ]
          },
          "metadata": {},
          "execution_count": 39
        }
      ],
      "source": [
        "vec"
      ]
    },
    {
      "cell_type": "code",
      "source": [
        "s = 'abc'"
      ],
      "metadata": {
        "id": "SV-24kIDt-rJ"
      },
      "execution_count": 40,
      "outputs": []
    },
    {
      "cell_type": "code",
      "source": [
        "s[1] = 'd'"
      ],
      "metadata": {
        "id": "KJyuJfcyuBAn",
        "outputId": "4d01e9a4-c3d6-4b5f-9669-f1e697c94f88",
        "colab": {
          "base_uri": "https://localhost:8080/",
          "height": 175
        }
      },
      "execution_count": 42,
      "outputs": [
        {
          "output_type": "error",
          "ename": "TypeError",
          "evalue": "'str' object does not support item assignment",
          "traceback": [
            "\u001b[0;31m---------------------------------------------------------------------------\u001b[0m",
            "\u001b[0;31mTypeError\u001b[0m                                 Traceback (most recent call last)",
            "\u001b[0;32m<ipython-input-42-9de218e4dedc>\u001b[0m in \u001b[0;36m<cell line: 1>\u001b[0;34m()\u001b[0m\n\u001b[0;32m----> 1\u001b[0;31m \u001b[0ms\u001b[0m\u001b[0;34m[\u001b[0m\u001b[0;36m1\u001b[0m\u001b[0;34m]\u001b[0m \u001b[0;34m=\u001b[0m \u001b[0;34m'd'\u001b[0m\u001b[0;34m\u001b[0m\u001b[0;34m\u001b[0m\u001b[0m\n\u001b[0m",
            "\u001b[0;31mTypeError\u001b[0m: 'str' object does not support item assignment"
          ]
        }
      ]
    },
    {
      "cell_type": "code",
      "source": [
        "l = [1, 2, 3]"
      ],
      "metadata": {
        "id": "sTiTetGyuHip"
      },
      "execution_count": 44,
      "outputs": []
    },
    {
      "cell_type": "code",
      "source": [
        "l[1] = 10"
      ],
      "metadata": {
        "id": "OhSOQAQ8uL8k"
      },
      "execution_count": 45,
      "outputs": []
    },
    {
      "cell_type": "code",
      "source": [
        "l"
      ],
      "metadata": {
        "id": "3lylUr0OuO6X",
        "outputId": "72c52134-09af-417b-f275-b504c70460e2",
        "colab": {
          "base_uri": "https://localhost:8080/"
        }
      },
      "execution_count": 46,
      "outputs": [
        {
          "output_type": "execute_result",
          "data": {
            "text/plain": [
              "[1, 10, 3]"
            ]
          },
          "metadata": {},
          "execution_count": 46
        }
      ]
    },
    {
      "cell_type": "code",
      "source": [
        "id(l)"
      ],
      "metadata": {
        "id": "fKRWnScnuP0A",
        "outputId": "74dc8d0a-08f0-4748-c852-349114f2a579",
        "colab": {
          "base_uri": "https://localhost:8080/"
        }
      },
      "execution_count": 47,
      "outputs": [
        {
          "output_type": "execute_result",
          "data": {
            "text/plain": [
              "136346118550336"
            ]
          },
          "metadata": {},
          "execution_count": 47
        }
      ]
    },
    {
      "cell_type": "code",
      "source": [
        "l[2] = 4"
      ],
      "metadata": {
        "id": "qV11Zn0IuRdb"
      },
      "execution_count": 48,
      "outputs": []
    },
    {
      "cell_type": "code",
      "source": [
        "l"
      ],
      "metadata": {
        "id": "K0MpRRYxuTq2",
        "outputId": "1668df9d-ff0f-46a8-9cd1-81c5c539b82c",
        "colab": {
          "base_uri": "https://localhost:8080/"
        }
      },
      "execution_count": 49,
      "outputs": [
        {
          "output_type": "execute_result",
          "data": {
            "text/plain": [
              "[1, 10, 4]"
            ]
          },
          "metadata": {},
          "execution_count": 49
        }
      ]
    },
    {
      "cell_type": "code",
      "source": [
        "id(l)"
      ],
      "metadata": {
        "id": "XU1ADONQuUn6",
        "outputId": "ca0c448b-6424-47f1-b980-3cf5b780fd6c",
        "colab": {
          "base_uri": "https://localhost:8080/"
        }
      },
      "execution_count": 50,
      "outputs": [
        {
          "output_type": "execute_result",
          "data": {
            "text/plain": [
              "136346118550336"
            ]
          },
          "metadata": {},
          "execution_count": 50
        }
      ]
    },
    {
      "cell_type": "markdown",
      "metadata": {
        "id": "SGnX10Olg8J7"
      },
      "source": [
        "Размеры массивов можно менять:"
      ]
    },
    {
      "cell_type": "code",
      "source": [
        "vec1 = np.array([1, 2, 3, 4, 5, 6, 7, 8, 9, 10, 1, 12])"
      ],
      "metadata": {
        "id": "NmhqbW7Iuh6L"
      },
      "execution_count": 54,
      "outputs": []
    },
    {
      "cell_type": "code",
      "source": [
        "vec1.reshape(-1, 3)"
      ],
      "metadata": {
        "id": "6gKCt8n0umC6",
        "outputId": "2d8aa2c9-24b0-42e9-df40-de4e528f2197",
        "colab": {
          "base_uri": "https://localhost:8080/"
        }
      },
      "execution_count": 56,
      "outputs": [
        {
          "output_type": "execute_result",
          "data": {
            "text/plain": [
              "array([[ 1,  2,  3],\n",
              "       [ 4,  5,  6],\n",
              "       [ 7,  8,  9],\n",
              "       [10,  1, 12]])"
            ]
          },
          "metadata": {},
          "execution_count": 56
        }
      ]
    },
    {
      "cell_type": "code",
      "execution_count": 57,
      "metadata": {
        "id": "THscTAFag8J7",
        "outputId": "0f56f550-4958-4909-ad97-ecd023d5f30e",
        "colab": {
          "base_uri": "https://localhost:8080/"
        }
      },
      "outputs": [
        {
          "output_type": "execute_result",
          "data": {
            "text/plain": [
              "array([[1, 2, 3],\n",
              "       [4, 5, 6]])"
            ]
          },
          "metadata": {},
          "execution_count": 57
        }
      ],
      "source": [
        "vec.reshape(2, 3)"
      ]
    },
    {
      "cell_type": "code",
      "execution_count": 58,
      "metadata": {
        "id": "eVFqC0JJg8J7",
        "outputId": "1e652c8e-49f8-4fdf-c5d9-e0954251fb61",
        "colab": {
          "base_uri": "https://localhost:8080/"
        }
      },
      "outputs": [
        {
          "output_type": "execute_result",
          "data": {
            "text/plain": [
              "array([[1, 2, 3],\n",
              "       [4, 5, 6]])"
            ]
          },
          "metadata": {},
          "execution_count": 58
        }
      ],
      "source": [
        "vec.reshape(-1, 3)"
      ]
    },
    {
      "cell_type": "code",
      "execution_count": 59,
      "metadata": {
        "id": "NIXosfyng8J7",
        "outputId": "1346d34c-efaf-4862-a8ed-c54ca1266b11",
        "colab": {
          "base_uri": "https://localhost:8080/"
        }
      },
      "outputs": [
        {
          "output_type": "execute_result",
          "data": {
            "text/plain": [
              "array([[1, 2, 3],\n",
              "       [4, 5, 6]])"
            ]
          },
          "metadata": {},
          "execution_count": 59
        }
      ],
      "source": [
        "vec.reshape(2, -1)"
      ]
    },
    {
      "cell_type": "code",
      "source": [
        "vec.reshape(6, -1)"
      ],
      "metadata": {
        "id": "PeiAkMAWvP4f",
        "outputId": "19c0f27d-9942-45cf-b93c-a48e90bcdeb4",
        "colab": {
          "base_uri": "https://localhost:8080/"
        }
      },
      "execution_count": 60,
      "outputs": [
        {
          "output_type": "execute_result",
          "data": {
            "text/plain": [
              "array([[1],\n",
              "       [2],\n",
              "       [3],\n",
              "       [4],\n",
              "       [5],\n",
              "       [6]])"
            ]
          },
          "metadata": {},
          "execution_count": 60
        }
      ]
    },
    {
      "cell_type": "code",
      "source": [
        "vec.reshape(-1, 6)"
      ],
      "metadata": {
        "id": "SjN27fw3vUfl",
        "outputId": "bbea415f-cd95-44fd-d7d3-d5a8cd28298d",
        "colab": {
          "base_uri": "https://localhost:8080/"
        }
      },
      "execution_count": 61,
      "outputs": [
        {
          "output_type": "execute_result",
          "data": {
            "text/plain": [
              "array([[1, 2, 3, 4, 5, 6]])"
            ]
          },
          "metadata": {},
          "execution_count": 61
        }
      ]
    },
    {
      "cell_type": "markdown",
      "metadata": {
        "id": "9XyDejKmg8J7"
      },
      "source": [
        "Индексирование:"
      ]
    },
    {
      "cell_type": "code",
      "source": [
        "l = [1, 2, 3, 4, 5]"
      ],
      "metadata": {
        "id": "CD4f9V6avd8V"
      },
      "execution_count": 62,
      "outputs": []
    },
    {
      "cell_type": "code",
      "source": [
        "start = 1\n",
        "stop = 3\n",
        "step = 1"
      ],
      "metadata": {
        "id": "KpBUETv7vj0X"
      },
      "execution_count": 63,
      "outputs": []
    },
    {
      "cell_type": "code",
      "source": [
        "l[start:stop:step]"
      ],
      "metadata": {
        "id": "0iFEqxO2vgiF",
        "outputId": "cad9caa3-2bd2-452e-daaa-db9dc68c32bb",
        "colab": {
          "base_uri": "https://localhost:8080/"
        }
      },
      "execution_count": 64,
      "outputs": [
        {
          "output_type": "execute_result",
          "data": {
            "text/plain": [
              "[2, 3]"
            ]
          },
          "metadata": {},
          "execution_count": 64
        }
      ]
    },
    {
      "cell_type": "code",
      "source": [
        "l[::-1]"
      ],
      "metadata": {
        "id": "WgsZIWSOvok5",
        "outputId": "61dbef6a-dc87-4d30-b560-764b0f7cd220",
        "colab": {
          "base_uri": "https://localhost:8080/"
        }
      },
      "execution_count": 65,
      "outputs": [
        {
          "output_type": "execute_result",
          "data": {
            "text/plain": [
              "[5, 4, 3, 2, 1]"
            ]
          },
          "metadata": {},
          "execution_count": 65
        }
      ]
    },
    {
      "cell_type": "code",
      "source": [
        "l[4:1:-1]"
      ],
      "metadata": {
        "id": "3ApYTH6BvrRE",
        "outputId": "6f811c39-59f1-4f60-f8ca-7a88c2ee6eba",
        "colab": {
          "base_uri": "https://localhost:8080/"
        }
      },
      "execution_count": 67,
      "outputs": [
        {
          "output_type": "execute_result",
          "data": {
            "text/plain": [
              "[5, 4, 3]"
            ]
          },
          "metadata": {},
          "execution_count": 67
        }
      ]
    },
    {
      "cell_type": "code",
      "execution_count": null,
      "metadata": {
        "id": "N3TeTxs_g8J7"
      },
      "outputs": [],
      "source": [
        "vec[:, 1]"
      ]
    },
    {
      "cell_type": "code",
      "execution_count": null,
      "metadata": {
        "id": "Pn9mUh3tg8J7"
      },
      "outputs": [],
      "source": [
        "vec[2, :]"
      ]
    },
    {
      "cell_type": "code",
      "execution_count": null,
      "metadata": {
        "id": "5Ugny7Hcg8J7"
      },
      "outputs": [],
      "source": [
        "vec[1:2, 0]"
      ]
    },
    {
      "cell_type": "code",
      "source": [
        "vec"
      ],
      "metadata": {
        "id": "1DY9-q5Wv2BH",
        "outputId": "4d1892c2-d82a-4e18-ba17-0e29a81299a2",
        "colab": {
          "base_uri": "https://localhost:8080/"
        }
      },
      "execution_count": 69,
      "outputs": [
        {
          "output_type": "execute_result",
          "data": {
            "text/plain": [
              "array([[1, 2],\n",
              "       [3, 4],\n",
              "       [5, 6]])"
            ]
          },
          "metadata": {},
          "execution_count": 69
        }
      ]
    },
    {
      "cell_type": "code",
      "execution_count": 70,
      "metadata": {
        "id": "W6jpohCdg8J7",
        "outputId": "4c8c4449-d339-4d35-ba4c-80d43ffd4d61",
        "colab": {
          "base_uri": "https://localhost:8080/"
        }
      },
      "outputs": [
        {
          "output_type": "execute_result",
          "data": {
            "text/plain": [
              "array([[2, 1],\n",
              "       [6, 5]])"
            ]
          },
          "metadata": {},
          "execution_count": 70
        }
      ],
      "source": [
        "vec[::2, ::-1]"
      ]
    },
    {
      "cell_type": "markdown",
      "metadata": {
        "id": "99ltZs8Og8J7"
      },
      "source": [
        "И, наконец - арифметические операции!"
      ]
    },
    {
      "cell_type": "code",
      "execution_count": 71,
      "metadata": {
        "id": "XP4bS7utg8J7",
        "outputId": "c3c0404d-4929-4dae-ad6a-d00620b20aaa",
        "colab": {
          "base_uri": "https://localhost:8080/"
        }
      },
      "outputs": [
        {
          "output_type": "execute_result",
          "data": {
            "text/plain": [
              "array([[2, 3],\n",
              "       [4, 5],\n",
              "       [6, 7]])"
            ]
          },
          "metadata": {},
          "execution_count": 71
        }
      ],
      "source": [
        "vec + 1"
      ]
    },
    {
      "cell_type": "code",
      "execution_count": 72,
      "metadata": {
        "id": "9aInpE7pg8KD",
        "outputId": "072826d0-d144-4408-ac8f-d80fcf92183c",
        "colab": {
          "base_uri": "https://localhost:8080/"
        }
      },
      "outputs": [
        {
          "output_type": "execute_result",
          "data": {
            "text/plain": [
              "array([[ 2,  4],\n",
              "       [ 6,  8],\n",
              "       [10, 12]])"
            ]
          },
          "metadata": {},
          "execution_count": 72
        }
      ],
      "source": [
        "vec * 2"
      ]
    },
    {
      "cell_type": "code",
      "execution_count": 73,
      "metadata": {
        "id": "AJpremqxg8KD",
        "outputId": "d52873e3-11a0-48b6-df19-7d13d8dcc5a0",
        "colab": {
          "base_uri": "https://localhost:8080/"
        }
      },
      "outputs": [
        {
          "output_type": "execute_result",
          "data": {
            "text/plain": [
              "array([[ 1,  4],\n",
              "       [ 9, 16],\n",
              "       [25, 36]])"
            ]
          },
          "metadata": {},
          "execution_count": 73
        }
      ],
      "source": [
        "vec**2"
      ]
    },
    {
      "cell_type": "code",
      "execution_count": 74,
      "metadata": {
        "id": "JSPKsJxkg8KD",
        "outputId": "28835b66-b992-4994-d417-ed5afac637e1",
        "colab": {
          "base_uri": "https://localhost:8080/"
        }
      },
      "outputs": [
        {
          "output_type": "execute_result",
          "data": {
            "text/plain": [
              "array([[ 2,  6],\n",
              "       [12, 20],\n",
              "       [30, 42]])"
            ]
          },
          "metadata": {},
          "execution_count": 74
        }
      ],
      "source": [
        "vec + vec**2"
      ]
    },
    {
      "cell_type": "code",
      "source": [
        "vec + vec"
      ],
      "metadata": {
        "id": "M7sS7_aawFQg",
        "outputId": "88c91212-af34-419b-f166-7cd9a0af72ee",
        "colab": {
          "base_uri": "https://localhost:8080/"
        }
      },
      "execution_count": 75,
      "outputs": [
        {
          "output_type": "execute_result",
          "data": {
            "text/plain": [
              "array([[ 2,  4],\n",
              "       [ 6,  8],\n",
              "       [10, 12]])"
            ]
          },
          "metadata": {},
          "execution_count": 75
        }
      ]
    },
    {
      "cell_type": "code",
      "execution_count": 76,
      "metadata": {
        "id": "omZfTrjFg8KD",
        "outputId": "3b20814c-15ba-496a-edb7-b06ab2eacc4f",
        "colab": {
          "base_uri": "https://localhost:8080/"
        }
      },
      "outputs": [
        {
          "output_type": "execute_result",
          "data": {
            "text/plain": [
              "array([[  1,   8],\n",
              "       [ 27,  64],\n",
              "       [125, 216]])"
            ]
          },
          "metadata": {},
          "execution_count": 76
        }
      ],
      "source": [
        "vec * vec**2"
      ]
    },
    {
      "cell_type": "code",
      "execution_count": 77,
      "metadata": {
        "id": "_27Pmb4dg8KE",
        "outputId": "7bb18a44-4d0c-40a4-f7af-9bb93611814d",
        "colab": {
          "base_uri": "https://localhost:8080/"
        }
      },
      "outputs": [
        {
          "output_type": "execute_result",
          "data": {
            "text/plain": [
              "array([[ 0.84147098,  0.90929743],\n",
              "       [ 0.14112001, -0.7568025 ],\n",
              "       [-0.95892427, -0.2794155 ]])"
            ]
          },
          "metadata": {},
          "execution_count": 77
        }
      ],
      "source": [
        "np.sin(vec)"
      ]
    },
    {
      "cell_type": "markdown",
      "metadata": {
        "id": "AtH4V4KXg8KE"
      },
      "source": [
        "Матричное умножение:"
      ]
    },
    {
      "cell_type": "code",
      "execution_count": 78,
      "metadata": {
        "id": "nc99iBG6g8KE",
        "outputId": "8f29c736-12c8-480a-b34c-21d274819897",
        "colab": {
          "base_uri": "https://localhost:8080/",
          "height": 175
        }
      },
      "outputs": [
        {
          "output_type": "error",
          "ename": "ValueError",
          "evalue": "shapes (3,2) and (3,2) not aligned: 2 (dim 1) != 3 (dim 0)",
          "traceback": [
            "\u001b[0;31m---------------------------------------------------------------------------\u001b[0m",
            "\u001b[0;31mValueError\u001b[0m                                Traceback (most recent call last)",
            "\u001b[0;32m<ipython-input-78-7fb9f2ab4ca8>\u001b[0m in \u001b[0;36m<cell line: 1>\u001b[0;34m()\u001b[0m\n\u001b[0;32m----> 1\u001b[0;31m \u001b[0mvec\u001b[0m\u001b[0;34m.\u001b[0m\u001b[0mdot\u001b[0m\u001b[0;34m(\u001b[0m\u001b[0mvec\u001b[0m\u001b[0;34m**\u001b[0m\u001b[0;36m2\u001b[0m\u001b[0;34m)\u001b[0m\u001b[0;34m\u001b[0m\u001b[0;34m\u001b[0m\u001b[0m\n\u001b[0m",
            "\u001b[0;31mValueError\u001b[0m: shapes (3,2) and (3,2) not aligned: 2 (dim 1) != 3 (dim 0)"
          ]
        }
      ],
      "source": [
        "vec.dot(vec**2)"
      ]
    },
    {
      "cell_type": "code",
      "execution_count": 79,
      "metadata": {
        "id": "BHw2QnzJg8KE",
        "outputId": "ae781dd2-609c-4956-c144-0e7572541b2c",
        "colab": {
          "base_uri": "https://localhost:8080/"
        }
      },
      "outputs": [
        {
          "output_type": "execute_result",
          "data": {
            "text/plain": [
              "array([[  9,  41,  97],\n",
              "       [ 19,  91, 219],\n",
              "       [ 29, 141, 341]])"
            ]
          },
          "metadata": {},
          "execution_count": 79
        }
      ],
      "source": [
        "vec.dot((vec**2).T)"
      ]
    },
    {
      "cell_type": "code",
      "execution_count": 80,
      "metadata": {
        "id": "wdpJwBwFg8KE",
        "outputId": "7121e859-a558-4c20-db9f-682cfd3d9e9f",
        "colab": {
          "base_uri": "https://localhost:8080/"
        }
      },
      "outputs": [
        {
          "output_type": "execute_result",
          "data": {
            "text/plain": [
              "array([[  9,  41,  97],\n",
              "       [ 19,  91, 219],\n",
              "       [ 29, 141, 341]])"
            ]
          },
          "metadata": {},
          "execution_count": 80
        }
      ],
      "source": [
        "vec @ (vec**2).T"
      ]
    },
    {
      "cell_type": "markdown",
      "metadata": {
        "id": "cYyx7V8Qg8KE"
      },
      "source": [
        "Broadcasting:\n",
        "https://docs.scipy.org/doc/numpy-1.15.0/user/basics.broadcasting.html"
      ]
    },
    {
      "cell_type": "code",
      "execution_count": 81,
      "metadata": {
        "id": "Wm37k5gdg8KE",
        "outputId": "f65fc606-086a-456f-d06b-f7aada14c98b",
        "colab": {
          "base_uri": "https://localhost:8080/"
        }
      },
      "outputs": [
        {
          "output_type": "execute_result",
          "data": {
            "text/plain": [
              "array([[1, 2],\n",
              "       [3, 4],\n",
              "       [5, 6]])"
            ]
          },
          "metadata": {},
          "execution_count": 81
        }
      ],
      "source": [
        "vec"
      ]
    },
    {
      "cell_type": "code",
      "execution_count": 82,
      "metadata": {
        "id": "_gcm2Kxbg8KE",
        "outputId": "ca94e1c7-1cb0-42e0-acbf-571df7a17bad",
        "colab": {
          "base_uri": "https://localhost:8080/"
        }
      },
      "outputs": [
        {
          "output_type": "execute_result",
          "data": {
            "text/plain": [
              "array([[0],\n",
              "       [1],\n",
              "       [2]])"
            ]
          },
          "metadata": {},
          "execution_count": 82
        }
      ],
      "source": [
        "np.arange(3).reshape(3, 1)"
      ]
    },
    {
      "cell_type": "code",
      "execution_count": 83,
      "metadata": {
        "id": "TNXaVA7mg8KE",
        "outputId": "220b501f-685e-4c40-aa09-06d322d641ad",
        "colab": {
          "base_uri": "https://localhost:8080/"
        }
      },
      "outputs": [
        {
          "output_type": "execute_result",
          "data": {
            "text/plain": [
              "array([[1, 2],\n",
              "       [4, 5],\n",
              "       [7, 8]])"
            ]
          },
          "metadata": {},
          "execution_count": 83
        }
      ],
      "source": [
        "vec + np.arange(3).reshape(3, 1)"
      ]
    },
    {
      "cell_type": "markdown",
      "metadata": {
        "id": "yZDXxfBQg8KE"
      },
      "source": [
        "Булевы массивы:"
      ]
    },
    {
      "cell_type": "code",
      "source": [
        "3 % 2"
      ],
      "metadata": {
        "id": "a6bFeLkYwhND",
        "outputId": "26c13572-6212-47e6-84fc-1edf0eb1c88e",
        "colab": {
          "base_uri": "https://localhost:8080/"
        }
      },
      "execution_count": 85,
      "outputs": [
        {
          "output_type": "execute_result",
          "data": {
            "text/plain": [
              "1"
            ]
          },
          "metadata": {},
          "execution_count": 85
        }
      ]
    },
    {
      "cell_type": "code",
      "source": [
        "4 % 2"
      ],
      "metadata": {
        "id": "GZZisl4kwiqu",
        "outputId": "fd5ce6b4-252a-4252-aa0b-906252ba3084",
        "colab": {
          "base_uri": "https://localhost:8080/"
        }
      },
      "execution_count": 86,
      "outputs": [
        {
          "output_type": "execute_result",
          "data": {
            "text/plain": [
              "0"
            ]
          },
          "metadata": {},
          "execution_count": 86
        }
      ]
    },
    {
      "cell_type": "code",
      "source": [
        "vec % 2"
      ],
      "metadata": {
        "id": "iuyl-5tOwoY7",
        "outputId": "c7527beb-a2c7-43a1-da09-1009f6d1dfdc",
        "colab": {
          "base_uri": "https://localhost:8080/"
        }
      },
      "execution_count": 87,
      "outputs": [
        {
          "output_type": "execute_result",
          "data": {
            "text/plain": [
              "array([[1, 0],\n",
              "       [1, 0],\n",
              "       [1, 0]])"
            ]
          },
          "metadata": {},
          "execution_count": 87
        }
      ]
    },
    {
      "cell_type": "code",
      "source": [
        "vec % 2 == 0"
      ],
      "metadata": {
        "id": "BBnDmXLEwslr",
        "outputId": "91c73755-e9ff-4761-905f-860184ad4e73",
        "colab": {
          "base_uri": "https://localhost:8080/"
        }
      },
      "execution_count": 88,
      "outputs": [
        {
          "output_type": "execute_result",
          "data": {
            "text/plain": [
              "array([[False,  True],\n",
              "       [False,  True],\n",
              "       [False,  True]])"
            ]
          },
          "metadata": {},
          "execution_count": 88
        }
      ]
    },
    {
      "cell_type": "code",
      "execution_count": 84,
      "metadata": {
        "id": "rxs7KSBlg8KF",
        "outputId": "857fdc02-5363-448c-b8ed-6b4793047d36",
        "colab": {
          "base_uri": "https://localhost:8080/"
        }
      },
      "outputs": [
        {
          "output_type": "stream",
          "name": "stdout",
          "text": [
            "[[False  True]\n",
            " [False  True]\n",
            " [False  True]]\n"
          ]
        }
      ],
      "source": [
        "is_even = (vec % 2 == 0)\n",
        "print(is_even)"
      ]
    },
    {
      "cell_type": "code",
      "execution_count": 89,
      "metadata": {
        "id": "10CWoDYOg8KF",
        "outputId": "53bf0656-f0e5-44bd-a581-31a290b85966",
        "colab": {
          "base_uri": "https://localhost:8080/"
        }
      },
      "outputs": [
        {
          "output_type": "execute_result",
          "data": {
            "text/plain": [
              "3"
            ]
          },
          "metadata": {},
          "execution_count": 89
        }
      ],
      "source": [
        "np.sum(is_even)"
      ]
    },
    {
      "cell_type": "markdown",
      "metadata": {
        "id": "WkHRXFsTg8KF"
      },
      "source": [
        "Булевы массивы позволяют вытаскивать элементы с True из массива того-же размера"
      ]
    },
    {
      "cell_type": "code",
      "execution_count": 90,
      "metadata": {
        "id": "qc9FVBXgg8KF",
        "outputId": "ce8dd2b1-1e44-496a-fb20-9d6878058809",
        "colab": {
          "base_uri": "https://localhost:8080/"
        }
      },
      "outputs": [
        {
          "output_type": "execute_result",
          "data": {
            "text/plain": [
              "array([2, 4, 6])"
            ]
          },
          "metadata": {},
          "execution_count": 90
        }
      ],
      "source": [
        "vec[vec % 2 == 0]"
      ]
    },
    {
      "cell_type": "markdown",
      "metadata": {
        "id": "YA0BcW7cg8KF"
      },
      "source": [
        "Иногда бывает полезно создавать специфичные массивы. Массив из нулей:"
      ]
    },
    {
      "cell_type": "code",
      "execution_count": 91,
      "metadata": {
        "id": "1kLlp0zig8KF",
        "outputId": "208d6b24-b28d-47c0-9eaf-265bc0f49cf8",
        "colab": {
          "base_uri": "https://localhost:8080/"
        }
      },
      "outputs": [
        {
          "output_type": "execute_result",
          "data": {
            "text/plain": [
              "array([[0., 0., 0.],\n",
              "       [0., 0., 0.]])"
            ]
          },
          "metadata": {},
          "execution_count": 91
        }
      ],
      "source": [
        "np.zeros((2, 3))"
      ]
    },
    {
      "cell_type": "markdown",
      "metadata": {
        "id": "SJIvXBXRg8KF"
      },
      "source": [
        "Массив из единиц:"
      ]
    },
    {
      "cell_type": "code",
      "execution_count": 92,
      "metadata": {
        "id": "N66s0KXAg8KF",
        "outputId": "bdf7051a-8413-4d15-bd74-1f3bfc274c63",
        "colab": {
          "base_uri": "https://localhost:8080/"
        }
      },
      "outputs": [
        {
          "output_type": "execute_result",
          "data": {
            "text/plain": [
              "array([[1., 1.],\n",
              "       [1., 1.],\n",
              "       [1., 1.]])"
            ]
          },
          "metadata": {},
          "execution_count": 92
        }
      ],
      "source": [
        "np.ones((3, 2))"
      ]
    },
    {
      "cell_type": "markdown",
      "metadata": {
        "id": "CVkzGZY8g8KF"
      },
      "source": [
        "Единичная матрица:"
      ]
    },
    {
      "cell_type": "code",
      "execution_count": 93,
      "metadata": {
        "id": "ZTac92EVg8KF",
        "outputId": "8b927950-25ba-4b0e-ca7e-badbd3bca8da",
        "colab": {
          "base_uri": "https://localhost:8080/"
        }
      },
      "outputs": [
        {
          "output_type": "execute_result",
          "data": {
            "text/plain": [
              "array([[1., 0., 0., 0., 0.],\n",
              "       [0., 1., 0., 0., 0.],\n",
              "       [0., 0., 1., 0., 0.],\n",
              "       [0., 0., 0., 1., 0.],\n",
              "       [0., 0., 0., 0., 1.]])"
            ]
          },
          "metadata": {},
          "execution_count": 93
        }
      ],
      "source": [
        "np.identity(5)"
      ]
    },
    {
      "cell_type": "markdown",
      "metadata": {
        "id": "9o_v7z1ig8KF"
      },
      "source": [
        "Массивы можно объединять:"
      ]
    },
    {
      "cell_type": "code",
      "execution_count": 94,
      "metadata": {
        "id": "e3I-1Pm3g8KF",
        "outputId": "c672f0b4-0922-4a0c-9a3d-329f69d28588",
        "colab": {
          "base_uri": "https://localhost:8080/"
        }
      },
      "outputs": [
        {
          "output_type": "execute_result",
          "data": {
            "text/plain": [
              "array([[1, 2],\n",
              "       [3, 4],\n",
              "       [5, 6]])"
            ]
          },
          "metadata": {},
          "execution_count": 94
        }
      ],
      "source": [
        "vec"
      ]
    },
    {
      "cell_type": "code",
      "execution_count": 95,
      "metadata": {
        "id": "ERNCFEBgg8KG",
        "outputId": "3c27c723-dfd7-4e6c-9659-983884728f98",
        "colab": {
          "base_uri": "https://localhost:8080/"
        }
      },
      "outputs": [
        {
          "output_type": "execute_result",
          "data": {
            "text/plain": [
              "array([[1., 2., 0., 0.],\n",
              "       [3., 4., 0., 0.],\n",
              "       [5., 6., 0., 0.]])"
            ]
          },
          "metadata": {},
          "execution_count": 95
        }
      ],
      "source": [
        "np.hstack((vec, np.zeros(vec.shape)))"
      ]
    },
    {
      "cell_type": "code",
      "execution_count": 96,
      "metadata": {
        "id": "ru5b5Pq2g8KG",
        "outputId": "d8781e2d-864e-4145-9bf4-8e925673b772",
        "colab": {
          "base_uri": "https://localhost:8080/"
        }
      },
      "outputs": [
        {
          "output_type": "execute_result",
          "data": {
            "text/plain": [
              "array([[1., 2.],\n",
              "       [3., 4.],\n",
              "       [5., 6.],\n",
              "       [0., 0.],\n",
              "       [0., 0.],\n",
              "       [0., 0.]])"
            ]
          },
          "metadata": {},
          "execution_count": 96
        }
      ],
      "source": [
        "np.vstack((vec, np.zeros(vec.shape)))"
      ]
    },
    {
      "cell_type": "markdown",
      "metadata": {
        "id": "svYoVnSMg8KG"
      },
      "source": [
        "Генерация случайных чисел:"
      ]
    },
    {
      "cell_type": "code",
      "execution_count": 97,
      "metadata": {
        "id": "bLvJzl2zg8KG",
        "outputId": "f4fea626-25cd-4357-d6c4-498d742e25f9",
        "colab": {
          "base_uri": "https://localhost:8080/"
        }
      },
      "outputs": [
        {
          "output_type": "execute_result",
          "data": {
            "text/plain": [
              "array([[0.25517878, 0.07898633, 0.08779205],\n",
              "       [0.34393702, 0.7469879 , 0.08959037]])"
            ]
          },
          "metadata": {},
          "execution_count": 97
        }
      ],
      "source": [
        "np.random.rand(2, 3)"
      ]
    },
    {
      "cell_type": "code",
      "execution_count": 98,
      "metadata": {
        "id": "CuB3U7gMg8KG",
        "outputId": "743eb93c-718e-4405-c98c-bebd43d11557",
        "colab": {
          "base_uri": "https://localhost:8080/"
        }
      },
      "outputs": [
        {
          "output_type": "execute_result",
          "data": {
            "text/plain": [
              "array([[0.90348221, 0.39308051, 0.62396996],\n",
              "       [0.6378774 , 0.88049907, 0.29917202]])"
            ]
          },
          "metadata": {},
          "execution_count": 98
        }
      ],
      "source": [
        "np.random.seed(2019)\n",
        "np.random.rand(2, 3)"
      ]
    },
    {
      "cell_type": "code",
      "execution_count": 99,
      "metadata": {
        "id": "wi3mUOCOg8KG",
        "outputId": "bdece026-98d8-4530-ba2c-45077f37170a",
        "colab": {
          "base_uri": "https://localhost:8080/"
        }
      },
      "outputs": [
        {
          "output_type": "execute_result",
          "data": {
            "text/plain": [
              "array([[ 0.57376143,  0.28772767],\n",
              "       [-0.23563426,  0.95349024],\n",
              "       [-1.6896253 , -0.34494271]])"
            ]
          },
          "metadata": {},
          "execution_count": 99
        }
      ],
      "source": [
        "np.random.randn(3, 2)"
      ]
    },
    {
      "cell_type": "code",
      "execution_count": null,
      "metadata": {
        "id": "02pi-g5Qg8KG"
      },
      "outputs": [],
      "source": [
        "np.random.normal(2, 1, size=3)"
      ]
    },
    {
      "cell_type": "code",
      "execution_count": null,
      "metadata": {
        "id": "ecWjZ0GFg8KG"
      },
      "outputs": [],
      "source": [
        "np.random.randint(5, 10, size=3)"
      ]
    },
    {
      "cell_type": "markdown",
      "metadata": {
        "id": "chj77Vzzg8KG"
      },
      "source": [
        "Почему вообще используют `numpy`?"
      ]
    },
    {
      "cell_type": "code",
      "execution_count": 100,
      "metadata": {
        "id": "xdzX0GMVg8KG"
      },
      "outputs": [],
      "source": [
        "n = 300\n",
        "A = np.random.rand(n, n)\n",
        "B = np.random.rand(n, n)"
      ]
    },
    {
      "cell_type": "code",
      "execution_count": 101,
      "metadata": {
        "id": "yHPCUltVg8KG",
        "outputId": "4c94e5a9-a2b5-4fd8-91e4-f947a22b3c83",
        "colab": {
          "base_uri": "https://localhost:8080/"
        }
      },
      "outputs": [
        {
          "output_type": "stream",
          "name": "stdout",
          "text": [
            "CPU times: user 27.6 s, sys: 639 µs, total: 27.6 s\n",
            "Wall time: 28.3 s\n"
          ]
        }
      ],
      "source": [
        "%%time\n",
        "C = np.zeros((n, n))\n",
        "for i in range(n):\n",
        "    for j in range(n):\n",
        "        for k in range(n):\n",
        "            C[i, j] += A[i, k] * B[k, j]"
      ]
    },
    {
      "cell_type": "code",
      "execution_count": 102,
      "metadata": {
        "id": "WEG83bDYg8KG",
        "outputId": "9662ebec-c6a4-4c92-e6bf-4a226c587fa5",
        "colab": {
          "base_uri": "https://localhost:8080/"
        }
      },
      "outputs": [
        {
          "output_type": "stream",
          "name": "stdout",
          "text": [
            "CPU times: user 8.18 ms, sys: 0 ns, total: 8.18 ms\n",
            "Wall time: 19.1 ms\n"
          ]
        }
      ],
      "source": [
        "%%time\n",
        "C = A @ B"
      ]
    },
    {
      "cell_type": "markdown",
      "metadata": {
        "id": "MvaywNGdg8KH"
      },
      "source": [
        "### Задания для самостоятельного решения"
      ]
    },
    {
      "cell_type": "markdown",
      "metadata": {
        "id": "QpDzUdDCg8KH"
      },
      "source": [
        "1. Развернуть одномерный массив (сделать так, чтобы его элементы шли в обратном порядке).\n",
        "2. Найти максимальный нечетный элемент в массиве.\n",
        "3. Замените все нечетные элементы массива на ваше любимое число.\n",
        "4. Создайте массив первых n нечетных чисел, записанных в порядке убывания. Например, если `n=5`, то ответом будет `array([9, 7, 5, 3, 1])`. *Функции, которые могут пригодиться при решении: `.arange()`*\n",
        "5. Вычислите самое близкое и самое дальнее числа к данному в рассматриваемом массиве чисел. Например, если на вход поступают массив `array([0, 1, 2, 3, 4])` и число 1.33, то ответом будет `(1, 4)`. _Функции, которые могут пригодиться при решении: `.abs()`, `.argmax()`, `.argmin()`_\n",
        "6. Вычисляющую первообразную заданного полинома (в качестве константы возьмите ваше любимое число). Например, если на вход поступает массив коэффициентов `array([4, 6, 0, 1])`, что соответствует полиному $4x^3 + 6x^2 + 1$, на выходе получается массив коэффициентов `array([1, 2, 0, 1, -2])`, соответствующий полиному $x^4 + 2x^3 + x - 2$. _Функции, которые могут пригодиться при решении: `.append()`_\n",
        "7. Пользуясь пунктом 6, посчитайте первую производную для заданного полинома в заданной точке."
      ]
    },
    {
      "cell_type": "code",
      "execution_count": null,
      "metadata": {
        "id": "Rg6ZChizg8KH"
      },
      "outputs": [],
      "source": [
        "# ┌(▼▼メ)┘ └(メ▼▼)┐"
      ]
    }
  ],
  "metadata": {
    "kernelspec": {
      "display_name": "Python 3",
      "language": "python",
      "name": "python3"
    },
    "language_info": {
      "codemirror_mode": {
        "name": "ipython",
        "version": 3
      },
      "file_extension": ".py",
      "mimetype": "text/x-python",
      "name": "python",
      "nbconvert_exporter": "python",
      "pygments_lexer": "ipython3",
      "version": "3.8.8"
    },
    "colab": {
      "provenance": []
    }
  },
  "nbformat": 4,
  "nbformat_minor": 0
}